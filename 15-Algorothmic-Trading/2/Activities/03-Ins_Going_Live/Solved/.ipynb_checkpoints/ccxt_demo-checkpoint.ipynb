{
 "cells": [
  {
   "cell_type": "markdown",
   "metadata": {},
   "source": [
    "# Going Live with CCXT"
   ]
  },
  {
   "cell_type": "markdown",
   "metadata": {},
   "source": [
    "### Import Libraries and Dependencies"
   ]
  },
  {
   "cell_type": "code",
   "execution_count": 1,
   "metadata": {},
   "outputs": [],
   "source": [
    "# Import libraries and dependencies\n",
    "import ccxt\n",
    "import os\n",
    "import pandas as pd\n",
    "from dotenv import load_dotenv"
   ]
  },
  {
   "cell_type": "markdown",
   "metadata": {},
   "source": [
    "### Import Environment Variables"
   ]
  },
  {
   "cell_type": "code",
   "execution_count": 2,
   "metadata": {
    "tags": []
   },
   "outputs": [
    {
     "output_type": "stream",
     "name": "stdout",
     "text": "Kraken key data type: <class 'str'>\nKraken secren data type: <class 'str'>\n"
    }
   ],
   "source": [
    "# Load environment variables\n",
    "load_dotenv()\n",
    "\n",
    "# Import environment variables\n",
    "kraken_public_key = os.getenv(\"KRAKEN_PUBLIC_KEY\")\n",
    "kraken_secret_key = os.getenv(\"KRAKEN_SECRET_KEY\")\n",
    "\n",
    "# Verify that environment variables were loaded\n",
    "print(f\"Kraken key data type: {type(kraken_public_key)}\")\n",
    "print(f\"Kraken secren data type: {type(kraken_secret_key)}\")"
   ]
  },
  {
   "cell_type": "markdown",
   "metadata": {},
   "source": [
    "### Set Public and Private Keys for Kraken Exchange via the CCXT library"
   ]
  },
  {
   "cell_type": "code",
   "execution_count": 3,
   "metadata": {},
   "outputs": [],
   "source": [
    "# Set the public and private keys for the API\n",
    "exchange = ccxt.kraken({\n",
    "    'apiKey': kraken_public_key,\n",
    "    'secret': kraken_secret_key,\n",
    "})"
   ]
  },
  {
   "cell_type": "markdown",
   "metadata": {},
   "source": [
    "### Connect to Kraken and Load Available Cyptocurrency Data"
   ]
  },
  {
   "cell_type": "code",
   "execution_count": 4,
   "metadata": {},
   "outputs": [
    {
     "output_type": "execute_result",
     "data": {
      "text/plain": "                                                    ADA/BTC  \\\npercentage                                               True   \ntierBased                                                True   \ntaker                                                  0.0026   \nmaker                                                  0.0016   \ntiers       {'taker': [[0, 0.0026], [50000, 0.0024], [1000...   \nprecision                           {'amount': 8, 'price': 8}   \nlimits      {'amount': {'min': 50.0, 'max': 100000000.0}, ...   \nid                                                     ADAXBT   \nsymbol                                                ADA/BTC   \nbase                                                      ADA   \nquote                                                     BTC   \nbaseId                                                    ADA   \nquoteId                                                  XXBT   \ndarkpool                                                False   \ninfo        {'altname': 'ADAXBT', 'wsname': 'ADA/XBT', 'ac...   \naltname                                                ADAXBT   \nactive                                                   True   \n\n                                                     ALGO/ETH  \\\npercentage                                               True   \ntierBased                                                True   \ntaker                                                  0.0026   \nmaker                                                  0.0016   \ntiers       {'taker': [[0, 0.0026], [50000, 0.0024], [1000...   \nprecision                           {'amount': 8, 'price': 7}   \nlimits      {'amount': {'min': 50.0, 'max': 100000000.0}, ...   \nid                                                    ALGOETH   \nsymbol                                               ALGO/ETH   \nbase                                                     ALGO   \nquote                                                     ETH   \nbaseId                                                   ALGO   \nquoteId                                                  XETH   \ndarkpool                                                False   \ninfo        {'altname': 'ALGOETH', 'wsname': 'ALGO/ETH', '...   \naltname                                               ALGOETH   \nactive                                                   True   \n\n                                                     ALGO/EUR  \\\npercentage                                               True   \ntierBased                                                True   \ntaker                                                  0.0026   \nmaker                                                  0.0016   \ntiers       {'taker': [[0, 0.0026], [50000, 0.0024], [1000...   \nprecision                           {'amount': 8, 'price': 5}   \nlimits      {'amount': {'min': 50.0, 'max': 100000000.0}, ...   \nid                                                    ALGOEUR   \nsymbol                                               ALGO/EUR   \nbase                                                     ALGO   \nquote                                                     EUR   \nbaseId                                                   ALGO   \nquoteId                                                  ZEUR   \ndarkpool                                                False   \ninfo        {'altname': 'ALGOEUR', 'wsname': 'ALGO/EUR', '...   \naltname                                               ALGOEUR   \nactive                                                   True   \n\n                                                     ALGO/USD  \\\npercentage                                               True   \ntierBased                                                True   \ntaker                                                  0.0026   \nmaker                                                  0.0016   \ntiers       {'taker': [[0, 0.0026], [50000, 0.0024], [1000...   \nprecision                           {'amount': 8, 'price': 5}   \nlimits      {'amount': {'min': 50.0, 'max': 100000000.0}, ...   \nid                                                    ALGOUSD   \nsymbol                                               ALGO/USD   \nbase                                                     ALGO   \nquote                                                     USD   \nbaseId                                                   ALGO   \nquoteId                                                  ZUSD   \ndarkpool                                                False   \ninfo        {'altname': 'ALGOUSD', 'wsname': 'ALGO/USD', '...   \naltname                                               ALGOUSD   \nactive                                                   True   \n\n                                                     ALGO/BTC  \\\npercentage                                               True   \ntierBased                                                True   \ntaker                                                  0.0026   \nmaker                                                  0.0016   \ntiers       {'taker': [[0, 0.0026], [50000, 0.0024], [1000...   \nprecision                           {'amount': 8, 'price': 8}   \nlimits      {'amount': {'min': 50.0, 'max': 100000000.0}, ...   \nid                                                    ALGOXBT   \nsymbol                                               ALGO/BTC   \nbase                                                     ALGO   \nquote                                                     BTC   \nbaseId                                                   ALGO   \nquoteId                                                  XXBT   \ndarkpool                                                False   \ninfo        {'altname': 'ALGOXBT', 'wsname': 'ALGO/XBT', '...   \naltname                                               ALGOXBT   \nactive                                                   True   \n\n                                                     ATOM/ETH  \\\npercentage                                               True   \ntierBased                                                True   \ntaker                                                  0.0026   \nmaker                                                  0.0016   \ntiers       {'taker': [[0, 0.0026], [50000, 0.0024], [1000...   \nprecision                           {'amount': 8, 'price': 6}   \nlimits      {'amount': {'min': 1.0, 'max': 100000000.0}, '...   \nid                                                    ATOMETH   \nsymbol                                               ATOM/ETH   \nbase                                                     ATOM   \nquote                                                     ETH   \nbaseId                                                   ATOM   \nquoteId                                                  XETH   \ndarkpool                                                False   \ninfo        {'altname': 'ATOMETH', 'wsname': 'ATOM/ETH', '...   \naltname                                               ATOMETH   \nactive                                                   True   \n\n                                                     ATOM/EUR  ...  \\\npercentage                                               True  ...   \ntierBased                                                True  ...   \ntaker                                                  0.0026  ...   \nmaker                                                  0.0016  ...   \ntiers       {'taker': [[0, 0.0026], [50000, 0.0024], [1000...  ...   \nprecision                           {'amount': 8, 'price': 4}  ...   \nlimits      {'amount': {'min': 1.0, 'max': 100000000.0}, '...  ...   \nid                                                    ATOMEUR  ...   \nsymbol                                               ATOM/EUR  ...   \nbase                                                     ATOM  ...   \nquote                                                     EUR  ...   \nbaseId                                                   ATOM  ...   \nquoteId                                                  ZEUR  ...   \ndarkpool                                                False  ...   \ninfo        {'altname': 'ATOMEUR', 'wsname': 'ATOM/EUR', '...  ...   \naltname                                               ATOMEUR  ...   \nactive                                                   True  ...   \n\n                                                      XRP/EUR  \\\npercentage                                               True   \ntierBased                                                True   \ntaker                                                  0.0026   \nmaker                                                  0.0016   \ntiers       {'taker': [[0, 0.0026], [50000, 0.0024], [1000...   \nprecision                           {'amount': 8, 'price': 5}   \nlimits      {'amount': {'min': 30.0, 'max': 100000000.0}, ...   \nid                                                   XXRPZEUR   \nsymbol                                                XRP/EUR   \nbase                                                      XRP   \nquote                                                     EUR   \nbaseId                                                   XXRP   \nquoteId                                                  ZEUR   \ndarkpool                                                False   \ninfo        {'altname': 'XRPEUR', 'wsname': 'XRP/EUR', 'ac...   \naltname                                                XRPEUR   \nactive                                                   True   \n\n                                                      XRP/JPY  \\\npercentage                                               True   \ntierBased                                                True   \ntaker                                                  0.0026   \nmaker                                                  0.0016   \ntiers       {'taker': [[0, 0.0026], [50000, 0.0024], [1000...   \nprecision                           {'amount': 8, 'price': 3}   \nlimits      {'amount': {'min': 30.0, 'max': 100000000.0}, ...   \nid                                                   XXRPZJPY   \nsymbol                                                XRP/JPY   \nbase                                                      XRP   \nquote                                                     JPY   \nbaseId                                                   XXRP   \nquoteId                                                  ZJPY   \ndarkpool                                                False   \ninfo        {'altname': 'XRPJPY', 'wsname': 'XRP/JPY', 'ac...   \naltname                                                XRPJPY   \nactive                                                   True   \n\n                                                      XRP/USD  \\\npercentage                                               True   \ntierBased                                                True   \ntaker                                                  0.0026   \nmaker                                                  0.0016   \ntiers       {'taker': [[0, 0.0026], [50000, 0.0024], [1000...   \nprecision                           {'amount': 8, 'price': 5}   \nlimits      {'amount': {'min': 30.0, 'max': 100000000.0}, ...   \nid                                                   XXRPZUSD   \nsymbol                                                XRP/USD   \nbase                                                      XRP   \nquote                                                     USD   \nbaseId                                                   XXRP   \nquoteId                                                  ZUSD   \ndarkpool                                                False   \ninfo        {'altname': 'XRPUSD', 'wsname': 'XRP/USD', 'ac...   \naltname                                                XRPUSD   \nactive                                                   True   \n\n                                                      ZEC/BTC  \\\npercentage                                               True   \ntierBased                                                True   \ntaker                                                  0.0026   \nmaker                                                  0.0016   \ntiers       {'taker': [[0, 0.0026], [50000, 0.0024], [1000...   \nprecision                           {'amount': 8, 'price': 5}   \nlimits      {'amount': {'min': 0.03, 'max': 100000000.0}, ...   \nid                                                   XZECXXBT   \nsymbol                                                ZEC/BTC   \nbase                                                      ZEC   \nquote                                                     BTC   \nbaseId                                                   XZEC   \nquoteId                                                  XXBT   \ndarkpool                                                False   \ninfo        {'altname': 'ZECXBT', 'wsname': 'ZEC/XBT', 'ac...   \naltname                                                ZECXBT   \nactive                                                   True   \n\n                                                      ZEC/EUR  \\\npercentage                                               True   \ntierBased                                                True   \ntaker                                                  0.0026   \nmaker                                                  0.0016   \ntiers       {'taker': [[0, 0.0026], [50000, 0.0024], [1000...   \nprecision                           {'amount': 8, 'price': 3}   \nlimits      {'amount': {'min': 0.03, 'max': 100000000.0}, ...   \nid                                                   XZECZEUR   \nsymbol                                                ZEC/EUR   \nbase                                                      ZEC   \nquote                                                     EUR   \nbaseId                                                   XZEC   \nquoteId                                                  ZEUR   \ndarkpool                                                False   \ninfo        {'altname': 'ZECEUR', 'wsname': 'ZEC/EUR', 'ac...   \naltname                                                ZECEUR   \nactive                                                   True   \n\n                                                      ZEC/USD  \\\npercentage                                               True   \ntierBased                                                True   \ntaker                                                  0.0026   \nmaker                                                  0.0016   \ntiers       {'taker': [[0, 0.0026], [50000, 0.0024], [1000...   \nprecision                           {'amount': 8, 'price': 2}   \nlimits      {'amount': {'min': 0.03, 'max': 100000000.0}, ...   \nid                                                   XZECZUSD   \nsymbol                                                ZEC/USD   \nbase                                                      ZEC   \nquote                                                     USD   \nbaseId                                                   XZEC   \nquoteId                                                  ZUSD   \ndarkpool                                                False   \ninfo        {'altname': 'ZECUSD', 'wsname': 'ZEC/USD', 'ac...   \naltname                                                ZECUSD   \nactive                                                   True   \n\n                                                      EUR/USD  \\\npercentage                                               True   \ntierBased                                                True   \ntaker                                                   0.002   \nmaker                                                   0.002   \ntiers       {'taker': [[0, 0.0026], [50000, 0.0024], [1000...   \nprecision                           {'amount': 8, 'price': 5}   \nlimits      {'amount': {'min': 10.0, 'max': 100000000.0}, ...   \nid                                                   ZEURZUSD   \nsymbol                                                EUR/USD   \nbase                                                      EUR   \nquote                                                     USD   \nbaseId                                                   ZEUR   \nquoteId                                                  ZUSD   \ndarkpool                                                False   \ninfo        {'altname': 'EURUSD', 'wsname': 'EUR/USD', 'ac...   \naltname                                                EURUSD   \nactive                                                   True   \n\n                                                      GBP/USD  \\\npercentage                                               True   \ntierBased                                                True   \ntaker                                                   0.002   \nmaker                                                   0.002   \ntiers       {'taker': [[0, 0.0026], [50000, 0.0024], [1000...   \nprecision                           {'amount': 8, 'price': 5}   \nlimits      {'amount': {'min': 10.0, 'max': 100000000.0}, ...   \nid                                                   ZGBPZUSD   \nsymbol                                                GBP/USD   \nbase                                                      GBP   \nquote                                                     USD   \nbaseId                                                   ZGBP   \nquoteId                                                  ZUSD   \ndarkpool                                                False   \ninfo        {'altname': 'GBPUSD', 'wsname': 'GBP/USD', 'ac...   \naltname                                                GBPUSD   \nactive                                                   True   \n\n                                                      USD/CAD  \\\npercentage                                               True   \ntierBased                                                True   \ntaker                                                   0.002   \nmaker                                                   0.002   \ntiers       {'taker': [[0, 0.0026], [50000, 0.0024], [1000...   \nprecision                           {'amount': 8, 'price': 5}   \nlimits      {'amount': {'min': 10.0, 'max': 100000000.0}, ...   \nid                                                   ZUSDZCAD   \nsymbol                                                USD/CAD   \nbase                                                      USD   \nquote                                                     CAD   \nbaseId                                                   ZUSD   \nquoteId                                                  ZCAD   \ndarkpool                                                False   \ninfo        {'altname': 'USDCAD', 'wsname': 'USD/CAD', 'ac...   \naltname                                                USDCAD   \nactive                                                   True   \n\n                                                      USD/JPY  \npercentage                                               True  \ntierBased                                                True  \ntaker                                                   0.002  \nmaker                                                   0.002  \ntiers       {'taker': [[0, 0.0026], [50000, 0.0024], [1000...  \nprecision                           {'amount': 8, 'price': 3}  \nlimits      {'amount': {'min': 10.0, 'max': 100000000.0}, ...  \nid                                                   ZUSDZJPY  \nsymbol                                                USD/JPY  \nbase                                                      USD  \nquote                                                     JPY  \nbaseId                                                   ZUSD  \nquoteId                                                  ZJPY  \ndarkpool                                                False  \ninfo        {'altname': 'USDJPY', 'wsname': 'USD/JPY', 'ac...  \naltname                                                USDJPY  \nactive                                                   True  \n\n[17 rows x 203 columns]",
      "text/html": "<div>\n<style scoped>\n    .dataframe tbody tr th:only-of-type {\n        vertical-align: middle;\n    }\n\n    .dataframe tbody tr th {\n        vertical-align: top;\n    }\n\n    .dataframe thead th {\n        text-align: right;\n    }\n</style>\n<table border=\"1\" class=\"dataframe\">\n  <thead>\n    <tr style=\"text-align: right;\">\n      <th></th>\n      <th>ADA/ETH</th>\n      <th>ADA/EUR</th>\n      <th>ADA/USD</th>\n      <th>ADA/BTC</th>\n      <th>ALGO/ETH</th>\n      <th>ALGO/EUR</th>\n      <th>ALGO/USD</th>\n      <th>ALGO/BTC</th>\n      <th>ATOM/ETH</th>\n      <th>ATOM/EUR</th>\n      <th>...</th>\n      <th>XRP/EUR</th>\n      <th>XRP/JPY</th>\n      <th>XRP/USD</th>\n      <th>ZEC/BTC</th>\n      <th>ZEC/EUR</th>\n      <th>ZEC/USD</th>\n      <th>EUR/USD</th>\n      <th>GBP/USD</th>\n      <th>USD/CAD</th>\n      <th>USD/JPY</th>\n    </tr>\n  </thead>\n  <tbody>\n    <tr>\n      <th>percentage</th>\n      <td>True</td>\n      <td>True</td>\n      <td>True</td>\n      <td>True</td>\n      <td>True</td>\n      <td>True</td>\n      <td>True</td>\n      <td>True</td>\n      <td>True</td>\n      <td>True</td>\n      <td>...</td>\n      <td>True</td>\n      <td>True</td>\n      <td>True</td>\n      <td>True</td>\n      <td>True</td>\n      <td>True</td>\n      <td>True</td>\n      <td>True</td>\n      <td>True</td>\n      <td>True</td>\n    </tr>\n    <tr>\n      <th>tierBased</th>\n      <td>True</td>\n      <td>True</td>\n      <td>True</td>\n      <td>True</td>\n      <td>True</td>\n      <td>True</td>\n      <td>True</td>\n      <td>True</td>\n      <td>True</td>\n      <td>True</td>\n      <td>...</td>\n      <td>True</td>\n      <td>True</td>\n      <td>True</td>\n      <td>True</td>\n      <td>True</td>\n      <td>True</td>\n      <td>True</td>\n      <td>True</td>\n      <td>True</td>\n      <td>True</td>\n    </tr>\n    <tr>\n      <th>taker</th>\n      <td>0.0026</td>\n      <td>0.0026</td>\n      <td>0.0026</td>\n      <td>0.0026</td>\n      <td>0.0026</td>\n      <td>0.0026</td>\n      <td>0.0026</td>\n      <td>0.0026</td>\n      <td>0.0026</td>\n      <td>0.0026</td>\n      <td>...</td>\n      <td>0.0026</td>\n      <td>0.0026</td>\n      <td>0.0026</td>\n      <td>0.0026</td>\n      <td>0.0026</td>\n      <td>0.0026</td>\n      <td>0.002</td>\n      <td>0.002</td>\n      <td>0.002</td>\n      <td>0.002</td>\n    </tr>\n    <tr>\n      <th>maker</th>\n      <td>0.0016</td>\n      <td>0.0016</td>\n      <td>0.0016</td>\n      <td>0.0016</td>\n      <td>0.0016</td>\n      <td>0.0016</td>\n      <td>0.0016</td>\n      <td>0.0016</td>\n      <td>0.0016</td>\n      <td>0.0016</td>\n      <td>...</td>\n      <td>0.0016</td>\n      <td>0.0016</td>\n      <td>0.0016</td>\n      <td>0.0016</td>\n      <td>0.0016</td>\n      <td>0.0016</td>\n      <td>0.002</td>\n      <td>0.002</td>\n      <td>0.002</td>\n      <td>0.002</td>\n    </tr>\n    <tr>\n      <th>tiers</th>\n      <td>{'taker': [[0, 0.0026], [50000, 0.0024], [1000...</td>\n      <td>{'taker': [[0, 0.0026], [50000, 0.0024], [1000...</td>\n      <td>{'taker': [[0, 0.0026], [50000, 0.0024], [1000...</td>\n      <td>{'taker': [[0, 0.0026], [50000, 0.0024], [1000...</td>\n      <td>{'taker': [[0, 0.0026], [50000, 0.0024], [1000...</td>\n      <td>{'taker': [[0, 0.0026], [50000, 0.0024], [1000...</td>\n      <td>{'taker': [[0, 0.0026], [50000, 0.0024], [1000...</td>\n      <td>{'taker': [[0, 0.0026], [50000, 0.0024], [1000...</td>\n      <td>{'taker': [[0, 0.0026], [50000, 0.0024], [1000...</td>\n      <td>{'taker': [[0, 0.0026], [50000, 0.0024], [1000...</td>\n      <td>...</td>\n      <td>{'taker': [[0, 0.0026], [50000, 0.0024], [1000...</td>\n      <td>{'taker': [[0, 0.0026], [50000, 0.0024], [1000...</td>\n      <td>{'taker': [[0, 0.0026], [50000, 0.0024], [1000...</td>\n      <td>{'taker': [[0, 0.0026], [50000, 0.0024], [1000...</td>\n      <td>{'taker': [[0, 0.0026], [50000, 0.0024], [1000...</td>\n      <td>{'taker': [[0, 0.0026], [50000, 0.0024], [1000...</td>\n      <td>{'taker': [[0, 0.0026], [50000, 0.0024], [1000...</td>\n      <td>{'taker': [[0, 0.0026], [50000, 0.0024], [1000...</td>\n      <td>{'taker': [[0, 0.0026], [50000, 0.0024], [1000...</td>\n      <td>{'taker': [[0, 0.0026], [50000, 0.0024], [1000...</td>\n    </tr>\n    <tr>\n      <th>precision</th>\n      <td>{'amount': 8, 'price': 7}</td>\n      <td>{'amount': 8, 'price': 6}</td>\n      <td>{'amount': 8, 'price': 6}</td>\n      <td>{'amount': 8, 'price': 8}</td>\n      <td>{'amount': 8, 'price': 7}</td>\n      <td>{'amount': 8, 'price': 5}</td>\n      <td>{'amount': 8, 'price': 5}</td>\n      <td>{'amount': 8, 'price': 8}</td>\n      <td>{'amount': 8, 'price': 6}</td>\n      <td>{'amount': 8, 'price': 4}</td>\n      <td>...</td>\n      <td>{'amount': 8, 'price': 5}</td>\n      <td>{'amount': 8, 'price': 3}</td>\n      <td>{'amount': 8, 'price': 5}</td>\n      <td>{'amount': 8, 'price': 5}</td>\n      <td>{'amount': 8, 'price': 3}</td>\n      <td>{'amount': 8, 'price': 2}</td>\n      <td>{'amount': 8, 'price': 5}</td>\n      <td>{'amount': 8, 'price': 5}</td>\n      <td>{'amount': 8, 'price': 5}</td>\n      <td>{'amount': 8, 'price': 3}</td>\n    </tr>\n    <tr>\n      <th>limits</th>\n      <td>{'amount': {'min': 50.0, 'max': 100000000.0}, ...</td>\n      <td>{'amount': {'min': 50.0, 'max': 100000000.0}, ...</td>\n      <td>{'amount': {'min': 50.0, 'max': 100000000.0}, ...</td>\n      <td>{'amount': {'min': 50.0, 'max': 100000000.0}, ...</td>\n      <td>{'amount': {'min': 50.0, 'max': 100000000.0}, ...</td>\n      <td>{'amount': {'min': 50.0, 'max': 100000000.0}, ...</td>\n      <td>{'amount': {'min': 50.0, 'max': 100000000.0}, ...</td>\n      <td>{'amount': {'min': 50.0, 'max': 100000000.0}, ...</td>\n      <td>{'amount': {'min': 1.0, 'max': 100000000.0}, '...</td>\n      <td>{'amount': {'min': 1.0, 'max': 100000000.0}, '...</td>\n      <td>...</td>\n      <td>{'amount': {'min': 30.0, 'max': 100000000.0}, ...</td>\n      <td>{'amount': {'min': 30.0, 'max': 100000000.0}, ...</td>\n      <td>{'amount': {'min': 30.0, 'max': 100000000.0}, ...</td>\n      <td>{'amount': {'min': 0.03, 'max': 100000000.0}, ...</td>\n      <td>{'amount': {'min': 0.03, 'max': 100000000.0}, ...</td>\n      <td>{'amount': {'min': 0.03, 'max': 100000000.0}, ...</td>\n      <td>{'amount': {'min': 10.0, 'max': 100000000.0}, ...</td>\n      <td>{'amount': {'min': 10.0, 'max': 100000000.0}, ...</td>\n      <td>{'amount': {'min': 10.0, 'max': 100000000.0}, ...</td>\n      <td>{'amount': {'min': 10.0, 'max': 100000000.0}, ...</td>\n    </tr>\n    <tr>\n      <th>id</th>\n      <td>ADAETH</td>\n      <td>ADAEUR</td>\n      <td>ADAUSD</td>\n      <td>ADAXBT</td>\n      <td>ALGOETH</td>\n      <td>ALGOEUR</td>\n      <td>ALGOUSD</td>\n      <td>ALGOXBT</td>\n      <td>ATOMETH</td>\n      <td>ATOMEUR</td>\n      <td>...</td>\n      <td>XXRPZEUR</td>\n      <td>XXRPZJPY</td>\n      <td>XXRPZUSD</td>\n      <td>XZECXXBT</td>\n      <td>XZECZEUR</td>\n      <td>XZECZUSD</td>\n      <td>ZEURZUSD</td>\n      <td>ZGBPZUSD</td>\n      <td>ZUSDZCAD</td>\n      <td>ZUSDZJPY</td>\n    </tr>\n    <tr>\n      <th>symbol</th>\n      <td>ADA/ETH</td>\n      <td>ADA/EUR</td>\n      <td>ADA/USD</td>\n      <td>ADA/BTC</td>\n      <td>ALGO/ETH</td>\n      <td>ALGO/EUR</td>\n      <td>ALGO/USD</td>\n      <td>ALGO/BTC</td>\n      <td>ATOM/ETH</td>\n      <td>ATOM/EUR</td>\n      <td>...</td>\n      <td>XRP/EUR</td>\n      <td>XRP/JPY</td>\n      <td>XRP/USD</td>\n      <td>ZEC/BTC</td>\n      <td>ZEC/EUR</td>\n      <td>ZEC/USD</td>\n      <td>EUR/USD</td>\n      <td>GBP/USD</td>\n      <td>USD/CAD</td>\n      <td>USD/JPY</td>\n    </tr>\n    <tr>\n      <th>base</th>\n      <td>ADA</td>\n      <td>ADA</td>\n      <td>ADA</td>\n      <td>ADA</td>\n      <td>ALGO</td>\n      <td>ALGO</td>\n      <td>ALGO</td>\n      <td>ALGO</td>\n      <td>ATOM</td>\n      <td>ATOM</td>\n      <td>...</td>\n      <td>XRP</td>\n      <td>XRP</td>\n      <td>XRP</td>\n      <td>ZEC</td>\n      <td>ZEC</td>\n      <td>ZEC</td>\n      <td>EUR</td>\n      <td>GBP</td>\n      <td>USD</td>\n      <td>USD</td>\n    </tr>\n    <tr>\n      <th>quote</th>\n      <td>ETH</td>\n      <td>EUR</td>\n      <td>USD</td>\n      <td>BTC</td>\n      <td>ETH</td>\n      <td>EUR</td>\n      <td>USD</td>\n      <td>BTC</td>\n      <td>ETH</td>\n      <td>EUR</td>\n      <td>...</td>\n      <td>EUR</td>\n      <td>JPY</td>\n      <td>USD</td>\n      <td>BTC</td>\n      <td>EUR</td>\n      <td>USD</td>\n      <td>USD</td>\n      <td>USD</td>\n      <td>CAD</td>\n      <td>JPY</td>\n    </tr>\n    <tr>\n      <th>baseId</th>\n      <td>ADA</td>\n      <td>ADA</td>\n      <td>ADA</td>\n      <td>ADA</td>\n      <td>ALGO</td>\n      <td>ALGO</td>\n      <td>ALGO</td>\n      <td>ALGO</td>\n      <td>ATOM</td>\n      <td>ATOM</td>\n      <td>...</td>\n      <td>XXRP</td>\n      <td>XXRP</td>\n      <td>XXRP</td>\n      <td>XZEC</td>\n      <td>XZEC</td>\n      <td>XZEC</td>\n      <td>ZEUR</td>\n      <td>ZGBP</td>\n      <td>ZUSD</td>\n      <td>ZUSD</td>\n    </tr>\n    <tr>\n      <th>quoteId</th>\n      <td>XETH</td>\n      <td>ZEUR</td>\n      <td>ZUSD</td>\n      <td>XXBT</td>\n      <td>XETH</td>\n      <td>ZEUR</td>\n      <td>ZUSD</td>\n      <td>XXBT</td>\n      <td>XETH</td>\n      <td>ZEUR</td>\n      <td>...</td>\n      <td>ZEUR</td>\n      <td>ZJPY</td>\n      <td>ZUSD</td>\n      <td>XXBT</td>\n      <td>ZEUR</td>\n      <td>ZUSD</td>\n      <td>ZUSD</td>\n      <td>ZUSD</td>\n      <td>ZCAD</td>\n      <td>ZJPY</td>\n    </tr>\n    <tr>\n      <th>darkpool</th>\n      <td>False</td>\n      <td>False</td>\n      <td>False</td>\n      <td>False</td>\n      <td>False</td>\n      <td>False</td>\n      <td>False</td>\n      <td>False</td>\n      <td>False</td>\n      <td>False</td>\n      <td>...</td>\n      <td>False</td>\n      <td>False</td>\n      <td>False</td>\n      <td>False</td>\n      <td>False</td>\n      <td>False</td>\n      <td>False</td>\n      <td>False</td>\n      <td>False</td>\n      <td>False</td>\n    </tr>\n    <tr>\n      <th>info</th>\n      <td>{'altname': 'ADAETH', 'wsname': 'ADA/ETH', 'ac...</td>\n      <td>{'altname': 'ADAEUR', 'wsname': 'ADA/EUR', 'ac...</td>\n      <td>{'altname': 'ADAUSD', 'wsname': 'ADA/USD', 'ac...</td>\n      <td>{'altname': 'ADAXBT', 'wsname': 'ADA/XBT', 'ac...</td>\n      <td>{'altname': 'ALGOETH', 'wsname': 'ALGO/ETH', '...</td>\n      <td>{'altname': 'ALGOEUR', 'wsname': 'ALGO/EUR', '...</td>\n      <td>{'altname': 'ALGOUSD', 'wsname': 'ALGO/USD', '...</td>\n      <td>{'altname': 'ALGOXBT', 'wsname': 'ALGO/XBT', '...</td>\n      <td>{'altname': 'ATOMETH', 'wsname': 'ATOM/ETH', '...</td>\n      <td>{'altname': 'ATOMEUR', 'wsname': 'ATOM/EUR', '...</td>\n      <td>...</td>\n      <td>{'altname': 'XRPEUR', 'wsname': 'XRP/EUR', 'ac...</td>\n      <td>{'altname': 'XRPJPY', 'wsname': 'XRP/JPY', 'ac...</td>\n      <td>{'altname': 'XRPUSD', 'wsname': 'XRP/USD', 'ac...</td>\n      <td>{'altname': 'ZECXBT', 'wsname': 'ZEC/XBT', 'ac...</td>\n      <td>{'altname': 'ZECEUR', 'wsname': 'ZEC/EUR', 'ac...</td>\n      <td>{'altname': 'ZECUSD', 'wsname': 'ZEC/USD', 'ac...</td>\n      <td>{'altname': 'EURUSD', 'wsname': 'EUR/USD', 'ac...</td>\n      <td>{'altname': 'GBPUSD', 'wsname': 'GBP/USD', 'ac...</td>\n      <td>{'altname': 'USDCAD', 'wsname': 'USD/CAD', 'ac...</td>\n      <td>{'altname': 'USDJPY', 'wsname': 'USD/JPY', 'ac...</td>\n    </tr>\n    <tr>\n      <th>altname</th>\n      <td>ADAETH</td>\n      <td>ADAEUR</td>\n      <td>ADAUSD</td>\n      <td>ADAXBT</td>\n      <td>ALGOETH</td>\n      <td>ALGOEUR</td>\n      <td>ALGOUSD</td>\n      <td>ALGOXBT</td>\n      <td>ATOMETH</td>\n      <td>ATOMEUR</td>\n      <td>...</td>\n      <td>XRPEUR</td>\n      <td>XRPJPY</td>\n      <td>XRPUSD</td>\n      <td>ZECXBT</td>\n      <td>ZECEUR</td>\n      <td>ZECUSD</td>\n      <td>EURUSD</td>\n      <td>GBPUSD</td>\n      <td>USDCAD</td>\n      <td>USDJPY</td>\n    </tr>\n    <tr>\n      <th>active</th>\n      <td>True</td>\n      <td>True</td>\n      <td>True</td>\n      <td>True</td>\n      <td>True</td>\n      <td>True</td>\n      <td>True</td>\n      <td>True</td>\n      <td>True</td>\n      <td>True</td>\n      <td>...</td>\n      <td>True</td>\n      <td>True</td>\n      <td>True</td>\n      <td>True</td>\n      <td>True</td>\n      <td>True</td>\n      <td>True</td>\n      <td>True</td>\n      <td>True</td>\n      <td>True</td>\n    </tr>\n  </tbody>\n</table>\n<p>17 rows × 203 columns</p>\n</div>"
     },
     "metadata": {},
     "execution_count": 4
    }
   ],
   "source": [
    "# Connect to Kraken and load the available cryptocurrencies\n",
    "crypto_details = exchange.load_markets()\n",
    "\n",
    "# Import data as a Pandas DataFrame\n",
    "crypto_df = pd.DataFrame(crypto_details)\n",
    "\n",
    "# Display sample data\n",
    "crypto_df"
   ]
  },
  {
   "cell_type": "markdown",
   "metadata": {},
   "source": [
    "### List Available Cryptocurrencies for Trading"
   ]
  },
  {
   "cell_type": "code",
   "execution_count": 5,
   "metadata": {
    "tags": []
   },
   "outputs": [
    {
     "output_type": "stream",
     "name": "stdout",
     "text": "<class 'numpy.ndarray'>\n['ADA/ETH' 'ADA/EUR' 'ADA/USD' 'ADA/BTC' 'ALGO/ETH' 'ALGO/EUR' 'ALGO/USD'\n 'ALGO/BTC' 'ATOM/ETH' 'ATOM/EUR' 'ATOM/USD' 'ATOM/BTC' 'AUD/JPY'\n 'AUD/USD' 'BAT/ETH' 'BAT/EUR' 'BAT/USD' 'BAT/BTC' 'BCH/AUD' 'BCH/ETH'\n 'BCH/EUR' 'BCH/GBP' 'BCH/USD' 'BCH/USDT' 'BCH/BTC' 'COMP/ETH' 'COMP/EUR'\n 'COMP/USD' 'COMP/BTC' 'DAI/EUR' 'DAI/USD' 'DAI/USDT' 'DASH/EUR'\n 'DASH/USD' 'DASH/BTC' 'DOT/ETH' 'DOT/EUR' 'DOT/USD' 'DOT/BTC' 'EOS/ETH'\n 'EOS/EUR' 'EOS/USD' 'EOS/BTC' 'ETH/AUD' 'ETH/CHF' 'ETH/DAI' 'ETH/USDC'\n 'ETH/USDT' 'EUR/AUD' 'EUR/CAD' 'EUR/CHF' 'EUR/GBP' 'EUR/JPY' 'GNO/ETH'\n 'GNO/EUR' 'GNO/USD' 'GNO/BTC' 'ICX/ETH' 'ICX/EUR' 'ICX/USD' 'ICX/BTC'\n 'KAVA/ETH' 'KAVA/EUR' 'KAVA/USD' 'KAVA/BTC' 'KNC/ETH' 'KNC/EUR' 'KNC/USD'\n 'KNC/BTC' 'LINK/ETH' 'LINK/EUR' 'LINK/USD' 'LINK/BTC' 'LSK/ETH' 'LSK/EUR'\n 'LSK/USD' 'LSK/BTC' 'LTC/AUD' 'LTC/ETH' 'LTC/GBP' 'LTC/USDT' 'NANO/ETH'\n 'NANO/EUR' 'NANO/USD' 'NANO/BTC' 'OMG/ETH' 'OMG/EUR' 'OMG/USD' 'OMG/BTC'\n 'OXT/ETH' 'OXT/EUR' 'OXT/USD' 'OXT/BTC' 'PAXG/ETH' 'PAXG/EUR' 'PAXG/USD'\n 'PAXG/BTC' 'QTUM/ETH' 'QTUM/EUR' 'QTUM/USD' 'QTUM/BTC' 'REPV2/ETH'\n 'REPV2/EUR' 'REPV2/USD' 'REPV2/BTC' 'SC/ETH' 'SC/EUR' 'SC/USD' 'SC/BTC'\n 'STORJ/ETH' 'STORJ/EUR' 'STORJ/USD' 'STORJ/BTC' 'TRX/ETH' 'TRX/EUR'\n 'TRX/USD' 'TRX/BTC' 'USDC/EUR' 'USD/CHF' 'USDC/USD' 'USDC/USDT'\n 'USDT/AUD' 'USDT/CAD' 'USDT/CHF' 'USDT/EUR' 'USDT/GBP' 'USDT/JPY'\n 'USDT/USD' 'WAVES/ETH' 'WAVES/EUR' 'WAVES/USD' 'WAVES/BTC' 'BTC/AUD'\n 'BTC/CHF' 'BTC/DAI' 'BTC/USDC' 'BTC/USDT' 'DOGE/EUR' 'DOGE/USD' 'ETC/ETH'\n 'ETC/BTC' 'ETC/EUR' 'ETC/USD' 'ETH/BTC' 'ETHXBT.d' 'ETH/CAD' 'ETHCAD.d'\n 'ETH/EUR' 'ETHEUR.d' 'ETH/GBP' 'ETHGBP.d' 'ETH/JPY' 'ETHJPY.d' 'ETH/USD'\n 'ETHUSD.d' 'LTC/BTC' 'LTC/EUR' 'LTC/USD' 'MLN/ETH' 'MLN/BTC' 'MLN/EUR'\n 'MLN/USD' 'REP/ETH' 'REP/BTC' 'REP/EUR' 'REP/USD' 'XRP/AUD' 'XRP/ETH'\n 'XRP/GBP' 'XRP/USDT' 'XTZ/ETH' 'XTZ/EUR' 'XTZ/USD' 'XTZ/BTC' 'BTC/CAD'\n 'XBTCAD.d' 'BTC/EUR' 'XBTEUR.d' 'BTC/GBP' 'XBTGBP.d' 'BTC/JPY' 'XBTJPY.d'\n 'BTC/USD' 'XBTUSD.d' 'DOGE/BTC' 'XLM/BTC' 'XLM/EUR' 'XLM/USD' 'XMR/BTC'\n 'XMR/EUR' 'XMR/USD' 'XRP/BTC' 'XRP/CAD' 'XRP/EUR' 'XRP/JPY' 'XRP/USD'\n 'ZEC/BTC' 'ZEC/EUR' 'ZEC/USD' 'EUR/USD' 'GBP/USD' 'USD/CAD' 'USD/JPY']\n203\n"
    }
   ],
   "source": [
    "# Print column values of DataFrame\n",
    "print(type(crypto_df.columns.values))\n",
    "print(crypto_df.columns.values)\n",
    "print(len(crypto_df.columns.values))"
   ]
  },
  {
   "cell_type": "code",
   "execution_count": 7,
   "metadata": {},
   "outputs": [
    {
     "output_type": "execute_result",
     "data": {
      "text/plain": "{'loadMarkets': True,\n 'cancelAllOrders': False,\n 'cancelOrder': True,\n 'cancelOrders': False,\n 'CORS': False,\n 'createDepositAddress': True,\n 'createLimitOrder': True,\n 'createMarketOrder': True,\n 'createOrder': True,\n 'deposit': False,\n 'editOrder': 'emulated',\n 'fetchBalance': True,\n 'fetchClosedOrders': True,\n 'fetchCurrencies': True,\n 'fetchDepositAddress': True,\n 'fetchDeposits': True,\n 'fetchL2OrderBook': True,\n 'fetchLedger': True,\n 'fetchMarkets': True,\n 'fetchMyTrades': True,\n 'fetchOHLCV': True,\n 'fetchOpenOrders': True,\n 'fetchOrder': True,\n 'fetchOrderBook': True,\n 'fetchOrderBooks': False,\n 'fetchOrders': False,\n 'fetchOrderTrades': 'emulated',\n 'fetchStatus': 'emulated',\n 'fetchTicker': True,\n 'fetchTickers': True,\n 'fetchTime': True,\n 'fetchTrades': True,\n 'fetchTradingFee': True,\n 'fetchTradingFees': True,\n 'fetchFundingFee': False,\n 'fetchFundingFees': False,\n 'fetchTradingLimits': False,\n 'fetchTransactions': False,\n 'fetchWithdrawals': True,\n 'privateAPI': True,\n 'publicAPI': True,\n 'signIn': False,\n 'withdraw': True,\n 'fetchLedgerEntry': True}"
     },
     "metadata": {},
     "execution_count": 7
    }
   ],
   "source": [
    "# Show list of available functions for the current exchange (in this case Kraken). This function is specific to ccxt.\n",
    "exchange.has"
   ]
  },
  {
   "cell_type": "markdown",
   "metadata": {},
   "source": [
    "### Fetch Historical Data for BTC/USD"
   ]
  },
  {
   "cell_type": "code",
   "execution_count": 7,
   "metadata": {},
   "outputs": [
    {
     "data": {
      "text/html": [
       "<div>\n",
       "<style scoped>\n",
       "    .dataframe tbody tr th:only-of-type {\n",
       "        vertical-align: middle;\n",
       "    }\n",
       "\n",
       "    .dataframe tbody tr th {\n",
       "        vertical-align: top;\n",
       "    }\n",
       "\n",
       "    .dataframe thead th {\n",
       "        text-align: right;\n",
       "    }\n",
       "</style>\n",
       "<table border=\"1\" class=\"dataframe\">\n",
       "  <thead>\n",
       "    <tr style=\"text-align: right;\">\n",
       "      <th></th>\n",
       "      <th>timestamp</th>\n",
       "      <th>open</th>\n",
       "      <th>high</th>\n",
       "      <th>low</th>\n",
       "      <th>close</th>\n",
       "      <th>volume</th>\n",
       "    </tr>\n",
       "  </thead>\n",
       "  <tbody>\n",
       "    <tr>\n",
       "      <th>0</th>\n",
       "      <td>1535155200000</td>\n",
       "      <td>6693.3</td>\n",
       "      <td>6795.0</td>\n",
       "      <td>6660.6</td>\n",
       "      <td>6732.3</td>\n",
       "      <td>2073.930252</td>\n",
       "    </tr>\n",
       "    <tr>\n",
       "      <th>1</th>\n",
       "      <td>1535241600000</td>\n",
       "      <td>6730.8</td>\n",
       "      <td>6775.0</td>\n",
       "      <td>6560.4</td>\n",
       "      <td>6710.0</td>\n",
       "      <td>2002.985019</td>\n",
       "    </tr>\n",
       "    <tr>\n",
       "      <th>2</th>\n",
       "      <td>1535328000000</td>\n",
       "      <td>6710.0</td>\n",
       "      <td>6949.8</td>\n",
       "      <td>6648.1</td>\n",
       "      <td>6909.0</td>\n",
       "      <td>3181.261802</td>\n",
       "    </tr>\n",
       "    <tr>\n",
       "      <th>3</th>\n",
       "      <td>1535414400000</td>\n",
       "      <td>6909.0</td>\n",
       "      <td>7133.7</td>\n",
       "      <td>6860.0</td>\n",
       "      <td>7076.7</td>\n",
       "      <td>5196.624048</td>\n",
       "    </tr>\n",
       "    <tr>\n",
       "      <th>4</th>\n",
       "      <td>1535500800000</td>\n",
       "      <td>7076.7</td>\n",
       "      <td>7120.0</td>\n",
       "      <td>6886.6</td>\n",
       "      <td>7022.7</td>\n",
       "      <td>2919.728144</td>\n",
       "    </tr>\n",
       "    <tr>\n",
       "      <th>...</th>\n",
       "      <td>...</td>\n",
       "      <td>...</td>\n",
       "      <td>...</td>\n",
       "      <td>...</td>\n",
       "      <td>...</td>\n",
       "      <td>...</td>\n",
       "    </tr>\n",
       "    <tr>\n",
       "      <th>715</th>\n",
       "      <td>1596931200000</td>\n",
       "      <td>11768.0</td>\n",
       "      <td>11804.9</td>\n",
       "      <td>11532.5</td>\n",
       "      <td>11687.5</td>\n",
       "      <td>1618.552709</td>\n",
       "    </tr>\n",
       "    <tr>\n",
       "      <th>716</th>\n",
       "      <td>1597017600000</td>\n",
       "      <td>11687.5</td>\n",
       "      <td>12082.9</td>\n",
       "      <td>11535.5</td>\n",
       "      <td>11898.7</td>\n",
       "      <td>6928.454340</td>\n",
       "    </tr>\n",
       "    <tr>\n",
       "      <th>717</th>\n",
       "      <td>1597104000000</td>\n",
       "      <td>11898.7</td>\n",
       "      <td>11939.0</td>\n",
       "      <td>11133.0</td>\n",
       "      <td>11391.7</td>\n",
       "      <td>7265.366587</td>\n",
       "    </tr>\n",
       "    <tr>\n",
       "      <th>718</th>\n",
       "      <td>1597190400000</td>\n",
       "      <td>11391.7</td>\n",
       "      <td>11620.0</td>\n",
       "      <td>11163.0</td>\n",
       "      <td>11576.6</td>\n",
       "      <td>4049.321046</td>\n",
       "    </tr>\n",
       "    <tr>\n",
       "      <th>719</th>\n",
       "      <td>1597276800000</td>\n",
       "      <td>11576.6</td>\n",
       "      <td>11663.8</td>\n",
       "      <td>11269.0</td>\n",
       "      <td>11528.7</td>\n",
       "      <td>2423.306807</td>\n",
       "    </tr>\n",
       "  </tbody>\n",
       "</table>\n",
       "<p>720 rows × 6 columns</p>\n",
       "</div>"
      ],
      "text/plain": [
       "         timestamp     open     high      low    close       volume\n",
       "0    1535155200000   6693.3   6795.0   6660.6   6732.3  2073.930252\n",
       "1    1535241600000   6730.8   6775.0   6560.4   6710.0  2002.985019\n",
       "2    1535328000000   6710.0   6949.8   6648.1   6909.0  3181.261802\n",
       "3    1535414400000   6909.0   7133.7   6860.0   7076.7  5196.624048\n",
       "4    1535500800000   7076.7   7120.0   6886.6   7022.7  2919.728144\n",
       "..             ...      ...      ...      ...      ...          ...\n",
       "715  1596931200000  11768.0  11804.9  11532.5  11687.5  1618.552709\n",
       "716  1597017600000  11687.5  12082.9  11535.5  11898.7  6928.454340\n",
       "717  1597104000000  11898.7  11939.0  11133.0  11391.7  7265.366587\n",
       "718  1597190400000  11391.7  11620.0  11163.0  11576.6  4049.321046\n",
       "719  1597276800000  11576.6  11663.8  11269.0  11528.7  2423.306807\n",
       "\n",
       "[720 rows x 6 columns]"
      ]
     },
     "execution_count": 7,
     "metadata": {},
     "output_type": "execute_result"
    }
   ],
   "source": [
    "# Fetch daily candlestick bar data from `BTC/USD`\n",
    "historical_prices = exchange.fetch_ohlcv(\"BTC/USD\", \"1d\")\n",
    "\n",
    "# Import the data as a Pandas DataFrame and set the columns\n",
    "historical_prices_df = pd.DataFrame(\n",
    "    historical_prices, columns=[\"timestamp\", \"open\", \"high\", \"low\", \"close\", \"volume\"]\n",
    ")\n",
    "historical_prices_df"
   ]
  },
  {
   "cell_type": "markdown",
   "metadata": {},
   "source": [
    "### Convert Epoch Timestamp to Readable Date Format"
   ]
  },
  {
   "cell_type": "code",
   "execution_count": 8,
   "metadata": {},
   "outputs": [
    {
     "data": {
      "text/html": [
       "<div>\n",
       "<style scoped>\n",
       "    .dataframe tbody tr th:only-of-type {\n",
       "        vertical-align: middle;\n",
       "    }\n",
       "\n",
       "    .dataframe tbody tr th {\n",
       "        vertical-align: top;\n",
       "    }\n",
       "\n",
       "    .dataframe thead th {\n",
       "        text-align: right;\n",
       "    }\n",
       "</style>\n",
       "<table border=\"1\" class=\"dataframe\">\n",
       "  <thead>\n",
       "    <tr style=\"text-align: right;\">\n",
       "      <th></th>\n",
       "      <th>timestamp</th>\n",
       "      <th>open</th>\n",
       "      <th>high</th>\n",
       "      <th>low</th>\n",
       "      <th>close</th>\n",
       "      <th>volume</th>\n",
       "      <th>date</th>\n",
       "    </tr>\n",
       "  </thead>\n",
       "  <tbody>\n",
       "    <tr>\n",
       "      <th>0</th>\n",
       "      <td>1535155200000</td>\n",
       "      <td>6693.3</td>\n",
       "      <td>6795.0</td>\n",
       "      <td>6660.6</td>\n",
       "      <td>6732.3</td>\n",
       "      <td>2073.930252</td>\n",
       "      <td>2018-08-25</td>\n",
       "    </tr>\n",
       "    <tr>\n",
       "      <th>1</th>\n",
       "      <td>1535241600000</td>\n",
       "      <td>6730.8</td>\n",
       "      <td>6775.0</td>\n",
       "      <td>6560.4</td>\n",
       "      <td>6710.0</td>\n",
       "      <td>2002.985019</td>\n",
       "      <td>2018-08-26</td>\n",
       "    </tr>\n",
       "    <tr>\n",
       "      <th>2</th>\n",
       "      <td>1535328000000</td>\n",
       "      <td>6710.0</td>\n",
       "      <td>6949.8</td>\n",
       "      <td>6648.1</td>\n",
       "      <td>6909.0</td>\n",
       "      <td>3181.261802</td>\n",
       "      <td>2018-08-27</td>\n",
       "    </tr>\n",
       "    <tr>\n",
       "      <th>3</th>\n",
       "      <td>1535414400000</td>\n",
       "      <td>6909.0</td>\n",
       "      <td>7133.7</td>\n",
       "      <td>6860.0</td>\n",
       "      <td>7076.7</td>\n",
       "      <td>5196.624048</td>\n",
       "      <td>2018-08-28</td>\n",
       "    </tr>\n",
       "    <tr>\n",
       "      <th>4</th>\n",
       "      <td>1535500800000</td>\n",
       "      <td>7076.7</td>\n",
       "      <td>7120.0</td>\n",
       "      <td>6886.6</td>\n",
       "      <td>7022.7</td>\n",
       "      <td>2919.728144</td>\n",
       "      <td>2018-08-29</td>\n",
       "    </tr>\n",
       "  </tbody>\n",
       "</table>\n",
       "</div>"
      ],
      "text/plain": [
       "       timestamp    open    high     low   close       volume       date\n",
       "0  1535155200000  6693.3  6795.0  6660.6  6732.3  2073.930252 2018-08-25\n",
       "1  1535241600000  6730.8  6775.0  6560.4  6710.0  2002.985019 2018-08-26\n",
       "2  1535328000000  6710.0  6949.8  6648.1  6909.0  3181.261802 2018-08-27\n",
       "3  1535414400000  6909.0  7133.7  6860.0  7076.7  5196.624048 2018-08-28\n",
       "4  1535500800000  7076.7  7120.0  6886.6  7022.7  2919.728144 2018-08-29"
      ]
     },
     "execution_count": 8,
     "metadata": {},
     "output_type": "execute_result"
    }
   ],
   "source": [
    "# Convert epoch timestamp to date using the `to_datetime` function and `unit` parameter\n",
    "historical_prices_df[\"date\"] = pd.to_datetime(\n",
    "    historical_prices_df[\"timestamp\"], unit=\"ms\"\n",
    ")\n",
    "historical_prices_df.head()"
   ]
  },
  {
   "cell_type": "markdown",
   "metadata": {},
   "source": [
    "### Fetch Latest Data for BTC/USD"
   ]
  },
  {
   "cell_type": "code",
   "execution_count": 9,
   "metadata": {},
   "outputs": [
    {
     "data": {
      "text/plain": [
       "{'symbol': 'BTC/USD',\n",
       " 'timestamp': 1597338470053,\n",
       " 'datetime': '2020-08-13T17:07:50.053Z',\n",
       " 'high': 11663.8,\n",
       " 'low': 11269.0,\n",
       " 'bid': 11519.1,\n",
       " 'bidVolume': None,\n",
       " 'ask': 11519.2,\n",
       " 'askVolume': None,\n",
       " 'vwap': 11509.67633,\n",
       " 'open': 11576.6,\n",
       " 'close': 11519.2,\n",
       " 'last': 11519.2,\n",
       " 'previousClose': None,\n",
       " 'change': None,\n",
       " 'percentage': None,\n",
       " 'average': None,\n",
       " 'baseVolume': 3501.60159204,\n",
       " 'quoteVolume': 40302300.9609931}"
      ]
     },
     "execution_count": 9,
     "metadata": {},
     "output_type": "execute_result"
    }
   ],
   "source": [
    "# Fetch current price details for `BTC/USD`\n",
    "current_price = exchange.fetch_ticker('BTC/USD')\n",
    "\n",
    "# Delete `info` key-value pair\n",
    "del current_price['info']\n",
    "\n",
    "current_price"
   ]
  },
  {
   "cell_type": "code",
   "execution_count": 10,
   "metadata": {},
   "outputs": [
    {
     "data": {
      "text/html": [
       "<div>\n",
       "<style scoped>\n",
       "    .dataframe tbody tr th:only-of-type {\n",
       "        vertical-align: middle;\n",
       "    }\n",
       "\n",
       "    .dataframe tbody tr th {\n",
       "        vertical-align: top;\n",
       "    }\n",
       "\n",
       "    .dataframe thead th {\n",
       "        text-align: right;\n",
       "    }\n",
       "</style>\n",
       "<table border=\"1\" class=\"dataframe\">\n",
       "  <thead>\n",
       "    <tr style=\"text-align: right;\">\n",
       "      <th></th>\n",
       "      <th>symbol</th>\n",
       "      <th>timestamp</th>\n",
       "      <th>datetime</th>\n",
       "      <th>high</th>\n",
       "      <th>low</th>\n",
       "      <th>bid</th>\n",
       "      <th>bidVolume</th>\n",
       "      <th>ask</th>\n",
       "      <th>askVolume</th>\n",
       "      <th>vwap</th>\n",
       "      <th>open</th>\n",
       "      <th>close</th>\n",
       "      <th>last</th>\n",
       "      <th>previousClose</th>\n",
       "      <th>change</th>\n",
       "      <th>percentage</th>\n",
       "      <th>average</th>\n",
       "      <th>baseVolume</th>\n",
       "      <th>quoteVolume</th>\n",
       "    </tr>\n",
       "  </thead>\n",
       "  <tbody>\n",
       "    <tr>\n",
       "      <th>0</th>\n",
       "      <td>BTC/USD</td>\n",
       "      <td>1597338470053</td>\n",
       "      <td>2020-08-13T17:07:50.053Z</td>\n",
       "      <td>11663.8</td>\n",
       "      <td>11269.0</td>\n",
       "      <td>11519.1</td>\n",
       "      <td>None</td>\n",
       "      <td>11519.2</td>\n",
       "      <td>None</td>\n",
       "      <td>11509.67633</td>\n",
       "      <td>11576.6</td>\n",
       "      <td>11519.2</td>\n",
       "      <td>11519.2</td>\n",
       "      <td>None</td>\n",
       "      <td>None</td>\n",
       "      <td>None</td>\n",
       "      <td>None</td>\n",
       "      <td>3501.601592</td>\n",
       "      <td>4.030230e+07</td>\n",
       "    </tr>\n",
       "  </tbody>\n",
       "</table>\n",
       "</div>"
      ],
      "text/plain": [
       "    symbol      timestamp                  datetime     high      low  \\\n",
       "0  BTC/USD  1597338470053  2020-08-13T17:07:50.053Z  11663.8  11269.0   \n",
       "\n",
       "       bid bidVolume      ask askVolume         vwap     open    close  \\\n",
       "0  11519.1      None  11519.2      None  11509.67633  11576.6  11519.2   \n",
       "\n",
       "      last previousClose change percentage average   baseVolume   quoteVolume  \n",
       "0  11519.2          None   None       None    None  3501.601592  4.030230e+07  "
      ]
     },
     "execution_count": 10,
     "metadata": {},
     "output_type": "execute_result"
    }
   ],
   "source": [
    "# Import data as a Pandas DataFrame\n",
    "current_price_df = pd.DataFrame(current_price, index=[0])\n",
    "current_price_df"
   ]
  },
  {
   "cell_type": "code",
   "execution_count": 11,
   "metadata": {},
   "outputs": [
    {
     "data": {
      "text/plain": [
       "{'info': {}, 'free': {}, 'used': {}, 'total': {}}"
      ]
     },
     "execution_count": 11,
     "metadata": {},
     "output_type": "execute_result"
    }
   ],
   "source": [
    "# Fetch balance\n",
    "exchange.fetch_balance()"
   ]
  },
  {
   "cell_type": "code",
   "execution_count": 12,
   "metadata": {},
   "outputs": [
    {
     "data": {
      "text/plain": [
       "{'status': 'ok', 'updated': 1597338470000, 'eta': None, 'url': None}"
      ]
     },
     "execution_count": 12,
     "metadata": {},
     "output_type": "execute_result"
    }
   ],
   "source": [
    "# Fetch status\n",
    "exchange.fetch_status()"
   ]
  },
  {
   "cell_type": "code",
   "execution_count": 13,
   "metadata": {},
   "outputs": [],
   "source": [
    "# Fetch open orders\n",
    "# exchange.fetch_open_orders()"
   ]
  }
 ],
 "metadata": {
  "kernelspec": {
   "display_name": "Python 3.7.7 64-bit ('algotrading': conda)",
   "language": "python",
   "name": "python_defaultSpec_1600039439360"
  },
  "language_info": {
   "codemirror_mode": {
    "name": "ipython",
    "version": 3
   },
   "file_extension": ".py",
   "mimetype": "text/x-python",
   "name": "python",
   "nbconvert_exporter": "python",
   "pygments_lexer": "ipython3",
   "version": "3.7.7-final"
  }
 },
 "nbformat": 4,
 "nbformat_minor": 4
}