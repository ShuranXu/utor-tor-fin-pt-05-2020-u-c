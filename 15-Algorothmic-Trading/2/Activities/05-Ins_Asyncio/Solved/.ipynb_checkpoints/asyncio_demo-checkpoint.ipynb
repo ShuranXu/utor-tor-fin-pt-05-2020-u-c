{
 "cells": [
  {
   "cell_type": "code",
   "execution_count": 1,
   "metadata": {},
   "outputs": [],
   "source": [
    "from IPython.display import Markdown\n",
    "import asyncio\n",
    "import time"
   ]
  },
  {
   "cell_type": "code",
   "execution_count": 2,
   "metadata": {},
   "outputs": [
    {
     "name": "stdout",
     "output_type": "stream",
     "text": [
      "data\n",
      "plot\n"
     ]
    }
   ],
   "source": [
    "def fetch_data():\n",
    "    time.sleep(3)\n",
    "    print(\"data\")\n",
    "\n",
    "def serve_plot():\n",
    "    print(\"plot\")\n",
    "\n",
    "fetch_data()\n",
    "serve_plot()"
   ]
  },
  {
   "cell_type": "code",
   "execution_count": 3,
   "metadata": {},
   "outputs": [
    {
     "name": "stdout",
     "output_type": "stream",
     "text": [
      "plot\n",
      "data\n"
     ]
    }
   ],
   "source": [
    "# The async keyword in the fetch_data function definition tells asyncio that this function is something called a coroutine. \n",
    "# A coroutine is just code that can be executed differently (asynchronously) from the normal code.\n",
    "async def fetch_data():\n",
    "    # The await keyword indicates which line of code can be waited for asynchronously. \n",
    "    # This is what suspends the coroutine until this line of code finishes running. \n",
    "    # In other words, the sleep statement can run asynchronously while Python continues to run the remaining code in the program.\n",
    "    await asyncio.sleep(3)\n",
    "    print(\"data\")\n",
    "\n",
    "def serve_plot():\n",
    "    print(\"plot\")\n",
    "    \n",
    "# Asyncio uses an event loop to run code asynchronously. The event loop can be thought of as a loop that sits off to the side and just periodically \n",
    "# checks to see if the async code has finished running yet. When it does finish running, it can rejoin the main program. \n",
    "# Meanwhile, Python is free to continue running other code.\n",
    "\n",
    "loop = asyncio.get_event_loop()\n",
    "\n",
    "loop.create_task(fetch_data())\n",
    "serve_plot()"
   ]
  },
  {
   "cell_type": "code",
   "execution_count": 4,
   "metadata": {},
   "outputs": [
    {
     "data": {
      "text/markdown": [
       "# My Plot"
      ],
      "text/plain": [
       "<IPython.core.display.Markdown object>"
      ]
     },
     "execution_count": 4,
     "metadata": {},
     "output_type": "execute_result"
    },
    {
     "name": "stdout",
     "output_type": "stream",
     "text": [
      "data\n"
     ]
    }
   ],
   "source": [
    "async def fetch_data():\n",
    "    await asyncio.sleep(3)\n",
    "    print(\"data\")\n",
    "\n",
    "def serve_plot():\n",
    "    plot = Markdown(\"# My Plot\")\n",
    "    return plot\n",
    "\n",
    "loop = asyncio.get_event_loop()\n",
    "\n",
    "loop.create_task(fetch_data())\n",
    "serve_plot()"
   ]
  },
  {
   "cell_type": "code",
   "execution_count": null,
   "metadata": {},
   "outputs": [],
   "source": []
  }
 ],
 "metadata": {
  "kernelspec": {
   "display_name": "Python 3",
   "language": "python",
   "name": "python3"
  },
  "language_info": {
   "codemirror_mode": {
    "name": "ipython",
    "version": 3
   },
   "file_extension": ".py",
   "mimetype": "text/x-python",
   "name": "python",
   "nbconvert_exporter": "python",
   "pygments_lexer": "ipython3",
   "version": "3.7.7"
  }
 },
 "nbformat": 4,
 "nbformat_minor": 4
}
