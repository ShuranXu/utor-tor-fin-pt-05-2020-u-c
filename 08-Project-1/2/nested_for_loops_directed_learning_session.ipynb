{
 "cells": [
  {
   "cell_type": "markdown",
   "metadata": {},
   "source": [
    "# Practice with nested dictionaries and nested lists"
   ]
  },
  {
   "cell_type": "code",
   "execution_count": 17,
   "metadata": {},
   "outputs": [],
   "source": [
    "grocery_data = [\n",
    "    {\n",
    "        'name':{\n",
    "            'first':'Steven',\n",
    "            'last':'Hope'},\n",
    "        'store':'Loblaws 122',\n",
    "        'items':[\n",
    "            {\n",
    "                'department':'bakery',\n",
    "                'weight':100,\n",
    "                'price':3.99,\n",
    "                'description':'cookies'\n",
    "            },\n",
    "            {\n",
    "                'department':'fruit',\n",
    "                'weight':300,\n",
    "                'price':2.99,\n",
    "                'description':'banana'\n",
    "            }]\n",
    "    },\n",
    "    {\n",
    "        'name':{\n",
    "            'first':'Jeremy',\n",
    "            'last':'Kim'},\n",
    "        'store':'Loblaws 122',\n",
    "        'items':[\n",
    "            {\n",
    "                'department':'deli',\n",
    "                'weight':500,\n",
    "                'price':8.99,\n",
    "                'description':'salami'\n",
    "            },\n",
    "            {\n",
    "                'department':'snack',\n",
    "                'weight':100,\n",
    "                'price':1.50,\n",
    "                'description':'chips'\n",
    "            }]\n",
    "    },\n",
    "    {\n",
    "        'name':{\n",
    "            'first':'Mihir',\n",
    "            'last':'Amritwar'},\n",
    "        'store':'Loblaws 122',\n",
    "        'items':[\n",
    "            {\n",
    "                'department':'desert',\n",
    "                'weight':300,\n",
    "                'price':8.50,\n",
    "                'description':'ice cream'\n",
    "            },\n",
    "            {\n",
    "                'department':'snack',\n",
    "                'weight':100,\n",
    "                'price':1.50,\n",
    "                'description':'chips'\n",
    "            }]\n",
    "    },\n",
    "    {\n",
    "        'name':{\n",
    "            'first':'Nicolas',\n",
    "            'last':'Smart-Renfigo'},\n",
    "        'store':'Loblaws 122',\n",
    "        'items':[\n",
    "            {\n",
    "                'department':'vegetables',\n",
    "                'weight':600,\n",
    "                'price':3.50,\n",
    "                'description':'tomatoes'\n",
    "            },\n",
    "            {\n",
    "                'department':'bakery',\n",
    "                'weight':100,\n",
    "                'price':4.50,\n",
    "                'description':'brownies'\n",
    "            }]\n",
    "    }\n",
    "    \n",
    "\n",
    "]\n",
    "        "
   ]
  },
  {
   "cell_type": "markdown",
   "metadata": {},
   "source": [
    "## Accessing items in nested dictionaries\n"
   ]
  },
  {
   "cell_type": "code",
   "execution_count": 18,
   "metadata": {},
   "outputs": [
    {
     "name": "stdout",
     "output_type": "stream",
     "text": [
      "{'first': 'Steven', 'last': 'Hope'}\n",
      "Steven\n",
      "[{'department': 'bakery', 'weight': 100, 'price': 3.99, 'description': 'cookies'}, {'department': 'fruit', 'weight': 300, 'price': 2.99, 'description': 'banana'}]\n",
      "bakery\n"
     ]
    }
   ],
   "source": [
    "# Access names\n",
    "name = grocery_data[0]['name']\n",
    "print(name)\n",
    "\n",
    "first_name = grocery_data[0]['name']['first']\n",
    "print(first_name)\n",
    "\n",
    "# Access items\n",
    "items = grocery_data[0]['items']\n",
    "print(items)\n",
    "\n",
    "# Access specific item\n",
    "department = grocery_data[0]['items'][0]['department']\n",
    "print(department)"
   ]
  },
  {
   "cell_type": "markdown",
   "metadata": {},
   "source": [
    "## Retrieve a list of names"
   ]
  },
  {
   "cell_type": "code",
   "execution_count": 20,
   "metadata": {},
   "outputs": [
    {
     "name": "stdout",
     "output_type": "stream",
     "text": [
      "[{'first': 'Steven', 'last': 'Hope'}, {'first': 'Jeremy', 'last': 'Kim'}, {'first': 'Mihir', 'last': 'Amritwar'}, {'first': 'Nicolas', 'last': 'Smart-Renfigo'}]\n"
     ]
    }
   ],
   "source": [
    "names = []\n",
    "for grocery_customer in grocery_data:\n",
    "    names += [grocery_customer['name']]\n",
    "    \n",
    "print(names)"
   ]
  },
  {
   "cell_type": "markdown",
   "metadata": {},
   "source": [
    "## Retrieve a list of items sold"
   ]
  },
  {
   "cell_type": "code",
   "execution_count": 15,
   "metadata": {},
   "outputs": [
    {
     "name": "stdout",
     "output_type": "stream",
     "text": [
      "[{'department': 'bakery', 'weight': 100, 'price': 3.99, 'description': 'cookies'}, {'department': 'fruit', 'weight': 300, 'price': 2.99, 'description': 'banana'}, {'department': 'deli', 'weight': 500, 'price': 8.99, 'description': 'salami'}, {'department': 'snack', 'weight': 100, 'price': 1.5, 'description': 'chips'}, {'department': 'desert', 'weight': 300, 'price': 8.5, 'description': 'ice cream'}, {'department': 'snack', 'weight': 100, 'price': 1.5, 'description': 'chips'}, {'department': 'vegetables', 'weight': 600, 'price': 3.5, 'description': 'tomatoes'}, {'department': 'bakery', 'weight': 100, 'price': 4.5, 'description': 'brownies'}]\n"
     ]
    }
   ],
   "source": [
    "items = []\n",
    "for grocery_customer in grocery_data:\n",
    "    for grocery_item in grocery_customer['items']:\n",
    "        items += [grocery_item]\n",
    "    \n",
    "print(items)"
   ]
  },
  {
   "cell_type": "markdown",
   "metadata": {},
   "source": [
    "## Retrieve revenue for all items sold"
   ]
  },
  {
   "cell_type": "code",
   "execution_count": 16,
   "metadata": {},
   "outputs": [
    {
     "name": "stdout",
     "output_type": "stream",
     "text": [
      "35.47\n"
     ]
    }
   ],
   "source": [
    "revenue = 0\n",
    "for grocery_customer in grocery_data:\n",
    "    for grocery_item in grocery_customer['items']:\n",
    "        revenue += grocery_item['price']\n",
    "    \n",
    "print(revenue)"
   ]
  },
  {
   "cell_type": "code",
   "execution_count": null,
   "metadata": {},
   "outputs": [],
   "source": []
  }
 ],
 "metadata": {
  "kernelspec": {
   "display_name": "Python 3",
   "language": "python",
   "name": "python3"
  },
  "language_info": {
   "codemirror_mode": {
    "name": "ipython",
    "version": 3
   },
   "file_extension": ".py",
   "mimetype": "text/x-python",
   "name": "python",
   "nbconvert_exporter": "python",
   "pygments_lexer": "ipython3",
   "version": "3.8.3"
  }
 },
 "nbformat": 4,
 "nbformat_minor": 4
}
