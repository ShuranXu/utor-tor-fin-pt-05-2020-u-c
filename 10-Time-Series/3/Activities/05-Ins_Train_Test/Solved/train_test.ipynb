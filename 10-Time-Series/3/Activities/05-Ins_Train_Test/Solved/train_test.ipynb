{
 "cells": [
  {
   "cell_type": "code",
   "execution_count": 1,
   "metadata": {},
   "outputs": [],
   "source": [
    "# Import libraries and dependencies\n",
    "import pandas as pd\n",
    "import numpy as np\n",
    "from pathlib import Path\n",
    "%matplotlib inline"
   ]
  },
  {
   "cell_type": "code",
   "execution_count": 3,
   "metadata": {},
   "outputs": [],
   "source": [
    "# Read CSV, parse dates, and set index\n",
    "csvpath = Path('../Resources/OSPTX.csv')\n",
    "df = pd.read_csv(csvpath, parse_dates=True, index_col='Date')"
   ]
  },
  {
   "cell_type": "code",
   "execution_count": 31,
   "metadata": {},
   "outputs": [
    {
     "data": {
      "text/html": [
       "<div>\n",
       "<style scoped>\n",
       "    .dataframe tbody tr th:only-of-type {\n",
       "        vertical-align: middle;\n",
       "    }\n",
       "\n",
       "    .dataframe tbody tr th {\n",
       "        vertical-align: top;\n",
       "    }\n",
       "\n",
       "    .dataframe thead th {\n",
       "        text-align: right;\n",
       "    }\n",
       "</style>\n",
       "<table border=\"1\" class=\"dataframe\">\n",
       "  <thead>\n",
       "    <tr style=\"text-align: right;\">\n",
       "      <th></th>\n",
       "      <th>Open</th>\n",
       "      <th>High</th>\n",
       "      <th>Low</th>\n",
       "      <th>Close</th>\n",
       "      <th>Volume</th>\n",
       "      <th>Return</th>\n",
       "      <th>Lagged_Return</th>\n",
       "    </tr>\n",
       "    <tr>\n",
       "      <th>Date</th>\n",
       "      <th></th>\n",
       "      <th></th>\n",
       "      <th></th>\n",
       "      <th></th>\n",
       "      <th></th>\n",
       "      <th></th>\n",
       "      <th></th>\n",
       "    </tr>\n",
       "  </thead>\n",
       "  <tbody>\n",
       "    <tr>\n",
       "      <th>2006-10-16 16:00:00</th>\n",
       "      <td>11947.41</td>\n",
       "      <td>12072.26</td>\n",
       "      <td>11908.57</td>\n",
       "      <td>12061.54</td>\n",
       "      <td>196978528</td>\n",
       "      <td>1.284537</td>\n",
       "      <td>1.616849</td>\n",
       "    </tr>\n",
       "    <tr>\n",
       "      <th>2006-10-17 16:00:00</th>\n",
       "      <td>12075.84</td>\n",
       "      <td>12075.84</td>\n",
       "      <td>11914.77</td>\n",
       "      <td>11996.63</td>\n",
       "      <td>189579744</td>\n",
       "      <td>-0.538157</td>\n",
       "      <td>1.284537</td>\n",
       "    </tr>\n",
       "    <tr>\n",
       "      <th>2006-10-18 16:00:00</th>\n",
       "      <td>12044.70</td>\n",
       "      <td>12066.35</td>\n",
       "      <td>11917.97</td>\n",
       "      <td>11966.00</td>\n",
       "      <td>201327408</td>\n",
       "      <td>-0.255322</td>\n",
       "      <td>-0.538157</td>\n",
       "    </tr>\n",
       "    <tr>\n",
       "      <th>2006-10-19 16:00:00</th>\n",
       "      <td>11974.34</td>\n",
       "      <td>12072.91</td>\n",
       "      <td>11966.00</td>\n",
       "      <td>12060.62</td>\n",
       "      <td>222364016</td>\n",
       "      <td>0.790740</td>\n",
       "      <td>-0.255322</td>\n",
       "    </tr>\n",
       "    <tr>\n",
       "      <th>2006-10-20 16:00:00</th>\n",
       "      <td>12103.84</td>\n",
       "      <td>12103.84</td>\n",
       "      <td>12005.55</td>\n",
       "      <td>12035.57</td>\n",
       "      <td>178457328</td>\n",
       "      <td>-0.207701</td>\n",
       "      <td>0.790740</td>\n",
       "    </tr>\n",
       "  </tbody>\n",
       "</table>\n",
       "</div>"
      ],
      "text/plain": [
       "                         Open      High       Low     Close     Volume  \\\n",
       "Date                                                                     \n",
       "2006-10-16 16:00:00  11947.41  12072.26  11908.57  12061.54  196978528   \n",
       "2006-10-17 16:00:00  12075.84  12075.84  11914.77  11996.63  189579744   \n",
       "2006-10-18 16:00:00  12044.70  12066.35  11917.97  11966.00  201327408   \n",
       "2006-10-19 16:00:00  11974.34  12072.91  11966.00  12060.62  222364016   \n",
       "2006-10-20 16:00:00  12103.84  12103.84  12005.55  12035.57  178457328   \n",
       "\n",
       "                       Return  Lagged_Return  \n",
       "Date                                          \n",
       "2006-10-16 16:00:00  1.284537       1.616849  \n",
       "2006-10-17 16:00:00 -0.538157       1.284537  \n",
       "2006-10-18 16:00:00 -0.255322      -0.538157  \n",
       "2006-10-19 16:00:00  0.790740      -0.255322  \n",
       "2006-10-20 16:00:00 -0.207701       0.790740  "
      ]
     },
     "execution_count": 31,
     "metadata": {},
     "output_type": "execute_result"
    }
   ],
   "source": [
    "# Calculate return and lagged return\n",
    "df['Return'] = df.Close.pct_change() * 100\n",
    "df['Lagged_Return'] = df.Return.shift()\n",
    "df = df.dropna()\n",
    "df.head()"
   ]
  },
  {
   "cell_type": "markdown",
   "metadata": {},
   "source": [
    "# Slice the data into Training and Testing data"
   ]
  },
  {
   "cell_type": "code",
   "execution_count": 32,
   "metadata": {},
   "outputs": [],
   "source": [
    "# Slice train and test datasets\n",
    "train = df.loc['2008':'2012']\n",
    "test = df.loc['2013']"
   ]
  },
  {
   "cell_type": "code",
   "execution_count": 33,
   "metadata": {},
   "outputs": [],
   "source": [
    "# Create dataframes for X_train and X_test\n",
    "# Create series for y_train and y_test\n",
    "# X_train (training set using just the independent variables), X_test (test set of of just the independent variables)\n",
    "# Y_train (training set using just the \"y\" variable, i.e., \"Futures Return\"), Y_test (test set of just the \"y\" variable):\n",
    "X_train = train[\"Lagged_Return\"].to_frame()\n",
    "X_test = test[\"Lagged_Return\"].to_frame()\n",
    "y_train = train[\"Return\"]\n",
    "y_test = test[\"Return\"]"
   ]
  },
  {
   "cell_type": "code",
   "execution_count": 35,
   "metadata": {},
   "outputs": [
    {
     "data": {
      "text/html": [
       "<div>\n",
       "<style scoped>\n",
       "    .dataframe tbody tr th:only-of-type {\n",
       "        vertical-align: middle;\n",
       "    }\n",
       "\n",
       "    .dataframe tbody tr th {\n",
       "        vertical-align: top;\n",
       "    }\n",
       "\n",
       "    .dataframe thead th {\n",
       "        text-align: right;\n",
       "    }\n",
       "</style>\n",
       "<table border=\"1\" class=\"dataframe\">\n",
       "  <thead>\n",
       "    <tr style=\"text-align: right;\">\n",
       "      <th></th>\n",
       "      <th>Lagged_Return</th>\n",
       "    </tr>\n",
       "    <tr>\n",
       "      <th>Date</th>\n",
       "      <th></th>\n",
       "    </tr>\n",
       "  </thead>\n",
       "  <tbody>\n",
       "    <tr>\n",
       "      <th>2008-01-02 16:00:00</th>\n",
       "      <td>0.084796</td>\n",
       "    </tr>\n",
       "    <tr>\n",
       "      <th>2008-01-03 16:00:00</th>\n",
       "      <td>0.677363</td>\n",
       "    </tr>\n",
       "    <tr>\n",
       "      <th>2008-01-04 16:00:00</th>\n",
       "      <td>0.369361</td>\n",
       "    </tr>\n",
       "    <tr>\n",
       "      <th>2008-01-07 16:00:00</th>\n",
       "      <td>-1.428081</td>\n",
       "    </tr>\n",
       "    <tr>\n",
       "      <th>2008-01-08 16:00:00</th>\n",
       "      <td>-1.159118</td>\n",
       "    </tr>\n",
       "  </tbody>\n",
       "</table>\n",
       "</div>"
      ],
      "text/plain": [
       "                     Lagged_Return\n",
       "Date                              \n",
       "2008-01-02 16:00:00       0.084796\n",
       "2008-01-03 16:00:00       0.677363\n",
       "2008-01-04 16:00:00       0.369361\n",
       "2008-01-07 16:00:00      -1.428081\n",
       "2008-01-08 16:00:00      -1.159118"
      ]
     },
     "execution_count": 35,
     "metadata": {},
     "output_type": "execute_result"
    }
   ],
   "source": [
    "# Display top rows for x_train\n",
    "X_train.head()"
   ]
  },
  {
   "cell_type": "code",
   "execution_count": 36,
   "metadata": {},
   "outputs": [
    {
     "data": {
      "text/plain": [
       "Date\n",
       "2008-01-02 16:00:00    0.677363\n",
       "2008-01-03 16:00:00    0.369361\n",
       "2008-01-04 16:00:00   -1.428081\n",
       "2008-01-07 16:00:00   -1.159118\n",
       "2008-01-08 16:00:00   -0.566273\n",
       "Name: Return, dtype: float64"
      ]
     },
     "execution_count": 36,
     "metadata": {},
     "output_type": "execute_result"
    }
   ],
   "source": [
    "# Display top rows for y_train\n",
    "y_train.head()"
   ]
  },
  {
   "cell_type": "markdown",
   "metadata": {},
   "source": [
    "# Fit the model to the Training Data"
   ]
  },
  {
   "cell_type": "code",
   "execution_count": 37,
   "metadata": {},
   "outputs": [],
   "source": [
    "from sklearn.linear_model import LinearRegression"
   ]
  },
  {
   "cell_type": "code",
   "execution_count": 38,
   "metadata": {},
   "outputs": [
    {
     "data": {
      "text/plain": [
       "LinearRegression()"
      ]
     },
     "execution_count": 38,
     "metadata": {},
     "output_type": "execute_result"
    }
   ],
   "source": [
    "#Fit a SKLearn linear regression using  just the training set (X_train, Y_train):\n",
    "model = LinearRegression()\n",
    "model.fit(X_train, y_train)"
   ]
  },
  {
   "cell_type": "markdown",
   "metadata": {},
   "source": [
    "# Make predictions using the Testing Data\n",
    "\n",
    "Note: We want to evaluate the model using data that it has never seen before, in this case: X_test."
   ]
  },
  {
   "cell_type": "code",
   "execution_count": 39,
   "metadata": {},
   "outputs": [],
   "source": [
    "# And make a prediction of \"y\" values for just the test dataset\n",
    "predictions = model.predict(X_test)"
   ]
  },
  {
   "cell_type": "code",
   "execution_count": 42,
   "metadata": {},
   "outputs": [],
   "source": [
    "# Assemble actual y data (Y_test) with predicted y data (from just above) into two columns in a dataframe:\n",
    "Results = y_test.to_frame()\n",
    "Results[\"Predicted Return\"] = predictions"
   ]
  },
  {
   "cell_type": "code",
   "execution_count": 45,
   "metadata": {},
   "outputs": [
    {
     "data": {
      "text/html": [
       "<div>\n",
       "<style scoped>\n",
       "    .dataframe tbody tr th:only-of-type {\n",
       "        vertical-align: middle;\n",
       "    }\n",
       "\n",
       "    .dataframe tbody tr th {\n",
       "        vertical-align: top;\n",
       "    }\n",
       "\n",
       "    .dataframe thead th {\n",
       "        text-align: right;\n",
       "    }\n",
       "</style>\n",
       "<table border=\"1\" class=\"dataframe\">\n",
       "  <thead>\n",
       "    <tr style=\"text-align: right;\">\n",
       "      <th></th>\n",
       "      <th>Return</th>\n",
       "      <th>Predicted Return</th>\n",
       "    </tr>\n",
       "    <tr>\n",
       "      <th>Date</th>\n",
       "      <th></th>\n",
       "      <th></th>\n",
       "    </tr>\n",
       "  </thead>\n",
       "  <tbody>\n",
       "    <tr>\n",
       "      <th>2013-01-02 16:00:00</th>\n",
       "      <td>0.862506</td>\n",
       "      <td>-0.056772</td>\n",
       "    </tr>\n",
       "    <tr>\n",
       "      <th>2013-01-03 16:00:00</th>\n",
       "      <td>-0.560811</td>\n",
       "      <td>-0.051072</td>\n",
       "    </tr>\n",
       "    <tr>\n",
       "      <th>2013-01-04 16:00:00</th>\n",
       "      <td>0.564294</td>\n",
       "      <td>0.038280</td>\n",
       "    </tr>\n",
       "    <tr>\n",
       "      <th>2013-01-07 16:00:00</th>\n",
       "      <td>-0.329006</td>\n",
       "      <td>-0.032351</td>\n",
       "    </tr>\n",
       "    <tr>\n",
       "      <th>2013-01-08 16:00:00</th>\n",
       "      <td>0.042082</td>\n",
       "      <td>0.023728</td>\n",
       "    </tr>\n",
       "  </tbody>\n",
       "</table>\n",
       "</div>"
      ],
      "text/plain": [
       "                       Return  Predicted Return\n",
       "Date                                           \n",
       "2013-01-02 16:00:00  0.862506         -0.056772\n",
       "2013-01-03 16:00:00 -0.560811         -0.051072\n",
       "2013-01-04 16:00:00  0.564294          0.038280\n",
       "2013-01-07 16:00:00 -0.329006         -0.032351\n",
       "2013-01-08 16:00:00  0.042082          0.023728"
      ]
     },
     "execution_count": 45,
     "metadata": {},
     "output_type": "execute_result"
    }
   ],
   "source": [
    "# Display top 2 rows\n",
    "Results.head(5)"
   ]
  },
  {
   "cell_type": "code",
   "execution_count": 44,
   "metadata": {},
   "outputs": [
    {
     "data": {
      "text/plain": [
       "array([<matplotlib.axes._subplots.AxesSubplot object at 0x000001772D8AB340>,\n",
       "       <matplotlib.axes._subplots.AxesSubplot object at 0x000001772D8DFC10>],\n",
       "      dtype=object)"
      ]
     },
     "execution_count": 44,
     "metadata": {},
     "output_type": "execute_result"
    },
    {
     "data": {
      "image/png": "[encoded data removed]",
      "text/plain": [
       "<Figure size 432x288 with 2 Axes>"
      ]
     },
     "metadata": {
      "needs_background": "light"
     },
     "output_type": "display_data"
    }
   ],
   "source": [
    "# Plot the first 20 predictions against the true values to see how it performed\n",
    "# The trends lines should be similar\n",
    "Results[:20].plot(subplots=True)"
   ]
  },
  {
   "cell_type": "markdown",
   "metadata": {},
   "source": [
    "# Out-of-Sample Performance\n",
    "\n",
    "Evaluate the model using \"out-of-sample\" data (X_test and y_test)"
   ]
  },
  {
   "cell_type": "code",
   "execution_count": 21,
   "metadata": {},
   "outputs": [
    {
     "name": "stdout",
     "output_type": "stream",
     "text": [
      "Out-of-Sample Root Mean Squared Error (RMSE): 0.6234031165210682\n"
     ]
    }
   ],
   "source": [
    "from sklearn.metrics import mean_squared_error, r2_score\n",
    "# Calculate the mean_squared_error (MSE) on actual versus predicted test \"y\" \n",
    "# (Hint: use the dataframe above)\n",
    "mse = mean_squared_error(\n",
    "    Results[\"Return\"],\n",
    "    Results[\"Predicted Return\"]\n",
    ")\n",
    "\n",
    "# Using that mean-squared-error, calculate the root-mean-squared error (RMSE):\n",
    "rmse = np.sqrt(mse)\n",
    "print(f\"Out-of-Sample Root Mean Squared Error (RMSE): {rmse}\")"
   ]
  },
  {
   "cell_type": "markdown",
   "metadata": {},
   "source": [
    "# In-Sample Performance\n",
    "\n",
    "Evaluate the model using in-sample data (X_train and y_train)"
   ]
  },
  {
   "cell_type": "code",
   "execution_count": 22,
   "metadata": {},
   "outputs": [
    {
     "name": "stdout",
     "output_type": "stream",
     "text": [
      "In-sample Root Mean Squared Error (RMSE): 1.5071845476051426\n"
     ]
    }
   ],
   "source": [
    "# Construct a dataframe using just the \"y\" training data:\n",
    "in_sample_results = y_train.to_frame()\n",
    "\n",
    "# Add a column of \"in-sample\" predictions to that DataFrame:  \n",
    "in_sample_results[\"In-sample Predictions\"] = model.predict(X_train)\n",
    "\n",
    "# Calculate in-sample mean_squared_error (for comparison to out-of-sample)\n",
    "in_sample_mse = mean_squared_error(\n",
    "    in_sample_results[\"Return\"],\n",
    "    in_sample_results[\"In-sample Predictions\"]\n",
    ")\n",
    "\n",
    "# Calculate in-sample root mean_squared_error (for comparison to out-of-sample)\n",
    "in_sample_rmse = np.sqrt(in_sample_mse)\n",
    "print(f\"In-sample Root Mean Squared Error (RMSE): {in_sample_rmse}\")"
   ]
  },
  {
   "cell_type": "code",
   "execution_count": null,
   "metadata": {},
   "outputs": [],
   "source": []
  }
 ],
 "metadata": {
  "kernelspec": {
   "display_name": "Python 3",
   "language": "python",
   "name": "python3"
  },
  "language_info": {
   "codemirror_mode": {
    "name": "ipython",
    "version": 3
   },
   "file_extension": ".py",
   "mimetype": "text/x-python",
   "name": "python",
   "nbconvert_exporter": "python",
   "pygments_lexer": "ipython3",
   "version": "3.8.3"
  }
 },
 "nbformat": 4,
 "nbformat_minor": 4
}
