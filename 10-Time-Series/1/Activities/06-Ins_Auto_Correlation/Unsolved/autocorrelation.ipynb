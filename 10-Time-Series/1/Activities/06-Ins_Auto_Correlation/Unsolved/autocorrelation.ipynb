{
 "cells": [
  {
   "cell_type": "code",
   "execution_count": 1,
   "metadata": {},
   "outputs": [],
   "source": [
    "# Import libraries and dependencies\n",
    "import pandas as pd\n",
    "import matplotlib.pyplot as plt\n",
    "from pathlib import Path\n",
    "import statsmodels as sm\n",
    "from statsmodels.graphics.tsaplots import plot_acf, plot_pacf\n",
    "%matplotlib inline"
   ]
  },
  {
   "cell_type": "code",
   "execution_count": 3,
   "metadata": {},
   "outputs": [],
   "source": [
    "# Read CSV, parse dates, and set index\n",
    "csvpath = Path('../Resources/weather.csv', parse_dates=True, index_col='Date')\n",
    "df = pd.read_csv(csvpath)"
   ]
  },
  {
   "cell_type": "code",
   "execution_count": 4,
   "metadata": {},
   "outputs": [
    {
     "data": {
      "text/plain": [
       "0     46.2\n",
       "1     44.6\n",
       "2     44.1\n",
       "3     43.8\n",
       "4     43.5\n",
       "5     43.0\n",
       "6     43.1\n",
       "7     42.3\n",
       "8     42.5\n",
       "9     45.9\n",
       "10    49.4\n",
       "11    52.4\n",
       "12    54.9\n",
       "13    57.1\n",
       "14    58.4\n",
       "15    59.1\n",
       "16    59.1\n",
       "17    58.0\n",
       "18    54.5\n",
       "19    51.3\n",
       "20    49.2\n",
       "21    48.1\n",
       "22    47.2\n",
       "23    46.4\n",
       "Name: Temperature, dtype: float64"
      ]
     },
     "execution_count": 4,
     "metadata": {},
     "output_type": "execute_result"
    }
   ],
   "source": [
    "# Temperature readings of the first 24 hours\n"
   ]
  },
  {
   "cell_type": "code",
   "execution_count": 5,
   "metadata": {},
   "outputs": [
    {
     "data": {
      "text/html": [
       "<div>\n",
       "<style scoped>\n",
       "    .dataframe tbody tr th:only-of-type {\n",
       "        vertical-align: middle;\n",
       "    }\n",
       "\n",
       "    .dataframe tbody tr th {\n",
       "        vertical-align: top;\n",
       "    }\n",
       "\n",
       "    .dataframe thead th {\n",
       "        text-align: right;\n",
       "    }\n",
       "</style>\n",
       "<table border=\"1\" class=\"dataframe\">\n",
       "  <thead>\n",
       "    <tr style=\"text-align: right;\">\n",
       "      <th></th>\n",
       "      <th>Temperature</th>\n",
       "      <th>DewPoint</th>\n",
       "      <th>Pressure</th>\n",
       "      <th>Date</th>\n",
       "      <th>Lag_Temperature</th>\n",
       "      <th>Temperature_Difference</th>\n",
       "    </tr>\n",
       "  </thead>\n",
       "  <tbody>\n",
       "    <tr>\n",
       "      <td>0</td>\n",
       "      <td>46.2</td>\n",
       "      <td>37.5</td>\n",
       "      <td>1.0</td>\n",
       "      <td>20100101 00:00</td>\n",
       "      <td>NaN</td>\n",
       "      <td>NaN</td>\n",
       "    </tr>\n",
       "    <tr>\n",
       "      <td>1</td>\n",
       "      <td>44.6</td>\n",
       "      <td>37.1</td>\n",
       "      <td>1.0</td>\n",
       "      <td>20100101 01:00</td>\n",
       "      <td>46.2</td>\n",
       "      <td>-1.6</td>\n",
       "    </tr>\n",
       "    <tr>\n",
       "      <td>2</td>\n",
       "      <td>44.1</td>\n",
       "      <td>36.9</td>\n",
       "      <td>1.0</td>\n",
       "      <td>20100101 02:00</td>\n",
       "      <td>44.6</td>\n",
       "      <td>-0.5</td>\n",
       "    </tr>\n",
       "    <tr>\n",
       "      <td>3</td>\n",
       "      <td>43.8</td>\n",
       "      <td>36.9</td>\n",
       "      <td>1.0</td>\n",
       "      <td>20100101 03:00</td>\n",
       "      <td>44.1</td>\n",
       "      <td>-0.3</td>\n",
       "    </tr>\n",
       "    <tr>\n",
       "      <td>4</td>\n",
       "      <td>43.5</td>\n",
       "      <td>36.8</td>\n",
       "      <td>1.0</td>\n",
       "      <td>20100101 04:00</td>\n",
       "      <td>43.8</td>\n",
       "      <td>-0.3</td>\n",
       "    </tr>\n",
       "  </tbody>\n",
       "</table>\n",
       "</div>"
      ],
      "text/plain": [
       "   Temperature  DewPoint  Pressure            Date  Lag_Temperature  \\\n",
       "0         46.2      37.5       1.0  20100101 00:00              NaN   \n",
       "1         44.6      37.1       1.0  20100101 01:00             46.2   \n",
       "2         44.1      36.9       1.0  20100101 02:00             44.6   \n",
       "3         43.8      36.9       1.0  20100101 03:00             44.1   \n",
       "4         43.5      36.8       1.0  20100101 04:00             43.8   \n",
       "\n",
       "   Temperature_Difference  \n",
       "0                     NaN  \n",
       "1                    -1.6  \n",
       "2                    -0.5  \n",
       "3                    -0.3  \n",
       "4                    -0.3  "
      ]
     },
     "execution_count": 5,
     "metadata": {},
     "output_type": "execute_result"
    }
   ],
   "source": [
    "# Shift and calculate diff\n"
   ]
  },
  {
   "cell_type": "code",
   "execution_count": 6,
   "metadata": {},
   "outputs": [
    {
     "data": {
      "text/plain": [
       "<matplotlib.collections.PathCollection at 0x1063820b8>"
      ]
     },
     "execution_count": 6,
     "metadata": {},
     "output_type": "execute_result"
    },
    {
     "data": {
      "image/png": "[encoded data removed]",
      "text/plain": [
       "<Figure size 432x288 with 1 Axes>"
      ]
     },
     "metadata": {
      "needs_background": "light"
     },
     "output_type": "display_data"
    }
   ],
   "source": [
    "# Scatter plot of lagged temperature vs temperature\n"
   ]
  },
  {
   "cell_type": "code",
   "execution_count": 7,
   "metadata": {},
   "outputs": [
    {
     "data": {
      "text/plain": [
       "<matplotlib.axes._subplots.AxesSubplot at 0x10640e3c8>"
      ]
     },
     "execution_count": 7,
     "metadata": {},
     "output_type": "execute_result"
    },
    {
     "data": {
      "image/png": "[encoded data removed]",
      "text/plain": [
       "<Figure size 432x288 with 1 Axes>"
      ]
     },
     "metadata": {
      "needs_background": "light"
     },
     "output_type": "display_data"
    }
   ],
   "source": [
    "# Plot of the first 48 hours of temp\n"
   ]
  },
  {
   "cell_type": "code",
   "execution_count": 8,
   "metadata": {},
   "outputs": [
    {
     "data": {
      "text/plain": [
       "0.9909018726597637"
      ]
     },
     "execution_count": 8,
     "metadata": {},
     "output_type": "execute_result"
    }
   ],
   "source": [
    "# Autocorrelation\n"
   ]
  },
  {
   "cell_type": "code",
   "execution_count": 9,
   "metadata": {},
   "outputs": [
    {
     "data": {
      "text/plain": [
       "0.99979474523129"
      ]
     },
     "execution_count": 9,
     "metadata": {},
     "output_type": "execute_result"
    }
   ],
   "source": [
    "# Autocorrelation at lag of 24\n"
   ]
  },
  {
   "cell_type": "code",
   "execution_count": 10,
   "metadata": {},
   "outputs": [
    {
     "data": {
      "image/png": "[encoded data removed]",
      "text/plain": [
       "<Figure size 432x288 with 1 Axes>"
      ]
     },
     "metadata": {
      "needs_background": "light"
     },
     "output_type": "display_data"
    }
   ],
   "source": [
    "# plot_acf() measures autocorrelation at different lags\n",
    "# Highest autocorrelation at lag of 24 hours\n"
   ]
  },
  {
   "cell_type": "code",
   "execution_count": 11,
   "metadata": {},
   "outputs": [
    {
     "data": {
      "image/png": "[encoded data removed]",
      "text/plain": [
       "<Figure size 432x288 with 1 Axes>"
      ]
     },
     "metadata": {
      "needs_background": "light"
     },
     "output_type": "display_data"
    }
   ],
   "source": [
    "# Plot autocorrelation at lag of 26\n"
   ]
  }
 ],
 "metadata": {
  "file_extension": ".py",
  "kernelspec": {
   "display_name": "Python 3",
   "language": "python",
   "name": "python3"
  },
  "language_info": {
   "codemirror_mode": {
    "name": "ipython",
    "version": 3
   },
   "file_extension": ".py",
   "mimetype": "text/x-python",
   "name": "python",
   "nbconvert_exporter": "python",
   "pygments_lexer": "ipython3",
   "version": "3.7.3"
  },
  "mimetype": "text/x-python",
  "name": "python",
  "npconvert_exporter": "python",
  "pygments_lexer": "ipython3",
  "version": 3
 },
 "nbformat": 4,
 "nbformat_minor": 4
}
