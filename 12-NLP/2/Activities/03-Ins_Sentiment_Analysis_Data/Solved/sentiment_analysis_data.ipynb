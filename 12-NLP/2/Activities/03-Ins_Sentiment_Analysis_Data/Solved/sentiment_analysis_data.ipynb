{
 "cells": [
  {
   "cell_type": "markdown",
   "metadata": {},
   "source": [
    "# Instructor Do: Getting Data for Sentiment Analysis"
   ]
  },
  {
   "cell_type": "code",
   "execution_count": 2,
   "metadata": {},
   "outputs": [],
   "source": [
    "# Initial imports\n",
    "import pandas as pd\n",
    "from dotenv import load_dotenv\n",
    "import os\n",
    "from newsapi import NewsApiClient\n",
    "\n"
   ]
  },
  {
   "cell_type": "code",
   "execution_count": 3,
   "metadata": {},
   "outputs": [],
   "source": [
    "# Load env variables and read the News API Key enviroment variable\n",
    "load_dotenv(\"example.env\")\n",
    "api_key = os.getenv(\"NEWS_API_KEY\")\n",
    "\n"
   ]
  },
  {
   "cell_type": "code",
   "execution_count": 4,
   "metadata": {},
   "outputs": [],
   "source": [
    "# Create a newsapi client\n",
    "newsapi = NewsApiClient(api_key=api_key)\n",
    "\n"
   ]
  },
  {
   "cell_type": "code",
   "execution_count": 5,
   "metadata": {},
   "outputs": [
    {
     "data": {
      "text/plain": [
       "{'status': 'ok',\n",
       " 'totalResults': 2,\n",
       " 'articles': [{'source': {'id': None, 'name': 'Thompsoncitizen.net'},\n",
       "   'author': '',\n",
       "   'title': \"Regulator charges B.C. firm's cedar leaf oil coronavirus claims were misleading - Thompson Citizen\",\n",
       "   'description': 'CALGARY — The Alberta Securities Commission is alleging a Vancouver company made misleading statements when it claimed to be researching and developing for sale a cedar leaf oil vapour product to . . .',\n",
       "   'url': 'https://www.thompsoncitizen.net/regulator-charges-b-c-firm-s-cedar-leaf-oil-coronavirus-claims-were-misleading-1.24190284',\n",
       "   'urlToImage': 'https://www.thompsoncitizen.nethttp://prod-admin1.glacier.atex.cniweb.net:8080/polopoly_fs/1.1761151.1423769691!/fileImage/httpImage/image.png_gen/derivatives/box_270/image.png',\n",
       "   'publishedAt': '2020-08-21T19:17:00Z',\n",
       "   'content': 'CALGARY The Alberta Securities Commission is alleging a Vancouver company made misleading statements when it claimed to be researching and developing for sale a cedar leaf oil vapour product to preve… [+1445 chars]'},\n",
       "  {'source': {'id': None, 'name': 'OilPrice.com'},\n",
       "   'author': 'Editorial Dept',\n",
       "   'title': 'Is This The End Of The Big Stimulus Rally? | OilPrice.com - OilPrice.com',\n",
       "   'description': 'Oil is set to close the week lower for the first time in 3 weeks, and unless the U.S. government agrees on a new stimulus package, oil could be set to fall further',\n",
       "   'url': 'https://oilprice.com/Energy/Energy-General/Is-This-The-End-Of-The-Big-Stimulus-Rally.html',\n",
       "   'urlToImage': 'https://d32r1sh890xpii.cloudfront.net/article/718x300/2020-08-21_1izwhdusga.jpg',\n",
       "   'publishedAt': '2020-08-21T17:00:00Z',\n",
       "   'content': 'U.S. West Texas Intermediate crude oil futures are trading lower on Friday, putting the market in a position to close lower for the first week in three. The market has been trading inside a narrow ra… [+1242 chars]'}]}"
      ]
     },
     "execution_count": 5,
     "metadata": {},
     "output_type": "execute_result"
    }
   ],
   "source": [
    "# Fetch top news articles about oil\n",
    "oil_headlines = newsapi.get_top_headlines(q=\"oil\", language=\"en\", country=\"ca\")\n",
    "oil_headlines\n",
    "\n"
   ]
  },
  {
   "cell_type": "code",
   "execution_count": 6,
   "metadata": {},
   "outputs": [
    {
     "name": "stdout",
     "output_type": "stream",
     "text": [
      "Total articles about oil: 2\n"
     ]
    },
    {
     "data": {
      "text/plain": [
       "{'source': {'id': None, 'name': 'Thompsoncitizen.net'},\n",
       " 'author': '',\n",
       " 'title': \"Regulator charges B.C. firm's cedar leaf oil coronavirus claims were misleading - Thompson Citizen\",\n",
       " 'description': 'CALGARY — The Alberta Securities Commission is alleging a Vancouver company made misleading statements when it claimed to be researching and developing for sale a cedar leaf oil vapour product to . . .',\n",
       " 'url': 'https://www.thompsoncitizen.net/regulator-charges-b-c-firm-s-cedar-leaf-oil-coronavirus-claims-were-misleading-1.24190284',\n",
       " 'urlToImage': 'https://www.thompsoncitizen.nethttp://prod-admin1.glacier.atex.cniweb.net:8080/polopoly_fs/1.1761151.1423769691!/fileImage/httpImage/image.png_gen/derivatives/box_270/image.png',\n",
       " 'publishedAt': '2020-08-21T19:17:00Z',\n",
       " 'content': 'CALGARY The Alberta Securities Commission is alleging a Vancouver company made misleading statements when it claimed to be researching and developing for sale a cedar leaf oil vapour product to preve… [+1445 chars]'}"
      ]
     },
     "execution_count": 6,
     "metadata": {},
     "output_type": "execute_result"
    }
   ],
   "source": [
    "# Print total articles\n",
    "print(f\"Total articles about oil: {oil_headlines['totalResults']}\")\n",
    "\n",
    "# Show sample article\n",
    "oil_headlines[\"articles\"][0]\n",
    "\n"
   ]
  },
  {
   "cell_type": "code",
   "execution_count": 7,
   "metadata": {},
   "outputs": [
    {
     "data": {
      "text/html": [
       "<div>\n",
       "<style scoped>\n",
       "    .dataframe tbody tr th:only-of-type {\n",
       "        vertical-align: middle;\n",
       "    }\n",
       "\n",
       "    .dataframe tbody tr th {\n",
       "        vertical-align: top;\n",
       "    }\n",
       "\n",
       "    .dataframe thead th {\n",
       "        text-align: right;\n",
       "    }\n",
       "</style>\n",
       "<table border=\"1\" class=\"dataframe\">\n",
       "  <thead>\n",
       "    <tr style=\"text-align: right;\">\n",
       "      <th></th>\n",
       "      <th>source</th>\n",
       "      <th>author</th>\n",
       "      <th>title</th>\n",
       "      <th>description</th>\n",
       "      <th>url</th>\n",
       "      <th>urlToImage</th>\n",
       "      <th>publishedAt</th>\n",
       "      <th>content</th>\n",
       "    </tr>\n",
       "  </thead>\n",
       "  <tbody>\n",
       "    <tr>\n",
       "      <th>0</th>\n",
       "      <td>{'id': None, 'name': 'Thompsoncitizen.net'}</td>\n",
       "      <td></td>\n",
       "      <td>Regulator charges B.C. firm's cedar leaf oil c...</td>\n",
       "      <td>CALGARY — The Alberta Securities Commission is...</td>\n",
       "      <td>https://www.thompsoncitizen.net/regulator-char...</td>\n",
       "      <td>https://www.thompsoncitizen.nethttp://prod-adm...</td>\n",
       "      <td>2020-08-21T19:17:00Z</td>\n",
       "      <td>CALGARY The Alberta Securities Commission is a...</td>\n",
       "    </tr>\n",
       "    <tr>\n",
       "      <th>1</th>\n",
       "      <td>{'id': None, 'name': 'OilPrice.com'}</td>\n",
       "      <td>Editorial Dept</td>\n",
       "      <td>Is This The End Of The Big Stimulus Rally? | O...</td>\n",
       "      <td>Oil is set to close the week lower for the fir...</td>\n",
       "      <td>https://oilprice.com/Energy/Energy-General/Is-...</td>\n",
       "      <td>https://d32r1sh890xpii.cloudfront.net/article/...</td>\n",
       "      <td>2020-08-21T17:00:00Z</td>\n",
       "      <td>U.S. West Texas Intermediate crude oil futures...</td>\n",
       "    </tr>\n",
       "  </tbody>\n",
       "</table>\n",
       "</div>"
      ],
      "text/plain": [
       "                                        source          author  \\\n",
       "0  {'id': None, 'name': 'Thompsoncitizen.net'}                   \n",
       "1         {'id': None, 'name': 'OilPrice.com'}  Editorial Dept   \n",
       "\n",
       "                                               title  \\\n",
       "0  Regulator charges B.C. firm's cedar leaf oil c...   \n",
       "1  Is This The End Of The Big Stimulus Rally? | O...   \n",
       "\n",
       "                                         description  \\\n",
       "0  CALGARY — The Alberta Securities Commission is...   \n",
       "1  Oil is set to close the week lower for the fir...   \n",
       "\n",
       "                                                 url  \\\n",
       "0  https://www.thompsoncitizen.net/regulator-char...   \n",
       "1  https://oilprice.com/Energy/Energy-General/Is-...   \n",
       "\n",
       "                                          urlToImage           publishedAt  \\\n",
       "0  https://www.thompsoncitizen.nethttp://prod-adm...  2020-08-21T19:17:00Z   \n",
       "1  https://d32r1sh890xpii.cloudfront.net/article/...  2020-08-21T17:00:00Z   \n",
       "\n",
       "                                             content  \n",
       "0  CALGARY The Alberta Securities Commission is a...  \n",
       "1  U.S. West Texas Intermediate crude oil futures...  "
      ]
     },
     "execution_count": 7,
     "metadata": {},
     "output_type": "execute_result"
    }
   ],
   "source": [
    "# Transform the response dictionary to a DataFrame\n",
    "oil_df = pd.DataFrame.from_dict(oil_headlines[\"articles\"])\n",
    "\n",
    "oil_df.head()\n",
    "\n"
   ]
  },
  {
   "cell_type": "code",
   "execution_count": 8,
   "metadata": {},
   "outputs": [
    {
     "name": "stdout",
     "output_type": "stream",
     "text": [
      "Total articles about Facebook Libra: 124\n"
     ]
    },
    {
     "data": {
      "text/plain": [
       "{'source': {'id': 'engadget', 'name': 'Engadget'},\n",
       " 'author': 'Nicole Lee',\n",
       " 'title': 'Facebook forms financial group to focus on payments',\n",
       " 'description': 'Facebook has decided to delve deeper into commerce with the creation of a new group focused on payments. According to Bloomberg, it’s called F2 internally (short for Facebook Financial), and is meant to take care of all payments-related projects including Fac…',\n",
       " 'url': 'https://www.engadget.com/facebook-financial-171810881.html',\n",
       " 'urlToImage': 'https://o.aolcdn.com/images/dims?resize=1200%2C630&crop=1200%2C630%2C0%2C0&quality=95&image_uri=https%3A%2F%2Fs.yimg.com%2Fos%2Fcreatr-images%2F2018-12%2Fd50afa90-f8ac-11e8-9eff-b3c598cb4350&client=amp-blogside-v2&signature=bede3bdddfe4cfa405b6d7837243d8830c0e0da9',\n",
       " 'publishedAt': '2020-08-10T17:18:10Z',\n",
       " 'content': 'The company believes that enabling such purchases makes advertising becomes more valuable. CEO Mark Zuckerberg has said that he’s quite keen on growing in-app transactions. “As payments grow across M… [+937 chars]'}"
      ]
     },
     "execution_count": 8,
     "metadata": {},
     "output_type": "execute_result"
    }
   ],
   "source": [
    "# Fetch all the news about Facebook Libra\n",
    "libra_headlines = newsapi.get_everything(\n",
    "    q=\"facebook libra\", language=\"en\", sort_by=\"relevancy\"\n",
    ")\n",
    "\n",
    "# Print total articles\n",
    "print(f\"Total articles about Facebook Libra: {libra_headlines['totalResults']}\")\n",
    "\n",
    "# Show sample article\n",
    "libra_headlines[\"articles\"][0]\n",
    "\n"
   ]
  },
  {
   "cell_type": "code",
   "execution_count": 9,
   "metadata": {},
   "outputs": [
    {
     "data": {
      "text/html": [
       "<div>\n",
       "<style scoped>\n",
       "    .dataframe tbody tr th:only-of-type {\n",
       "        vertical-align: middle;\n",
       "    }\n",
       "\n",
       "    .dataframe tbody tr th {\n",
       "        vertical-align: top;\n",
       "    }\n",
       "\n",
       "    .dataframe thead th {\n",
       "        text-align: right;\n",
       "    }\n",
       "</style>\n",
       "<table border=\"1\" class=\"dataframe\">\n",
       "  <thead>\n",
       "    <tr style=\"text-align: right;\">\n",
       "      <th></th>\n",
       "      <th>source</th>\n",
       "      <th>author</th>\n",
       "      <th>title</th>\n",
       "      <th>description</th>\n",
       "      <th>url</th>\n",
       "      <th>urlToImage</th>\n",
       "      <th>publishedAt</th>\n",
       "      <th>content</th>\n",
       "    </tr>\n",
       "  </thead>\n",
       "  <tbody>\n",
       "    <tr>\n",
       "      <th>0</th>\n",
       "      <td>{'id': 'engadget', 'name': 'Engadget'}</td>\n",
       "      <td>Nicole Lee</td>\n",
       "      <td>Facebook forms financial group to focus on pay...</td>\n",
       "      <td>Facebook has decided to delve deeper into comm...</td>\n",
       "      <td>https://www.engadget.com/facebook-financial-17...</td>\n",
       "      <td>https://o.aolcdn.com/images/dims?resize=1200%2...</td>\n",
       "      <td>2020-08-10T17:18:10Z</td>\n",
       "      <td>The company believes that enabling such purcha...</td>\n",
       "    </tr>\n",
       "    <tr>\n",
       "      <th>1</th>\n",
       "      <td>{'id': 'reuters', 'name': 'Reuters'}</td>\n",
       "      <td>Reuters Editorial</td>\n",
       "      <td>Former Paypal executive to lead Facebook Pay -...</td>\n",
       "      <td>Facebook Inc named former PayPal Holdings Inc ...</td>\n",
       "      <td>https://www.reuters.com/article/us-facebook-mo...</td>\n",
       "      <td>https://s4.reutersmedia.net/resources_v2/image...</td>\n",
       "      <td>2020-08-10T17:32:00Z</td>\n",
       "      <td>(Reuters) - Facebook Inc (FB.O) named former P...</td>\n",
       "    </tr>\n",
       "    <tr>\n",
       "      <th>2</th>\n",
       "      <td>{'id': None, 'name': 'Gizmodo.com'}</td>\n",
       "      <td>Shoshana Wodinsky</td>\n",
       "      <td>Facebook Says China Is Its Biggest Enemy, but ...</td>\n",
       "      <td>Anyone who’s covered the wacky world of tech p...</td>\n",
       "      <td>https://gizmodo.com/facebook-says-china-is-its...</td>\n",
       "      <td>https://i.kinja-img.com/gawker-media/image/upl...</td>\n",
       "      <td>2020-07-29T18:25:00Z</td>\n",
       "      <td>Anyone whos covered the wacky world of tech po...</td>\n",
       "    </tr>\n",
       "    <tr>\n",
       "      <th>3</th>\n",
       "      <td>{'id': 'business-insider', 'name': 'Business I...</td>\n",
       "      <td>Daniel Keyes</td>\n",
       "      <td>Facebook created a new team dedicated to its p...</td>\n",
       "      <td>&lt;ul&gt;\\n&lt;li&gt;Facebook created a new team dedicate...</td>\n",
       "      <td>https://www.businessinsider.com/facebook-creat...</td>\n",
       "      <td>https://i.insider.com/5f33df395af6cc59225c0259...</td>\n",
       "      <td>2020-08-12T12:28:00Z</td>\n",
       "      <td>Facebook Financial should help Facebook unify ...</td>\n",
       "    </tr>\n",
       "    <tr>\n",
       "      <th>4</th>\n",
       "      <td>{'id': None, 'name': 'Slashdot.org'}</td>\n",
       "      <td>msmash</td>\n",
       "      <td>Facebook Seeks Insights Into Startups by Inves...</td>\n",
       "      <td>Facebook in recent weeks has approached a hand...</td>\n",
       "      <td>https://tech.slashdot.org/story/20/07/28/18172...</td>\n",
       "      <td>https://a.fsdn.com/sd/topics/facebook_64.png</td>\n",
       "      <td>2020-07-28T18:44:00Z</td>\n",
       "      <td>The Fine Print: The following comments are own...</td>\n",
       "    </tr>\n",
       "  </tbody>\n",
       "</table>\n",
       "</div>"
      ],
      "text/plain": [
       "                                              source             author  \\\n",
       "0             {'id': 'engadget', 'name': 'Engadget'}         Nicole Lee   \n",
       "1               {'id': 'reuters', 'name': 'Reuters'}  Reuters Editorial   \n",
       "2                {'id': None, 'name': 'Gizmodo.com'}  Shoshana Wodinsky   \n",
       "3  {'id': 'business-insider', 'name': 'Business I...       Daniel Keyes   \n",
       "4               {'id': None, 'name': 'Slashdot.org'}             msmash   \n",
       "\n",
       "                                               title  \\\n",
       "0  Facebook forms financial group to focus on pay...   \n",
       "1  Former Paypal executive to lead Facebook Pay -...   \n",
       "2  Facebook Says China Is Its Biggest Enemy, but ...   \n",
       "3  Facebook created a new team dedicated to its p...   \n",
       "4  Facebook Seeks Insights Into Startups by Inves...   \n",
       "\n",
       "                                         description  \\\n",
       "0  Facebook has decided to delve deeper into comm...   \n",
       "1  Facebook Inc named former PayPal Holdings Inc ...   \n",
       "2  Anyone who’s covered the wacky world of tech p...   \n",
       "3  <ul>\\n<li>Facebook created a new team dedicate...   \n",
       "4  Facebook in recent weeks has approached a hand...   \n",
       "\n",
       "                                                 url  \\\n",
       "0  https://www.engadget.com/facebook-financial-17...   \n",
       "1  https://www.reuters.com/article/us-facebook-mo...   \n",
       "2  https://gizmodo.com/facebook-says-china-is-its...   \n",
       "3  https://www.businessinsider.com/facebook-creat...   \n",
       "4  https://tech.slashdot.org/story/20/07/28/18172...   \n",
       "\n",
       "                                          urlToImage           publishedAt  \\\n",
       "0  https://o.aolcdn.com/images/dims?resize=1200%2...  2020-08-10T17:18:10Z   \n",
       "1  https://s4.reutersmedia.net/resources_v2/image...  2020-08-10T17:32:00Z   \n",
       "2  https://i.kinja-img.com/gawker-media/image/upl...  2020-07-29T18:25:00Z   \n",
       "3  https://i.insider.com/5f33df395af6cc59225c0259...  2020-08-12T12:28:00Z   \n",
       "4       https://a.fsdn.com/sd/topics/facebook_64.png  2020-07-28T18:44:00Z   \n",
       "\n",
       "                                             content  \n",
       "0  The company believes that enabling such purcha...  \n",
       "1  (Reuters) - Facebook Inc (FB.O) named former P...  \n",
       "2  Anyone whos covered the wacky world of tech po...  \n",
       "3  Facebook Financial should help Facebook unify ...  \n",
       "4  The Fine Print: The following comments are own...  "
      ]
     },
     "execution_count": 9,
     "metadata": {},
     "output_type": "execute_result"
    }
   ],
   "source": [
    "# Transform the response dictionary to a DataFrame\n",
    "libra_df = pd.DataFrame.from_dict(libra_headlines[\"articles\"])\n",
    "\n",
    "libra_df.head()\n",
    "\n"
   ]
  },
  {
   "cell_type": "code",
   "execution_count": null,
   "metadata": {},
   "outputs": [],
   "source": []
  }
 ],
 "metadata": {
  "file_extension": ".py",
  "kernelspec": {
   "display_name": "Python 3",
   "language": "python",
   "name": "python3"
  },
  "language_info": {
   "codemirror_mode": {
    "name": "ipython",
    "version": 3
   },
   "file_extension": ".py",
   "mimetype": "text/x-python",
   "name": "python",
   "nbconvert_exporter": "python",
   "pygments_lexer": "ipython3",
   "version": "3.8.3"
  },
  "mimetype": "text/x-python",
  "name": "python",
  "npconvert_exporter": "python",
  "pygments_lexer": "ipython3",
  "version": 3
 },
 "nbformat": 4,
 "nbformat_minor": 4
}
