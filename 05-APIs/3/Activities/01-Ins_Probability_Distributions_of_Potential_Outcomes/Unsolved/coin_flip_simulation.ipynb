{
 "cells": [
  {
   "cell_type": "markdown",
   "metadata": {},
   "source": [
    "# Instructor Demo: Coin Flip Simulation\n",
    "\n",
    "This program executes `n` number of simulations of flipping a coin 10 times. Results are then saved to a DataFrame to calculate the frequency distribution and corresponding probability distribution of the coin landing on heads."
   ]
  },
  {
   "cell_type": "code",
   "execution_count": null,
   "metadata": {},
   "outputs": [],
   "source": [
    "# Import libraries and dependencies\n",
    "from numpy import random\n",
    "import pandas as pd\n",
    "\n",
    "%matplotlib inline"
   ]
  },
  {
   "cell_type": "code",
   "execution_count": null,
   "metadata": {},
   "outputs": [],
   "source": [
    "# Set the random seed\n",
    "random.seed(3)"
   ]
  },
  {
   "cell_type": "markdown",
   "metadata": {},
   "source": [
    "### Perform `5` Monte Carlo Simulations and Create Pandas DataFrame From Results"
   ]
  },
  {
   "cell_type": "code",
   "execution_count": null,
   "metadata": {},
   "outputs": [],
   "source": [
    "# Set number of simulations and coin flips\n",
    "\n",
    "# Set a list object acting as a coin: heads or tails\n",
    "\n",
    "# Set probability of events\n",
    "\n",
    "# Create an empty DataFrame to hold simulation results\n"
   ]
  },
  {
   "cell_type": "code",
   "execution_count": null,
   "metadata": {},
   "outputs": [],
   "source": [
    "# Run n number of simulations\n",
    "for n in range(num_simulations):\n",
    "\n",
    "    # Print simulation iteration\n",
    "    \n",
    "    # Set an empty list to hold flip results\n",
    "\n",
    "    # Flip the coin several times\n",
    "    for i in range(num_flips):\n",
    "        \n",
    "        # Random int: 0 or 1\n",
    "        \n",
    "        # Print flip result\n",
    "\n",
    "        # Append flip result to list\n",
    "\n",
    "    # Append column for each simulation and flip results\n",
    "\n",
    "# Print the DataFrame\n"
   ]
  },
  {
   "cell_type": "markdown",
   "metadata": {},
   "source": [
    "### Calculate Frequency Distribution of Heads-to-Tails for `5` Simulations and Save Results to DataFrame"
   ]
  },
  {
   "cell_type": "code",
   "execution_count": null,
   "metadata": {},
   "outputs": [],
   "source": [
    "# Set empty DataFrame to hold frequency distribution values\n",
    "\n",
    "# Set empty lists to hold heads and tails results per simulation\n",
    "\n",
    "\n",
    "# Loop through the results of every simulation\n",
    "for col in monte_carlo.columns:\n",
    "    \n",
    "    # Use the `value_counts` function to calculate the frequency distribution \n",
    "    # of heads-to-tails for every simulation, returns Series object\n",
    "    \n",
    "    # Append results of heads and tails to respective lists\n",
    "    # If `heads` and `tails key is present in the Series, append both results\n",
    "            \n",
    "    # If `heads` key is not present in the Series, append heads list with 0\n",
    "    # And append tails list with tails result (simulation must have returned all tails)\n",
    "            \n",
    "    # If `tails` key is not present in the Series, append tails list with 0\n",
    "    # And append heads list with heads result (simulation must have returned all heads)\n",
    "    \n",
    "# Create columns from heads and tails lists\n"
   ]
  },
  {
   "cell_type": "markdown",
   "metadata": {},
   "source": [
    "### Plot Frequency Distribution of Landing on Heads for `5` Simulations of 10 Coin Flips"
   ]
  },
  {
   "cell_type": "code",
   "execution_count": null,
   "metadata": {},
   "outputs": [],
   "source": [
    "# Plot the data as a histogram\n"
   ]
  },
  {
   "cell_type": "code",
   "execution_count": null,
   "metadata": {},
   "outputs": [],
   "source": [
    "# Plot the data as a histogram but manually set the bin ranges\n"
   ]
  },
  {
   "cell_type": "markdown",
   "metadata": {},
   "source": [
    "### Plot Probability Distribution of Landing on Heads for `5` Simulations of 10 Coin Flips"
   ]
  },
  {
   "cell_type": "code",
   "execution_count": null,
   "metadata": {},
   "outputs": [],
   "source": [
    "# Plot the data as a histogram with probabilities of \n"
   ]
  },
  {
   "cell_type": "markdown",
   "metadata": {},
   "source": [
    "---"
   ]
  },
  {
   "cell_type": "markdown",
   "metadata": {},
   "source": [
    "### Perform `100` Monte Carlo Simulations and Create Pandas DataFrame From Results"
   ]
  },
  {
   "cell_type": "code",
   "execution_count": null,
   "metadata": {},
   "outputs": [],
   "source": [
    "# Set number of simulations and coin flips\n",
    "num_simulations = 100\n",
    "num_flips = 10\n",
    "\n",
    "# Set a list object acting as a coin: heads or tails\n",
    "coin = [\"heads\", \"tails\"]\n",
    "\n",
    "# Set probability of events\n",
    "probability = [0.5, 0.5]\n",
    "\n",
    "# Create an empty DataFrame to hold simulation results\n",
    "monte_carlo = pd.DataFrame()\n",
    "\n",
    "# Run n number of simulations\n",
    "for n in range(num_simulations):\n",
    "\n",
    "    # Print simulation iteration\n",
    "    # print(f\"Running Simulation {n+1}...\")\n",
    "    \n",
    "    # Set an empty list to hold flip results\n",
    "    flips = []\n",
    "\n",
    "    # Flip the coin several times\n",
    "    for i in range(num_flips):\n",
    "        \n",
    "        # Random int: 0 or 1\n",
    "        coin_flip = random.choice(coin, p=probability)\n",
    "        \n",
    "        # Print flip result\n",
    "        # print(f\"  Flip {i+1}: {coin_flip}\")\n",
    "\n",
    "        # Append flip result to list\n",
    "        flips.append(coin_flip)\n",
    "\n",
    "    # Append column for each simulation and flip results\n",
    "    monte_carlo[f\"Simulation {n}\"] = pd.Series(flips)\n",
    "\n",
    "# Print the DataFrame\n",
    "monte_carlo"
   ]
  },
  {
   "cell_type": "markdown",
   "metadata": {},
   "source": [
    "### Calculate Frequency Distribution of Heads-to-Tails for `100` Simulations and Save Results to DataFrame"
   ]
  },
  {
   "cell_type": "code",
   "execution_count": null,
   "metadata": {},
   "outputs": [],
   "source": [
    "# Set empty DataFrame to hold frequency distribution values\n",
    "freq_dist_df = pd.DataFrame()\n",
    "\n",
    "# Set empty lists to hold heads and tails results per simulation\n",
    "heads = []\n",
    "tails = []\n",
    "\n",
    "# Loop through the results of every simulation\n",
    "for col in monte_carlo.columns:\n",
    "    \n",
    "    # Use the `value_counts` function to calculate the frequency distribution \n",
    "    # of heads-to-tails for every simulation, returns Series object\n",
    "    value_count = monte_carlo[col].value_counts()\n",
    "    \n",
    "    # Append results of heads and tails to respective lists\n",
    "    # If `heads` and `tails key is present in the Series, append both results\n",
    "    if \"heads\" in value_count.index and \"tails\" in value_count.index:\n",
    "        heads.append(value_count[\"heads\"])\n",
    "        tails.append(value_count[\"tails\"])\n",
    "        \n",
    "    # If `heads` key is not present in the Series, append heads list with 0\n",
    "    # And append tails list with tails result (simulation must have returned all tails)\n",
    "    elif \"heads\" not in value_count.index:\n",
    "        heads.append(0)\n",
    "        tails.append(value_count[\"tails\"])\n",
    "        \n",
    "    # If `tails` key is not present in the Series, append tails list with 0\n",
    "    # And append heads list with heads result (simulation must have returned all heads)\n",
    "    elif \"tails\" not in value_count.index:\n",
    "        tails.append(0)\n",
    "        heads.append(value_count[\"heads\"])\n",
    "        \n",
    "# Create columns from heads and tails lists\n",
    "freq_dist_df[\"heads\"] = heads\n",
    "freq_dist_df[\"tails\"] = tails\n",
    "freq_dist_df.head()"
   ]
  },
  {
   "cell_type": "markdown",
   "metadata": {},
   "source": [
    "### Plot Frequency Distribution of Landing on Heads for `100` Simulations of 10 Coin Flips"
   ]
  },
  {
   "cell_type": "code",
   "execution_count": null,
   "metadata": {},
   "outputs": [],
   "source": [
    "# Plot the data as a histogram\n",
    "plot_title = f\"Frequency Distribution of Heads for {num_simulations} Simulations of 10 Coin Flips\"\n",
    "freq_dist_df[\"heads\"].plot(kind=\"hist\", title=plot_title)"
   ]
  },
  {
   "cell_type": "code",
   "execution_count": null,
   "metadata": {},
   "outputs": [],
   "source": [
    "# Plot the data as a histogram but manually set the bin ranges\n",
    "freq_dist_df[\"heads\"].plot.hist(title=plot_title, bins=[0, 1, 2, 3, 4, 5, 6, 7, 8, 9, 10])"
   ]
  },
  {
   "cell_type": "markdown",
   "metadata": {},
   "source": [
    "### Plot Probability Distribution of Landing on Heads for `100` Simulations of 10 Coin Flips"
   ]
  },
  {
   "cell_type": "code",
   "execution_count": null,
   "metadata": {},
   "outputs": [],
   "source": [
    "# Plot the data as a histogram with probabilities of \n",
    "freq_dist_df[\"heads\"].plot.hist(\n",
    "    density=True,\n",
    "    title=plot_title,\n",
    "    bins=[0, 1, 2, 3, 4, 5, 6, 7, 8, 9, 10]\n",
    ")"
   ]
  },
  {
   "cell_type": "markdown",
   "metadata": {},
   "source": [
    "---"
   ]
  },
  {
   "cell_type": "markdown",
   "metadata": {},
   "source": [
    "### Perform `1000` Monte Carlo Simulations and Create Pandas DataFrame From Results"
   ]
  },
  {
   "cell_type": "code",
   "execution_count": null,
   "metadata": {},
   "outputs": [],
   "source": [
    "# Set number of simulations and coin flips\n",
    "num_simulations = 1000\n",
    "num_flips = 10\n",
    "\n",
    "# Set a list object acting as a coin: heads or tails\n",
    "coin = [\"heads\", \"tails\"]\n",
    "\n",
    "# Set probability of events\n",
    "probability = [0.5, 0.5]\n",
    "\n",
    "# Create an empty DataFrame to hold simulation results\n",
    "monte_carlo = pd.DataFrame()\n",
    "\n",
    "# Run n number of simulations\n",
    "for n in range(num_simulations):\n",
    "\n",
    "    # Print simulation iteration\n",
    "    # print(f\"Running Simulation {n+1}...\")\n",
    "    \n",
    "    # Set an empty list to hold flip results\n",
    "    flips = []\n",
    "\n",
    "    # Flip the coin several times\n",
    "    for i in range(num_flips):\n",
    "        \n",
    "        # Random int: 0 or 1\n",
    "        coin_flip = random.choice(coin, p=probability)\n",
    "        \n",
    "        # Print flip result\n",
    "        # print(f\"  Flip {i+1}: {coin_flip}\")\n",
    "\n",
    "        # Append flip result to list\n",
    "        flips.append(coin_flip)\n",
    "\n",
    "    # Append column for each simulation and flip results\n",
    "    monte_carlo[f\"Simulation {n}\"] = pd.Series(flips)\n",
    "\n",
    "# Print the DataFrame\n",
    "monte_carlo"
   ]
  },
  {
   "cell_type": "markdown",
   "metadata": {},
   "source": [
    "### Calculate Frequency Distribution of Heads-to-Tails for `1000` Simulations and Save Results to DataFrame"
   ]
  },
  {
   "cell_type": "code",
   "execution_count": null,
   "metadata": {},
   "outputs": [],
   "source": [
    "# Set empty DataFrame to hold frequency distribution values\n",
    "freq_dist_df = pd.DataFrame()\n",
    "\n",
    "# Set empty lists to hold heads and tails results per simulation\n",
    "heads = []\n",
    "tails = []\n",
    "\n",
    "# Loop through the results of every simulation\n",
    "for col in monte_carlo.columns:\n",
    "    \n",
    "    # Use the `value_counts` function to calculate the frequency distribution \n",
    "    # of heads-to-tails for every simulation, returns Series object\n",
    "    value_count = monte_carlo[col].value_counts()\n",
    "    \n",
    "    # Append results of heads and tails to respective lists\n",
    "    # If `heads` and `tails key is present in the Series, append both results\n",
    "    if \"heads\" in value_count.index and \"tails\" in value_count.index:\n",
    "        heads.append(value_count[\"heads\"])\n",
    "        tails.append(value_count[\"tails\"])\n",
    "        \n",
    "    # If `heads` key is not present in the Series, append heads list with 0\n",
    "    # And append tails list with tails result (simulation must have returned all tails)\n",
    "    elif \"heads\" not in value_count.index:\n",
    "        heads.append(0)\n",
    "        tails.append(value_count[\"tails\"])\n",
    "        \n",
    "    # If `tails` key is not present in the Series, append tails list with 0\n",
    "    # And append heads list with heads result (simulation must have returned all heads)\n",
    "    elif \"tails\" not in value_count.index:\n",
    "        tails.append(0)\n",
    "        heads.append(value_count[\"heads\"])\n",
    "        \n",
    "# Create columns from heads and tails lists\n",
    "freq_dist_df[\"heads\"] = heads\n",
    "freq_dist_df[\"tails\"] = tails\n",
    "freq_dist_df.head()"
   ]
  },
  {
   "cell_type": "markdown",
   "metadata": {},
   "source": [
    "### Plot Frequency Distribution of Landing on Heads for `1000` Simulations of 10 Coin Flips"
   ]
  },
  {
   "cell_type": "code",
   "execution_count": null,
   "metadata": {},
   "outputs": [],
   "source": [
    "# Plot the data as a histogram\n",
    "plot_title = f\"Frequency Distribution of Heads for {num_simulations} Simulations of 10 Coin Flips\"\n",
    "freq_dist_df[\"heads\"].plot(kind=\"hist\", title=plot_title)"
   ]
  },
  {
   "cell_type": "code",
   "execution_count": null,
   "metadata": {},
   "outputs": [],
   "source": [
    "# Plot the data as a histogram but manually set the bin ranges\n",
    "freq_dist_df[\"heads\"].plot.hist(title=plot_title, bins=[0, 1, 2, 3, 4, 5, 6, 7, 8, 9, 10])"
   ]
  },
  {
   "cell_type": "markdown",
   "metadata": {},
   "source": [
    "### Plot Probability Distribution of Landing on Heads for `1000` Simulations of 10 Coin Flips"
   ]
  },
  {
   "cell_type": "code",
   "execution_count": null,
   "metadata": {},
   "outputs": [],
   "source": [
    "# Plot the data as a histogram with probabilities of \n",
    "freq_dist_df[\"heads\"].plot.hist(\n",
    "    density=True,\n",
    "    title=plot_title,\n",
    "    bins=[0, 1, 2, 3, 4, 5, 6, 7, 8, 9, 10]\n",
    ")"
   ]
  }
 ],
 "metadata": {
  "kernelspec": {
   "display_name": "Python 3",
   "language": "python",
   "name": "python3"
  },
  "language_info": {
   "codemirror_mode": {
    "name": "ipython",
    "version": 3
   },
   "file_extension": ".py",
   "mimetype": "text/x-python",
   "name": "python",
   "nbconvert_exporter": "python",
   "pygments_lexer": "ipython3",
   "version": "3.7.6"
  }
 },
 "nbformat": 4,
 "nbformat_minor": 4
}
