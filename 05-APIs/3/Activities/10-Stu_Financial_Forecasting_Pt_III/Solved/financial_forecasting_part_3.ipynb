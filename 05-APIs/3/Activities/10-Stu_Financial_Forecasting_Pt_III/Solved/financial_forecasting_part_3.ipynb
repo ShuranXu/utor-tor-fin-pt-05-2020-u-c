{
 "cells": [
  {
   "cell_type": "markdown",
   "metadata": {},
   "source": [
    "### Instructor Demo: Financial Forecasting Part III\n",
    "\n",
    "This program executes `1000` simulations of stock price trajectory for `TSLA` and `SPHD` over the next `252 * 3` trading days (or 3 years of trading), based on a normal probability distribution of potential daily returns derived from the corresponding sample means and standard deviations. Daily and cumulative portfolio returns are then calculated, using `75%` of capital allocated to `TSLA` and `25%` of capital allocated to `SPHD`, to analyze the probability distribution and confidence interval of potential ending cumulative portfolio returns."
   ]
  },
  {
   "cell_type": "code",
   "execution_count": 1,
   "metadata": {},
   "outputs": [],
   "source": [
    "# Import libraries and dependencies\n",
    "import numpy as np\n",
    "import pandas as pd\n",
    "import os\n",
    "import matplotlib.pyplot as plt\n",
    "import alpaca_trade_api as tradeapi\n",
    "%matplotlib inline"
   ]
  },
  {
   "cell_type": "code",
   "execution_count": 2,
   "metadata": {},
   "outputs": [],
   "source": [
    "# Load .env enviroment variables\n",
    "from dotenv import load_dotenv\n",
    "load_dotenv()\n",
    "\n",
    "# Set Alpaca API key and secret\n",
    "alpaca_api_key = os.getenv(\"ALPACA_API_KEY\")\n",
    "alpaca_secret_key = os.getenv(\"ALPACA_SECRET_KEY\")\n",
    "\n",
    "api = tradeapi.REST(alpaca_api_key, alpaca_secret_key, api_version='v2')"
   ]
  },
  {
   "cell_type": "markdown",
   "metadata": {},
   "source": [
    "### Check Available Tickers from Alpaca Markets API"
   ]
  },
  {
   "cell_type": "code",
   "execution_count": 3,
   "metadata": {
    "inputHidden": false,
    "outputHidden": false,
    "scrolled": true
   },
   "outputs": [],
   "source": [
    "# Get all Assets\n",
    "assets = api.list_assets()\n",
    "\n",
    "# Keep only tradeable assets\n",
    "tradeable = [asset for asset in assets if asset.tradable ]"
   ]
  },
  {
   "cell_type": "markdown",
   "metadata": {},
   "source": [
    "### Get 1 Year's Worth of Data via API Call and Read in as DataFrame "
   ]
  },
  {
   "cell_type": "code",
   "execution_count": 4,
   "metadata": {},
   "outputs": [
    {
     "data": {
      "text/html": [
       "<div>\n",
       "<style scoped>\n",
       "    .dataframe tbody tr th:only-of-type {\n",
       "        vertical-align: middle;\n",
       "    }\n",
       "\n",
       "    .dataframe tbody tr th {\n",
       "        vertical-align: top;\n",
       "    }\n",
       "\n",
       "    .dataframe thead tr th {\n",
       "        text-align: left;\n",
       "    }\n",
       "</style>\n",
       "<table border=\"1\" class=\"dataframe\">\n",
       "  <thead>\n",
       "    <tr>\n",
       "      <th></th>\n",
       "      <th colspan=\"5\" halign=\"left\">SPHD</th>\n",
       "      <th colspan=\"5\" halign=\"left\">TSLA</th>\n",
       "    </tr>\n",
       "    <tr>\n",
       "      <th></th>\n",
       "      <th>open</th>\n",
       "      <th>high</th>\n",
       "      <th>low</th>\n",
       "      <th>close</th>\n",
       "      <th>volume</th>\n",
       "      <th>open</th>\n",
       "      <th>high</th>\n",
       "      <th>low</th>\n",
       "      <th>close</th>\n",
       "      <th>volume</th>\n",
       "    </tr>\n",
       "  </thead>\n",
       "  <tbody>\n",
       "    <tr>\n",
       "      <th>2019-05-06 00:00:00-04:00</th>\n",
       "      <td>42.24</td>\n",
       "      <td>42.58</td>\n",
       "      <td>42.23</td>\n",
       "      <td>42.48</td>\n",
       "      <td>601263</td>\n",
       "      <td>250.10</td>\n",
       "      <td>258.3499</td>\n",
       "      <td>248.5000</td>\n",
       "      <td>255.335</td>\n",
       "      <td>9546203</td>\n",
       "    </tr>\n",
       "    <tr>\n",
       "      <th>2019-05-07 00:00:00-04:00</th>\n",
       "      <td>42.26</td>\n",
       "      <td>42.28</td>\n",
       "      <td>41.76</td>\n",
       "      <td>42.03</td>\n",
       "      <td>692472</td>\n",
       "      <td>256.80</td>\n",
       "      <td>257.2100</td>\n",
       "      <td>245.1000</td>\n",
       "      <td>247.060</td>\n",
       "      <td>9542822</td>\n",
       "    </tr>\n",
       "    <tr>\n",
       "      <th>2019-05-08 00:00:00-04:00</th>\n",
       "      <td>41.97</td>\n",
       "      <td>42.07</td>\n",
       "      <td>41.79</td>\n",
       "      <td>41.79</td>\n",
       "      <td>656978</td>\n",
       "      <td>246.94</td>\n",
       "      <td>250.5990</td>\n",
       "      <td>244.2000</td>\n",
       "      <td>244.760</td>\n",
       "      <td>5757805</td>\n",
       "    </tr>\n",
       "    <tr>\n",
       "      <th>2019-05-09 00:00:00-04:00</th>\n",
       "      <td>41.60</td>\n",
       "      <td>41.79</td>\n",
       "      <td>41.34</td>\n",
       "      <td>41.72</td>\n",
       "      <td>738856</td>\n",
       "      <td>242.00</td>\n",
       "      <td>243.6800</td>\n",
       "      <td>236.9434</td>\n",
       "      <td>241.980</td>\n",
       "      <td>6455536</td>\n",
       "    </tr>\n",
       "    <tr>\n",
       "      <th>2019-05-10 00:00:00-04:00</th>\n",
       "      <td>41.62</td>\n",
       "      <td>42.19</td>\n",
       "      <td>41.35</td>\n",
       "      <td>42.12</td>\n",
       "      <td>612070</td>\n",
       "      <td>239.75</td>\n",
       "      <td>241.9900</td>\n",
       "      <td>236.0200</td>\n",
       "      <td>239.510</td>\n",
       "      <td>6716345</td>\n",
       "    </tr>\n",
       "  </tbody>\n",
       "</table>\n",
       "</div>"
      ],
      "text/plain": [
       "                            SPHD                                 TSLA  \\\n",
       "                            open   high    low  close  volume    open   \n",
       "2019-05-06 00:00:00-04:00  42.24  42.58  42.23  42.48  601263  250.10   \n",
       "2019-05-07 00:00:00-04:00  42.26  42.28  41.76  42.03  692472  256.80   \n",
       "2019-05-08 00:00:00-04:00  41.97  42.07  41.79  41.79  656978  246.94   \n",
       "2019-05-09 00:00:00-04:00  41.60  41.79  41.34  41.72  738856  242.00   \n",
       "2019-05-10 00:00:00-04:00  41.62  42.19  41.35  42.12  612070  239.75   \n",
       "\n",
       "                                                                 \n",
       "                               high       low    close   volume  \n",
       "2019-05-06 00:00:00-04:00  258.3499  248.5000  255.335  9546203  \n",
       "2019-05-07 00:00:00-04:00  257.2100  245.1000  247.060  9542822  \n",
       "2019-05-08 00:00:00-04:00  250.5990  244.2000  244.760  5757805  \n",
       "2019-05-09 00:00:00-04:00  243.6800  236.9434  241.980  6455536  \n",
       "2019-05-10 00:00:00-04:00  241.9900  236.0200  239.510  6716345  "
      ]
     },
     "execution_count": 4,
     "metadata": {},
     "output_type": "execute_result"
    }
   ],
   "source": [
    "# Set the list of tickers\n",
    "tickers = [\"TSLA\", \"SPHD\"]\n",
    "\n",
    "# Set timeframe to '1D'\n",
    "timeframe = '1D'\n",
    "\n",
    "# Set start and end datetimes of 1 year, between now and 365 days ago.\n",
    "start_date = pd.Timestamp(\"2019-05-04\", tz=\"America/New_York\").isoformat()\n",
    "end_date = pd.Timestamp(\"2020-05-04\", tz=\"America/New_York\").isoformat()\n",
    "\n",
    "# Get 1 year's worth of historical data for TSLA and SPHD.\n",
    "df = api.get_barset(\n",
    "    tickers,\n",
    "    timeframe,\n",
    "    limit=None,\n",
    "    start=start_date,\n",
    "    end=end_date,\n",
    "    after=None,\n",
    "    until=None,\n",
    ").df\n",
    "\n",
    "df.head()"
   ]
  },
  {
   "cell_type": "markdown",
   "metadata": {},
   "source": [
    "### Drop Extraneous Columns"
   ]
  },
  {
   "cell_type": "code",
   "execution_count": 5,
   "metadata": {},
   "outputs": [
    {
     "data": {
      "text/html": [
       "<div>\n",
       "<style scoped>\n",
       "    .dataframe tbody tr th:only-of-type {\n",
       "        vertical-align: middle;\n",
       "    }\n",
       "\n",
       "    .dataframe tbody tr th {\n",
       "        vertical-align: top;\n",
       "    }\n",
       "\n",
       "    .dataframe thead tr th {\n",
       "        text-align: left;\n",
       "    }\n",
       "</style>\n",
       "<table border=\"1\" class=\"dataframe\">\n",
       "  <thead>\n",
       "    <tr>\n",
       "      <th></th>\n",
       "      <th>SPHD</th>\n",
       "      <th>TSLA</th>\n",
       "    </tr>\n",
       "    <tr>\n",
       "      <th></th>\n",
       "      <th>close</th>\n",
       "      <th>close</th>\n",
       "    </tr>\n",
       "  </thead>\n",
       "  <tbody>\n",
       "    <tr>\n",
       "      <th>2019-05-06 00:00:00-04:00</th>\n",
       "      <td>42.48</td>\n",
       "      <td>255.335</td>\n",
       "    </tr>\n",
       "    <tr>\n",
       "      <th>2019-05-07 00:00:00-04:00</th>\n",
       "      <td>42.03</td>\n",
       "      <td>247.060</td>\n",
       "    </tr>\n",
       "    <tr>\n",
       "      <th>2019-05-08 00:00:00-04:00</th>\n",
       "      <td>41.79</td>\n",
       "      <td>244.760</td>\n",
       "    </tr>\n",
       "    <tr>\n",
       "      <th>2019-05-09 00:00:00-04:00</th>\n",
       "      <td>41.72</td>\n",
       "      <td>241.980</td>\n",
       "    </tr>\n",
       "    <tr>\n",
       "      <th>2019-05-10 00:00:00-04:00</th>\n",
       "      <td>42.12</td>\n",
       "      <td>239.510</td>\n",
       "    </tr>\n",
       "  </tbody>\n",
       "</table>\n",
       "</div>"
      ],
      "text/plain": [
       "                            SPHD     TSLA\n",
       "                           close    close\n",
       "2019-05-06 00:00:00-04:00  42.48  255.335\n",
       "2019-05-07 00:00:00-04:00  42.03  247.060\n",
       "2019-05-08 00:00:00-04:00  41.79  244.760\n",
       "2019-05-09 00:00:00-04:00  41.72  241.980\n",
       "2019-05-10 00:00:00-04:00  42.12  239.510"
      ]
     },
     "execution_count": 5,
     "metadata": {},
     "output_type": "execute_result"
    }
   ],
   "source": [
    "# Use the `drop` function with the `level` parameter to drop extra columns in the multi-index DataFrame\n",
    "df.drop(columns=['open', 'high', 'low', 'volume'], level=1, inplace=True)\n",
    "df.head()"
   ]
  },
  {
   "cell_type": "markdown",
   "metadata": {},
   "source": [
    "### Calculate Daily Returns"
   ]
  },
  {
   "cell_type": "code",
   "execution_count": 6,
   "metadata": {},
   "outputs": [
    {
     "data": {
      "text/html": [
       "<div>\n",
       "<style scoped>\n",
       "    .dataframe tbody tr th:only-of-type {\n",
       "        vertical-align: middle;\n",
       "    }\n",
       "\n",
       "    .dataframe tbody tr th {\n",
       "        vertical-align: top;\n",
       "    }\n",
       "\n",
       "    .dataframe thead tr th {\n",
       "        text-align: left;\n",
       "    }\n",
       "</style>\n",
       "<table border=\"1\" class=\"dataframe\">\n",
       "  <thead>\n",
       "    <tr>\n",
       "      <th></th>\n",
       "      <th>SPHD</th>\n",
       "      <th>TSLA</th>\n",
       "    </tr>\n",
       "    <tr>\n",
       "      <th></th>\n",
       "      <th>close</th>\n",
       "      <th>close</th>\n",
       "    </tr>\n",
       "  </thead>\n",
       "  <tbody>\n",
       "    <tr>\n",
       "      <th>2019-05-06 00:00:00-04:00</th>\n",
       "      <td>NaN</td>\n",
       "      <td>NaN</td>\n",
       "    </tr>\n",
       "    <tr>\n",
       "      <th>2019-05-07 00:00:00-04:00</th>\n",
       "      <td>-0.010593</td>\n",
       "      <td>-0.032408</td>\n",
       "    </tr>\n",
       "    <tr>\n",
       "      <th>2019-05-08 00:00:00-04:00</th>\n",
       "      <td>-0.005710</td>\n",
       "      <td>-0.009309</td>\n",
       "    </tr>\n",
       "    <tr>\n",
       "      <th>2019-05-09 00:00:00-04:00</th>\n",
       "      <td>-0.001675</td>\n",
       "      <td>-0.011358</td>\n",
       "    </tr>\n",
       "    <tr>\n",
       "      <th>2019-05-10 00:00:00-04:00</th>\n",
       "      <td>0.009588</td>\n",
       "      <td>-0.010207</td>\n",
       "    </tr>\n",
       "  </tbody>\n",
       "</table>\n",
       "</div>"
      ],
      "text/plain": [
       "                               SPHD      TSLA\n",
       "                              close     close\n",
       "2019-05-06 00:00:00-04:00       NaN       NaN\n",
       "2019-05-07 00:00:00-04:00 -0.010593 -0.032408\n",
       "2019-05-08 00:00:00-04:00 -0.005710 -0.009309\n",
       "2019-05-09 00:00:00-04:00 -0.001675 -0.011358\n",
       "2019-05-10 00:00:00-04:00  0.009588 -0.010207"
      ]
     },
     "execution_count": 6,
     "metadata": {},
     "output_type": "execute_result"
    }
   ],
   "source": [
    "# Use the `pct_change` function to calculate daily returns of `TSLA` and `SPHD`.\n",
    "daily_returns = df.pct_change()\n",
    "daily_returns.head()"
   ]
  },
  {
   "cell_type": "markdown",
   "metadata": {},
   "source": [
    "### Calculate Value of Average Daily Returns"
   ]
  },
  {
   "cell_type": "code",
   "execution_count": 7,
   "metadata": {},
   "outputs": [
    {
     "data": {
      "text/plain": [
       "-0.000919763079205799"
      ]
     },
     "execution_count": 7,
     "metadata": {},
     "output_type": "execute_result"
    }
   ],
   "source": [
    "# Use the `mean` function to calculate the mean of daily returns for `TLSA` and `SPHD`, respectively\n",
    "avg_daily_return_tsla = daily_returns.mean()['TSLA']['close']\n",
    "avg_daily_return_sphd = daily_returns.mean()['SPHD']['close']\n",
    "avg_daily_return_sphd"
   ]
  },
  {
   "cell_type": "markdown",
   "metadata": {},
   "source": [
    "### Calculate Value of Standard Deviation of Daily Returns"
   ]
  },
  {
   "cell_type": "code",
   "execution_count": 8,
   "metadata": {},
   "outputs": [
    {
     "data": {
      "text/plain": [
       "0.021874972492421298"
      ]
     },
     "execution_count": 8,
     "metadata": {},
     "output_type": "execute_result"
    }
   ],
   "source": [
    "# Use the `std` function to calculate the standard deviation of daily returns for `TSLA` and `SPHD`, respectively\n",
    "std_dev_daily_return_tsla = daily_returns.std()['TSLA']['close']\n",
    "std_dev_daily_return_sphd = daily_returns.std()['SPHD']['close']\n",
    "std_dev_daily_return_sphd"
   ]
  },
  {
   "cell_type": "markdown",
   "metadata": {},
   "source": [
    "### Run the Monte Carlo Simulation and Save Results to DataFrame"
   ]
  },
  {
   "cell_type": "code",
   "execution_count": 9,
   "metadata": {},
   "outputs": [
    {
     "data": {
      "text/html": [
       "<div>\n",
       "<style scoped>\n",
       "    .dataframe tbody tr th:only-of-type {\n",
       "        vertical-align: middle;\n",
       "    }\n",
       "\n",
       "    .dataframe tbody tr th {\n",
       "        vertical-align: top;\n",
       "    }\n",
       "\n",
       "    .dataframe thead th {\n",
       "        text-align: right;\n",
       "    }\n",
       "</style>\n",
       "<table border=\"1\" class=\"dataframe\">\n",
       "  <thead>\n",
       "    <tr style=\"text-align: right;\">\n",
       "      <th></th>\n",
       "      <th>0</th>\n",
       "      <th>1</th>\n",
       "      <th>2</th>\n",
       "      <th>3</th>\n",
       "      <th>4</th>\n",
       "      <th>5</th>\n",
       "      <th>6</th>\n",
       "      <th>7</th>\n",
       "      <th>8</th>\n",
       "      <th>9</th>\n",
       "      <th>...</th>\n",
       "      <th>990</th>\n",
       "      <th>991</th>\n",
       "      <th>992</th>\n",
       "      <th>993</th>\n",
       "      <th>994</th>\n",
       "      <th>995</th>\n",
       "      <th>996</th>\n",
       "      <th>997</th>\n",
       "      <th>998</th>\n",
       "      <th>999</th>\n",
       "    </tr>\n",
       "  </thead>\n",
       "  <tbody>\n",
       "    <tr>\n",
       "      <th>0</th>\n",
       "      <td>1.000000</td>\n",
       "      <td>1.000000</td>\n",
       "      <td>1.000000</td>\n",
       "      <td>1.000000</td>\n",
       "      <td>1.000000</td>\n",
       "      <td>1.000000</td>\n",
       "      <td>1.000000</td>\n",
       "      <td>1.000000</td>\n",
       "      <td>1.000000</td>\n",
       "      <td>1.000000</td>\n",
       "      <td>...</td>\n",
       "      <td>1.000000</td>\n",
       "      <td>1.000000</td>\n",
       "      <td>1.000000</td>\n",
       "      <td>1.000000</td>\n",
       "      <td>1.000000</td>\n",
       "      <td>1.000000</td>\n",
       "      <td>1.000000</td>\n",
       "      <td>1.000000</td>\n",
       "      <td>1.000000</td>\n",
       "      <td>1.000000</td>\n",
       "    </tr>\n",
       "    <tr>\n",
       "      <th>1</th>\n",
       "      <td>0.987548</td>\n",
       "      <td>0.988550</td>\n",
       "      <td>1.012886</td>\n",
       "      <td>1.016202</td>\n",
       "      <td>1.019539</td>\n",
       "      <td>0.983674</td>\n",
       "      <td>0.993246</td>\n",
       "      <td>1.002746</td>\n",
       "      <td>1.004179</td>\n",
       "      <td>0.991872</td>\n",
       "      <td>...</td>\n",
       "      <td>1.008417</td>\n",
       "      <td>0.987792</td>\n",
       "      <td>0.969014</td>\n",
       "      <td>1.054402</td>\n",
       "      <td>0.972493</td>\n",
       "      <td>1.024658</td>\n",
       "      <td>0.995606</td>\n",
       "      <td>0.988616</td>\n",
       "      <td>1.043348</td>\n",
       "      <td>1.005803</td>\n",
       "    </tr>\n",
       "    <tr>\n",
       "      <th>2</th>\n",
       "      <td>0.973185</td>\n",
       "      <td>0.981217</td>\n",
       "      <td>1.044234</td>\n",
       "      <td>0.986071</td>\n",
       "      <td>1.044171</td>\n",
       "      <td>1.014183</td>\n",
       "      <td>0.994079</td>\n",
       "      <td>1.011835</td>\n",
       "      <td>0.971427</td>\n",
       "      <td>0.994023</td>\n",
       "      <td>...</td>\n",
       "      <td>1.003300</td>\n",
       "      <td>0.981657</td>\n",
       "      <td>0.973551</td>\n",
       "      <td>1.070177</td>\n",
       "      <td>0.984612</td>\n",
       "      <td>1.023116</td>\n",
       "      <td>0.994936</td>\n",
       "      <td>0.974320</td>\n",
       "      <td>1.038324</td>\n",
       "      <td>1.006440</td>\n",
       "    </tr>\n",
       "    <tr>\n",
       "      <th>3</th>\n",
       "      <td>1.000888</td>\n",
       "      <td>0.989925</td>\n",
       "      <td>1.060164</td>\n",
       "      <td>0.978549</td>\n",
       "      <td>1.096522</td>\n",
       "      <td>1.038333</td>\n",
       "      <td>1.003872</td>\n",
       "      <td>1.038848</td>\n",
       "      <td>0.937093</td>\n",
       "      <td>1.006052</td>\n",
       "      <td>...</td>\n",
       "      <td>1.018230</td>\n",
       "      <td>0.949104</td>\n",
       "      <td>0.964514</td>\n",
       "      <td>1.058663</td>\n",
       "      <td>0.995917</td>\n",
       "      <td>1.002070</td>\n",
       "      <td>0.964935</td>\n",
       "      <td>0.967501</td>\n",
       "      <td>1.046084</td>\n",
       "      <td>0.991861</td>\n",
       "    </tr>\n",
       "    <tr>\n",
       "      <th>4</th>\n",
       "      <td>0.994136</td>\n",
       "      <td>0.996965</td>\n",
       "      <td>1.031540</td>\n",
       "      <td>0.962818</td>\n",
       "      <td>1.081661</td>\n",
       "      <td>1.043874</td>\n",
       "      <td>0.995734</td>\n",
       "      <td>1.041445</td>\n",
       "      <td>0.939820</td>\n",
       "      <td>1.005206</td>\n",
       "      <td>...</td>\n",
       "      <td>1.029265</td>\n",
       "      <td>0.948156</td>\n",
       "      <td>0.961754</td>\n",
       "      <td>1.050014</td>\n",
       "      <td>1.015540</td>\n",
       "      <td>1.014620</td>\n",
       "      <td>0.978247</td>\n",
       "      <td>0.992690</td>\n",
       "      <td>1.018204</td>\n",
       "      <td>0.996288</td>\n",
       "    </tr>\n",
       "  </tbody>\n",
       "</table>\n",
       "<p>5 rows × 1000 columns</p>\n",
       "</div>"
      ],
      "text/plain": [
       "        0         1         2         3         4         5         6    \\\n",
       "0  1.000000  1.000000  1.000000  1.000000  1.000000  1.000000  1.000000   \n",
       "1  0.987548  0.988550  1.012886  1.016202  1.019539  0.983674  0.993246   \n",
       "2  0.973185  0.981217  1.044234  0.986071  1.044171  1.014183  0.994079   \n",
       "3  1.000888  0.989925  1.060164  0.978549  1.096522  1.038333  1.003872   \n",
       "4  0.994136  0.996965  1.031540  0.962818  1.081661  1.043874  0.995734   \n",
       "\n",
       "        7         8         9    ...       990       991       992       993  \\\n",
       "0  1.000000  1.000000  1.000000  ...  1.000000  1.000000  1.000000  1.000000   \n",
       "1  1.002746  1.004179  0.991872  ...  1.008417  0.987792  0.969014  1.054402   \n",
       "2  1.011835  0.971427  0.994023  ...  1.003300  0.981657  0.973551  1.070177   \n",
       "3  1.038848  0.937093  1.006052  ...  1.018230  0.949104  0.964514  1.058663   \n",
       "4  1.041445  0.939820  1.005206  ...  1.029265  0.948156  0.961754  1.050014   \n",
       "\n",
       "        994       995       996       997       998       999  \n",
       "0  1.000000  1.000000  1.000000  1.000000  1.000000  1.000000  \n",
       "1  0.972493  1.024658  0.995606  0.988616  1.043348  1.005803  \n",
       "2  0.984612  1.023116  0.994936  0.974320  1.038324  1.006440  \n",
       "3  0.995917  1.002070  0.964935  0.967501  1.046084  0.991861  \n",
       "4  1.015540  1.014620  0.978247  0.992690  1.018204  0.996288  \n",
       "\n",
       "[5 rows x 1000 columns]"
      ]
     },
     "execution_count": 9,
     "metadata": {},
     "output_type": "execute_result"
    }
   ],
   "source": [
    "# Set number of simulations and trading days\n",
    "num_simulations = 1000\n",
    "num_trading_days = 252 * 3\n",
    "\n",
    "# Set last closing prices of `TSLA` and `SPHD`\n",
    "tsla_last_price = df['TSLA']['close'][-1]\n",
    "sphd_last_price = df['SPHD']['close'][-1]\n",
    "\n",
    "# Initialize empty DataFrame to hold simulated prices for each simulation\n",
    "simulated_price_df = pd.DataFrame()\n",
    "portfolio_cumulative_returns = pd.DataFrame()\n",
    "\n",
    "# Run the simulation of projecting stock prices for the next trading year, `1000` times\n",
    "for n in range(num_simulations):\n",
    "\n",
    "    # Initialize the simulated prices list with the last closing price of `TSLA` and `SPHD`\n",
    "    simulated_tsla_prices = [tsla_last_price]\n",
    "    simulated_sphd_prices = [sphd_last_price]\n",
    "    \n",
    "    # Simulate the returns for 252 * 3 days\n",
    "    for i in range(num_trading_days):\n",
    "        \n",
    "        # Calculate the simulated price using the last price within the list\n",
    "        simulated_tsla_price = simulated_tsla_prices[-1] * (1 + np.random.normal(avg_daily_return_tsla, std_dev_daily_return_tsla))\n",
    "        simulated_sphd_price = simulated_sphd_prices[-1] * (1 + np.random.normal(avg_daily_return_sphd, std_dev_daily_return_sphd))\n",
    "        \n",
    "        # Append the simulated price to the list\n",
    "        simulated_tsla_prices.append(simulated_tsla_price)\n",
    "        simulated_sphd_prices.append(simulated_sphd_price)\n",
    "    \n",
    "    # Append the simulated prices of each simulation to DataFrame\n",
    "    simulated_price_df[\"TSLA prices\"] = pd.Series(simulated_tsla_prices)\n",
    "    simulated_price_df[\"SPHD prices\"] = pd.Series(simulated_sphd_prices)\n",
    "    \n",
    "    # Calculate the daily returns of simulated prices\n",
    "    simulated_daily_returns = simulated_price_df.pct_change()\n",
    "    \n",
    "    # Set the portfolio weights (75% TSLA; 25% SPHD)\n",
    "    weights = [0.25, 0.75]\n",
    "\n",
    "    # Use the `dot` function with the weights to multiply weights with each column's simulated daily returns\n",
    "    portfolio_daily_returns = simulated_daily_returns.dot(weights)\n",
    "    \n",
    "    # Calculate the normalized, cumulative return series\n",
    "    portfolio_cumulative_returns[n] = (1 + portfolio_daily_returns.fillna(0)).cumprod()\n",
    "\n",
    "# Print records from the DataFrame\n",
    "portfolio_cumulative_returns.head()"
   ]
  },
  {
   "cell_type": "markdown",
   "metadata": {},
   "source": [
    "### Plot the Multiple Simulations of Potential Cumulative Portfolio Returns over the Next 3 Years (252 * 3 Trading Days)"
   ]
  },
  {
   "cell_type": "code",
   "execution_count": 10,
   "metadata": {},
   "outputs": [
    {
     "data": {
      "text/plain": [
       "<matplotlib.axes._subplots.AxesSubplot at 0x215ccad03d0>"
      ]
     },
     "execution_count": 10,
     "metadata": {},
     "output_type": "execute_result"
    },
    {
     "data": {
      "image/png": "[encoded data removed]",
      "text/plain": [
       "<Figure size 432x288 with 1 Axes>"
      ]
     },
     "metadata": {
      "needs_background": "light"
     },
     "output_type": "display_data"
    }
   ],
   "source": [
    "# Use the `plot` function to plot `1000` simulations of the potential trajectories of the portfolio based on 252 trading days\n",
    "plot_title = f\"{n+1} Simulations of Cumulative Portfolio Return Trajectories Over the Next 252 Trading Days\"\n",
    "portfolio_cumulative_returns.plot(legend=None, title=plot_title)"
   ]
  },
  {
   "cell_type": "code",
   "execution_count": 11,
   "metadata": {},
   "outputs": [
    {
     "data": {
      "text/plain": [
       "0    2.361777\n",
       "1    0.826815\n",
       "2    2.545462\n",
       "3    1.630609\n",
       "4    4.154863\n",
       "Name: 756, dtype: float64"
      ]
     },
     "execution_count": 11,
     "metadata": {},
     "output_type": "execute_result"
    }
   ],
   "source": [
    "# Select the last row for projecting stock prices (prices of each simulation on the last trading day)\n",
    "ending_cumulative_returns = portfolio_cumulative_returns.iloc[-1, :]\n",
    "ending_cumulative_returns.head()"
   ]
  },
  {
   "cell_type": "markdown",
   "metadata": {},
   "source": [
    "### Plot the Frequency Distribution of Simulated Ending Portfolio Cumulative Returns on the Last Trading Day"
   ]
  },
  {
   "cell_type": "code",
   "execution_count": 12,
   "metadata": {},
   "outputs": [
    {
     "data": {
      "text/plain": [
       "<matplotlib.axes._subplots.AxesSubplot at 0x215cf2fbd90>"
      ]
     },
     "execution_count": 12,
     "metadata": {},
     "output_type": "execute_result"
    },
    {
     "data": {
      "image/png": "[encoded data removed]",
      "text/plain": [
       "<Figure size 432x288 with 1 Axes>"
      ]
     },
     "metadata": {
      "needs_background": "light"
     },
     "output_type": "display_data"
    }
   ],
   "source": [
    "# Use the `plot` function to plot a frequency distribution of simulated ending prices\n",
    "ending_cumulative_returns.plot(kind='hist', bins=10)"
   ]
  },
  {
   "cell_type": "markdown",
   "metadata": {},
   "source": [
    "### Calculate the Probability Distribution of Ending Cumulative Return Ranges"
   ]
  },
  {
   "cell_type": "code",
   "execution_count": 13,
   "metadata": {},
   "outputs": [
    {
     "data": {
      "text/plain": [
       "(1.174, 2.104]                  0.408\n",
       "(0.23399999999999999, 1.174]    0.344\n",
       "(2.104, 3.034]                  0.158\n",
       "(3.034, 3.964]                  0.057\n",
       "(3.964, 4.893]                  0.016\n",
       "(4.893, 5.823]                  0.008\n",
       "(6.753, 7.683]                  0.003\n",
       "(5.823, 6.753]                  0.003\n",
       "(7.683, 8.613]                  0.002\n",
       "(8.613, 9.543]                  0.001\n",
       "Name: 756, dtype: float64"
      ]
     },
     "execution_count": 13,
     "metadata": {},
     "output_type": "execute_result"
    }
   ],
   "source": [
    "# Use the `value_counts` function and the `len` function to calculate the probabilities of cumulative return ranges\n",
    "ending_cumulative_returns.value_counts(bins=10) / len(ending_cumulative_returns)"
   ]
  },
  {
   "cell_type": "markdown",
   "metadata": {},
   "source": [
    "### Calculate Lower and Upper Bounds of 95% Confidence Interval for Simulated Ending Cumulative Portfolio Returns"
   ]
  },
  {
   "cell_type": "code",
   "execution_count": 14,
   "metadata": {},
   "outputs": [
    {
     "data": {
      "text/plain": [
       "0.025    0.483880\n",
       "0.975    4.374104\n",
       "Name: 756, dtype: float64"
      ]
     },
     "execution_count": 14,
     "metadata": {},
     "output_type": "execute_result"
    }
   ],
   "source": [
    "# Use the `quantile` function to calculate the 95% confidence interval for simulated ending prices\n",
    "confidence_interval = ending_cumulative_returns.quantile(q=[0.025, 0.975])\n",
    "confidence_interval"
   ]
  },
  {
   "cell_type": "markdown",
   "metadata": {},
   "source": [
    "### Plot the Probability Distribution and 95% Confidence Interval of Simulated Ending Cumulative Portfolio Returns "
   ]
  },
  {
   "cell_type": "code",
   "execution_count": 15,
   "metadata": {},
   "outputs": [
    {
     "data": {
      "text/plain": [
       "<matplotlib.lines.Line2D at 0x215cf2cc4c0>"
      ]
     },
     "execution_count": 15,
     "metadata": {},
     "output_type": "execute_result"
    },
    {
     "data": {
      "image/png": "[encoded data removed]",
      "text/plain": [
       "<Figure size 432x288 with 1 Axes>"
      ]
     },
     "metadata": {
      "needs_background": "light"
     },
     "output_type": "display_data"
    }
   ],
   "source": [
    "# Use the `plot` function to create a probability distribution histogram of simulated ending prices\n",
    "# with markings for a 95% confidence interval\n",
    "plt.figure();\n",
    "ending_cumulative_returns.plot(kind='hist', density=True, bins=10)\n",
    "plt.axvline(confidence_interval.iloc[0], color='r')\n",
    "plt.axvline(confidence_interval.iloc[1], color='r')"
   ]
  },
  {
   "cell_type": "markdown",
   "metadata": {},
   "source": [
    "### Calculate 95% Confidence Interval of An Initial Investment of 10,000 in the Portfolio over the Next 3 Trading Years"
   ]
  },
  {
   "cell_type": "code",
   "execution_count": 16,
   "metadata": {},
   "outputs": [
    {
     "name": "stdout",
     "output_type": "stream",
     "text": [
      "There is a 95% chance that an initial investment of $10,000 in the portfolio over the next 252 * 3 trading days will end within in the range of $4838.800716620793 and $43741.044058680905\n"
     ]
    }
   ],
   "source": [
    "# Set initial investment\n",
    "initial_investment = 10000\n",
    "\n",
    "# Calculate investment profit/loss of lower and upper bound cumulative portfolio returns\n",
    "investment_pnl_lower_bound = initial_investment * confidence_interval.iloc[0]\n",
    "investment_pnl_upper_bound = initial_investment * confidence_interval.iloc[1]\n",
    "                                                    \n",
    "# Print the results\n",
    "print(f\"There is a 95% chance that an initial investment of $10,000 in the portfolio\"\n",
    "      f\" over the next 252 * 3 trading days will end within in the range of\"\n",
    "      f\" ${investment_pnl_lower_bound} and ${investment_pnl_upper_bound}\")"
   ]
  },
  {
   "cell_type": "markdown",
   "metadata": {},
   "source": [
    "### Answer the Following Questions\n",
    "\n",
    "* What is the expected range of projected cumulative returns of the given portfolio?\n",
    "* What is the `95%` confidence interval of projected cumulative returns of the given portfolio?\n",
    "* What is the `95%` confidence interval of projected cumulative investment for the given portfolio?"
   ]
  },
  {
   "cell_type": "markdown",
   "metadata": {},
   "source": [
    "* The expected range of projected cumulative returns for the portfolio is between 1.174 and 2.104 with a 40.8% chance of occurring.\n",
    "* The `95` confidence interval of projected cumulative returns is between 0.483880 and 4.374104.\n",
    "* The `95` confidencc interval of projected cumulative investment is between 4838.80 and 43,741.04."
   ]
  }
 ],
 "metadata": {
  "kernel_info": {
   "name": "python3"
  },
  "kernelspec": {
   "display_name": "Python [conda env:dev]",
   "language": "python",
   "name": "conda-env-dev-py"
  },
  "language_info": {
   "codemirror_mode": {
    "name": "ipython",
    "version": 3
   },
   "file_extension": ".py",
   "mimetype": "text/x-python",
   "name": "python",
   "nbconvert_exporter": "python",
   "pygments_lexer": "ipython3",
   "version": "3.8.3"
  },
  "nteract": {
   "version": "0.12.3"
  }
 },
 "nbformat": 4,
 "nbformat_minor": 4
}
