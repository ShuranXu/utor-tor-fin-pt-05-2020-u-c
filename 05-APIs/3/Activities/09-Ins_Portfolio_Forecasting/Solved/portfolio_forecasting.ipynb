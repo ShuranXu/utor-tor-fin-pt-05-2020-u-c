{
 "cells": [
  {
   "cell_type": "markdown",
   "metadata": {},
   "source": [
    "### Instructor Demo: Stock Portfolio Forecasting\n",
    "\n",
    "This program executes `1000` simulations of stock price trajectory for Johnson & Johnson (`JNJ`) and Micron Technology, Inc. (`MU`) over the next `252` trading days (or year of trading), based on a normal probability distribution of potential daily returns derived from the corresponding sample means and standard deviations. Daily and cumulative portfolio returns are then calculated, using `60%` of capital allocated to `JNJ` and `40%` of capital allocated to `MU`, to analyze the probability distribution and confidence interval of potential ending cumulative portfolio returns."
   ]
  },
  {
   "cell_type": "code",
   "execution_count": 1,
   "metadata": {},
   "outputs": [],
   "source": [
    "# Import libraries and dependencies\n",
    "import numpy as np\n",
    "import pandas as pd\n",
    "import os\n",
    "from datetime import datetime, timedelta\n",
    "import matplotlib.pyplot as plt\n",
    "import alpaca_trade_api as tradeapi\n",
    "\n",
    "%matplotlib inline"
   ]
  },
  {
   "cell_type": "code",
   "execution_count": 2,
   "metadata": {},
   "outputs": [],
   "source": [
    "# Load .env enviroment variables\n",
    "from dotenv import load_dotenv\n",
    "load_dotenv()\n",
    "\n",
    "# Set Alpaca API key and secret\n",
    "alpaca_api_key = os.getenv(\"ALPACA_API_KEY\")\n",
    "alpaca_secret_key = os.getenv(\"ALPACA_SECRET_KEY\")\n",
    "\n",
    "api = tradeapi.REST(alpaca_api_key, alpaca_secret_key, api_version=\"v2\")"
   ]
  },
  {
   "cell_type": "markdown",
   "metadata": {},
   "source": [
    "### Check Available Tickers from Alpaca Markets API"
   ]
  },
  {
   "cell_type": "code",
   "execution_count": 3,
   "metadata": {
    "inputHidden": false,
    "outputHidden": false,
    "scrolled": true
   },
   "outputs": [],
   "source": [
    "# Get all Asstes\n",
    "assets = api.list_assets()\n",
    "\n",
    "# Keep only tradeable assets\n",
    "tradeable = [asset for asset in assets if asset.tradable ]"
   ]
  },
  {
   "cell_type": "code",
   "execution_count": 4,
   "metadata": {},
   "outputs": [
    {
     "data": {
      "text/html": [
       "<div>\n",
       "<style scoped>\n",
       "    .dataframe tbody tr th:only-of-type {\n",
       "        vertical-align: middle;\n",
       "    }\n",
       "\n",
       "    .dataframe tbody tr th {\n",
       "        vertical-align: top;\n",
       "    }\n",
       "\n",
       "    .dataframe thead th {\n",
       "        text-align: right;\n",
       "    }\n",
       "</style>\n",
       "<table border=\"1\" class=\"dataframe\">\n",
       "  <thead>\n",
       "    <tr style=\"text-align: right;\">\n",
       "      <th></th>\n",
       "      <th>symbol</th>\n",
       "    </tr>\n",
       "  </thead>\n",
       "  <tbody>\n",
       "    <tr>\n",
       "      <th>0</th>\n",
       "      <td>WRLSR</td>\n",
       "    </tr>\n",
       "    <tr>\n",
       "      <th>1</th>\n",
       "      <td>FUV</td>\n",
       "    </tr>\n",
       "    <tr>\n",
       "      <th>2</th>\n",
       "      <td>SODA_DELISTED</td>\n",
       "    </tr>\n",
       "    <tr>\n",
       "      <th>3</th>\n",
       "      <td>AAME</td>\n",
       "    </tr>\n",
       "    <tr>\n",
       "      <th>4</th>\n",
       "      <td>ACIU</td>\n",
       "    </tr>\n",
       "    <tr>\n",
       "      <th>5</th>\n",
       "      <td>EGC</td>\n",
       "    </tr>\n",
       "    <tr>\n",
       "      <th>6</th>\n",
       "      <td>ACSG</td>\n",
       "    </tr>\n",
       "    <tr>\n",
       "      <th>7</th>\n",
       "      <td>ACV</td>\n",
       "    </tr>\n",
       "    <tr>\n",
       "      <th>8</th>\n",
       "      <td>ADTX</td>\n",
       "    </tr>\n",
       "    <tr>\n",
       "      <th>9</th>\n",
       "      <td>ADXN</td>\n",
       "    </tr>\n",
       "  </tbody>\n",
       "</table>\n",
       "</div>"
      ],
      "text/plain": [
       "          symbol\n",
       "0          WRLSR\n",
       "1            FUV\n",
       "2  SODA_DELISTED\n",
       "3           AAME\n",
       "4           ACIU\n",
       "5            EGC\n",
       "6           ACSG\n",
       "7            ACV\n",
       "8           ADTX\n",
       "9           ADXN"
      ]
     },
     "metadata": {},
     "output_type": "display_data"
    }
   ],
   "source": [
    "# Create a new empty DataFrame\n",
    "asset_info_df = pd.DataFrame()\n",
    "asset_info_df[\"symbol\"] = pd.Series([asset.symbol for asset in assets])\n",
    "\n",
    "# Display the first 10 asset tickers\n",
    "display(asset_info_df.head(10))"
   ]
  },
  {
   "cell_type": "markdown",
   "metadata": {},
   "source": [
    "### Get 1 Year's Worth of Data via API Call and Read in as DataFrame "
   ]
  },
  {
   "cell_type": "code",
   "execution_count": 5,
   "metadata": {},
   "outputs": [
    {
     "data": {
      "text/html": [
       "<div>\n",
       "<style scoped>\n",
       "    .dataframe tbody tr th:only-of-type {\n",
       "        vertical-align: middle;\n",
       "    }\n",
       "\n",
       "    .dataframe tbody tr th {\n",
       "        vertical-align: top;\n",
       "    }\n",
       "\n",
       "    .dataframe thead tr th {\n",
       "        text-align: left;\n",
       "    }\n",
       "</style>\n",
       "<table border=\"1\" class=\"dataframe\">\n",
       "  <thead>\n",
       "    <tr>\n",
       "      <th></th>\n",
       "      <th colspan=\"5\" halign=\"left\">JNJ</th>\n",
       "      <th colspan=\"5\" halign=\"left\">MU</th>\n",
       "    </tr>\n",
       "    <tr>\n",
       "      <th></th>\n",
       "      <th>open</th>\n",
       "      <th>high</th>\n",
       "      <th>low</th>\n",
       "      <th>close</th>\n",
       "      <th>volume</th>\n",
       "      <th>open</th>\n",
       "      <th>high</th>\n",
       "      <th>low</th>\n",
       "      <th>close</th>\n",
       "      <th>volume</th>\n",
       "    </tr>\n",
       "  </thead>\n",
       "  <tbody>\n",
       "    <tr>\n",
       "      <th>2019-05-06 00:00:00-04:00</th>\n",
       "      <td>140.25</td>\n",
       "      <td>142.24</td>\n",
       "      <td>139.93</td>\n",
       "      <td>142.07</td>\n",
       "      <td>3445868</td>\n",
       "      <td>41.40</td>\n",
       "      <td>42.2901</td>\n",
       "      <td>41.0000</td>\n",
       "      <td>42.140</td>\n",
       "      <td>23508497</td>\n",
       "    </tr>\n",
       "    <tr>\n",
       "      <th>2019-05-07 00:00:00-04:00</th>\n",
       "      <td>140.82</td>\n",
       "      <td>141.38</td>\n",
       "      <td>139.06</td>\n",
       "      <td>139.98</td>\n",
       "      <td>5269848</td>\n",
       "      <td>41.68</td>\n",
       "      <td>41.9300</td>\n",
       "      <td>39.7300</td>\n",
       "      <td>40.250</td>\n",
       "      <td>28909657</td>\n",
       "    </tr>\n",
       "    <tr>\n",
       "      <th>2019-05-08 00:00:00-04:00</th>\n",
       "      <td>140.20</td>\n",
       "      <td>140.92</td>\n",
       "      <td>139.70</td>\n",
       "      <td>139.84</td>\n",
       "      <td>3226434</td>\n",
       "      <td>39.86</td>\n",
       "      <td>40.4950</td>\n",
       "      <td>39.5800</td>\n",
       "      <td>39.755</td>\n",
       "      <td>24309501</td>\n",
       "    </tr>\n",
       "    <tr>\n",
       "      <th>2019-05-09 00:00:00-04:00</th>\n",
       "      <td>138.95</td>\n",
       "      <td>139.32</td>\n",
       "      <td>137.64</td>\n",
       "      <td>138.72</td>\n",
       "      <td>4525847</td>\n",
       "      <td>39.10</td>\n",
       "      <td>39.6300</td>\n",
       "      <td>38.2000</td>\n",
       "      <td>39.260</td>\n",
       "      <td>26124978</td>\n",
       "    </tr>\n",
       "    <tr>\n",
       "      <th>2019-05-10 00:00:00-04:00</th>\n",
       "      <td>138.43</td>\n",
       "      <td>139.25</td>\n",
       "      <td>136.41</td>\n",
       "      <td>139.08</td>\n",
       "      <td>3546854</td>\n",
       "      <td>39.01</td>\n",
       "      <td>39.2900</td>\n",
       "      <td>37.6452</td>\n",
       "      <td>38.930</td>\n",
       "      <td>28309668</td>\n",
       "    </tr>\n",
       "  </tbody>\n",
       "</table>\n",
       "</div>"
      ],
      "text/plain": [
       "                              JNJ                                      MU  \\\n",
       "                             open    high     low   close   volume   open   \n",
       "2019-05-06 00:00:00-04:00  140.25  142.24  139.93  142.07  3445868  41.40   \n",
       "2019-05-07 00:00:00-04:00  140.82  141.38  139.06  139.98  5269848  41.68   \n",
       "2019-05-08 00:00:00-04:00  140.20  140.92  139.70  139.84  3226434  39.86   \n",
       "2019-05-09 00:00:00-04:00  138.95  139.32  137.64  138.72  4525847  39.10   \n",
       "2019-05-10 00:00:00-04:00  138.43  139.25  136.41  139.08  3546854  39.01   \n",
       "\n",
       "                                                               \n",
       "                              high      low   close    volume  \n",
       "2019-05-06 00:00:00-04:00  42.2901  41.0000  42.140  23508497  \n",
       "2019-05-07 00:00:00-04:00  41.9300  39.7300  40.250  28909657  \n",
       "2019-05-08 00:00:00-04:00  40.4950  39.5800  39.755  24309501  \n",
       "2019-05-09 00:00:00-04:00  39.6300  38.2000  39.260  26124978  \n",
       "2019-05-10 00:00:00-04:00  39.2900  37.6452  38.930  28309668  "
      ]
     },
     "execution_count": 5,
     "metadata": {},
     "output_type": "execute_result"
    }
   ],
   "source": [
    "# Set the list of tickers\n",
    "tickers = [\"JNJ\", \"MU\"]\n",
    "\n",
    "# Set timeframe to \"1D\"\n",
    "timeframe = \"1D\"\n",
    "\n",
    "# Set start and end datetimes of 1 year, between now and 365 days ago.\n",
    "start_date = pd.Timestamp(\"2019-05-04\", tz=\"America/New_York\").isoformat()\n",
    "end_date = pd.Timestamp(\"2020-05-04\", tz=\"America/New_York\").isoformat()\n",
    "\n",
    "# Get 1 year\"s worth of historical data for JNJ and MU\n",
    "df = api.get_barset(\n",
    "    tickers,\n",
    "    timeframe,\n",
    "    limit=None,\n",
    "    start=start_date,\n",
    "    end=end_date,\n",
    "    after=None,\n",
    "    until=None,\n",
    ").df\n",
    "\n",
    "df.head()"
   ]
  },
  {
   "cell_type": "markdown",
   "metadata": {},
   "source": [
    "### Drop Extraneous Columns"
   ]
  },
  {
   "cell_type": "code",
   "execution_count": 6,
   "metadata": {},
   "outputs": [
    {
     "data": {
      "text/html": [
       "<div>\n",
       "<style scoped>\n",
       "    .dataframe tbody tr th:only-of-type {\n",
       "        vertical-align: middle;\n",
       "    }\n",
       "\n",
       "    .dataframe tbody tr th {\n",
       "        vertical-align: top;\n",
       "    }\n",
       "\n",
       "    .dataframe thead tr th {\n",
       "        text-align: left;\n",
       "    }\n",
       "</style>\n",
       "<table border=\"1\" class=\"dataframe\">\n",
       "  <thead>\n",
       "    <tr>\n",
       "      <th></th>\n",
       "      <th>JNJ</th>\n",
       "      <th>MU</th>\n",
       "    </tr>\n",
       "    <tr>\n",
       "      <th></th>\n",
       "      <th>close</th>\n",
       "      <th>close</th>\n",
       "    </tr>\n",
       "  </thead>\n",
       "  <tbody>\n",
       "    <tr>\n",
       "      <th>2019-05-06 00:00:00-04:00</th>\n",
       "      <td>142.07</td>\n",
       "      <td>42.140</td>\n",
       "    </tr>\n",
       "    <tr>\n",
       "      <th>2019-05-07 00:00:00-04:00</th>\n",
       "      <td>139.98</td>\n",
       "      <td>40.250</td>\n",
       "    </tr>\n",
       "    <tr>\n",
       "      <th>2019-05-08 00:00:00-04:00</th>\n",
       "      <td>139.84</td>\n",
       "      <td>39.755</td>\n",
       "    </tr>\n",
       "    <tr>\n",
       "      <th>2019-05-09 00:00:00-04:00</th>\n",
       "      <td>138.72</td>\n",
       "      <td>39.260</td>\n",
       "    </tr>\n",
       "    <tr>\n",
       "      <th>2019-05-10 00:00:00-04:00</th>\n",
       "      <td>139.08</td>\n",
       "      <td>38.930</td>\n",
       "    </tr>\n",
       "  </tbody>\n",
       "</table>\n",
       "</div>"
      ],
      "text/plain": [
       "                              JNJ      MU\n",
       "                            close   close\n",
       "2019-05-06 00:00:00-04:00  142.07  42.140\n",
       "2019-05-07 00:00:00-04:00  139.98  40.250\n",
       "2019-05-08 00:00:00-04:00  139.84  39.755\n",
       "2019-05-09 00:00:00-04:00  138.72  39.260\n",
       "2019-05-10 00:00:00-04:00  139.08  38.930"
      ]
     },
     "execution_count": 6,
     "metadata": {},
     "output_type": "execute_result"
    }
   ],
   "source": [
    "# Use the `drop` function with the `level` parameter to drop extra columns in the multi-index DataFrame\n",
    "df.drop(columns=[\"open\", \"high\", \"low\", \"volume\"], level=1, inplace=True)\n",
    "df.head()"
   ]
  },
  {
   "cell_type": "markdown",
   "metadata": {},
   "source": [
    "### Calculate Daily Returns"
   ]
  },
  {
   "cell_type": "code",
   "execution_count": 7,
   "metadata": {},
   "outputs": [
    {
     "data": {
      "text/html": [
       "<div>\n",
       "<style scoped>\n",
       "    .dataframe tbody tr th:only-of-type {\n",
       "        vertical-align: middle;\n",
       "    }\n",
       "\n",
       "    .dataframe tbody tr th {\n",
       "        vertical-align: top;\n",
       "    }\n",
       "\n",
       "    .dataframe thead tr th {\n",
       "        text-align: left;\n",
       "    }\n",
       "</style>\n",
       "<table border=\"1\" class=\"dataframe\">\n",
       "  <thead>\n",
       "    <tr>\n",
       "      <th></th>\n",
       "      <th>JNJ</th>\n",
       "      <th>MU</th>\n",
       "    </tr>\n",
       "    <tr>\n",
       "      <th></th>\n",
       "      <th>close</th>\n",
       "      <th>close</th>\n",
       "    </tr>\n",
       "  </thead>\n",
       "  <tbody>\n",
       "    <tr>\n",
       "      <th>2019-05-06 00:00:00-04:00</th>\n",
       "      <td>NaN</td>\n",
       "      <td>NaN</td>\n",
       "    </tr>\n",
       "    <tr>\n",
       "      <th>2019-05-07 00:00:00-04:00</th>\n",
       "      <td>-0.014711</td>\n",
       "      <td>-0.044850</td>\n",
       "    </tr>\n",
       "    <tr>\n",
       "      <th>2019-05-08 00:00:00-04:00</th>\n",
       "      <td>-0.001000</td>\n",
       "      <td>-0.012298</td>\n",
       "    </tr>\n",
       "    <tr>\n",
       "      <th>2019-05-09 00:00:00-04:00</th>\n",
       "      <td>-0.008009</td>\n",
       "      <td>-0.012451</td>\n",
       "    </tr>\n",
       "    <tr>\n",
       "      <th>2019-05-10 00:00:00-04:00</th>\n",
       "      <td>0.002595</td>\n",
       "      <td>-0.008406</td>\n",
       "    </tr>\n",
       "  </tbody>\n",
       "</table>\n",
       "</div>"
      ],
      "text/plain": [
       "                                JNJ        MU\n",
       "                              close     close\n",
       "2019-05-06 00:00:00-04:00       NaN       NaN\n",
       "2019-05-07 00:00:00-04:00 -0.014711 -0.044850\n",
       "2019-05-08 00:00:00-04:00 -0.001000 -0.012298\n",
       "2019-05-09 00:00:00-04:00 -0.008009 -0.012451\n",
       "2019-05-10 00:00:00-04:00  0.002595 -0.008406"
      ]
     },
     "execution_count": 7,
     "metadata": {},
     "output_type": "execute_result"
    }
   ],
   "source": [
    "# Use the `pct_change` function to calculate daily returns of `JNJ` and `MU`.\n",
    "daily_returns = df.pct_change()\n",
    "daily_returns.head()"
   ]
  },
  {
   "cell_type": "markdown",
   "metadata": {},
   "source": [
    "### Calculate Value of Average Daily Returns"
   ]
  },
  {
   "cell_type": "code",
   "execution_count": 8,
   "metadata": {},
   "outputs": [
    {
     "data": {
      "text/plain": [
       "0.0009126898533966111"
      ]
     },
     "execution_count": 8,
     "metadata": {},
     "output_type": "execute_result"
    }
   ],
   "source": [
    "# Use the `mean` function to calculate the mean of daily returns for `JNJ` and `MU`, respectively\n",
    "avg_daily_return_jnj = daily_returns.mean()[\"JNJ\"][\"close\"]\n",
    "avg_daily_return_mu = daily_returns.mean()[\"MU\"][\"close\"]\n",
    "avg_daily_return_mu"
   ]
  },
  {
   "cell_type": "markdown",
   "metadata": {},
   "source": [
    "### Calculate Value of Standard Deviation of Daily Returns"
   ]
  },
  {
   "cell_type": "code",
   "execution_count": 9,
   "metadata": {},
   "outputs": [
    {
     "data": {
      "text/plain": [
       "0.03722239843437665"
      ]
     },
     "execution_count": 9,
     "metadata": {},
     "output_type": "execute_result"
    }
   ],
   "source": [
    "# Use the `std` function to calculate the standard deviation of daily returns for `JNJ` and `MU`, respectively\n",
    "std_dev_daily_return_jnj = daily_returns.std()[\"JNJ\"][\"close\"]\n",
    "std_dev_daily_return_mu = daily_returns.std()[\"MU\"][\"close\"]\n",
    "std_dev_daily_return_mu"
   ]
  },
  {
   "cell_type": "markdown",
   "metadata": {},
   "source": [
    "### Run the Monte Carlo Simulation and Save Results to DataFrame"
   ]
  },
  {
   "cell_type": "code",
   "execution_count": 10,
   "metadata": {
    "tags": []
   },
   "outputs": [
    {
     "data": {
      "text/html": [
       "<div>\n",
       "<style scoped>\n",
       "    .dataframe tbody tr th:only-of-type {\n",
       "        vertical-align: middle;\n",
       "    }\n",
       "\n",
       "    .dataframe tbody tr th {\n",
       "        vertical-align: top;\n",
       "    }\n",
       "\n",
       "    .dataframe thead th {\n",
       "        text-align: right;\n",
       "    }\n",
       "</style>\n",
       "<table border=\"1\" class=\"dataframe\">\n",
       "  <thead>\n",
       "    <tr style=\"text-align: right;\">\n",
       "      <th></th>\n",
       "      <th>Simulation 1</th>\n",
       "      <th>Simulation 2</th>\n",
       "      <th>Simulation 3</th>\n",
       "      <th>Simulation 4</th>\n",
       "      <th>Simulation 5</th>\n",
       "      <th>Simulation 6</th>\n",
       "      <th>Simulation 7</th>\n",
       "      <th>Simulation 8</th>\n",
       "      <th>Simulation 9</th>\n",
       "      <th>Simulation 10</th>\n",
       "      <th>...</th>\n",
       "      <th>Simulation 991</th>\n",
       "      <th>Simulation 992</th>\n",
       "      <th>Simulation 993</th>\n",
       "      <th>Simulation 994</th>\n",
       "      <th>Simulation 995</th>\n",
       "      <th>Simulation 996</th>\n",
       "      <th>Simulation 997</th>\n",
       "      <th>Simulation 998</th>\n",
       "      <th>Simulation 999</th>\n",
       "      <th>Simulation 1000</th>\n",
       "    </tr>\n",
       "  </thead>\n",
       "  <tbody>\n",
       "    <tr>\n",
       "      <th>0</th>\n",
       "      <td>1.000000</td>\n",
       "      <td>1.000000</td>\n",
       "      <td>1.000000</td>\n",
       "      <td>1.000000</td>\n",
       "      <td>1.000000</td>\n",
       "      <td>1.000000</td>\n",
       "      <td>1.000000</td>\n",
       "      <td>1.000000</td>\n",
       "      <td>1.000000</td>\n",
       "      <td>1.000000</td>\n",
       "      <td>...</td>\n",
       "      <td>1.000000</td>\n",
       "      <td>1.000000</td>\n",
       "      <td>1.000000</td>\n",
       "      <td>1.000000</td>\n",
       "      <td>1.000000</td>\n",
       "      <td>1.000000</td>\n",
       "      <td>1.000000</td>\n",
       "      <td>1.000000</td>\n",
       "      <td>1.000000</td>\n",
       "      <td>1.000000</td>\n",
       "    </tr>\n",
       "    <tr>\n",
       "      <th>1</th>\n",
       "      <td>1.012549</td>\n",
       "      <td>0.991136</td>\n",
       "      <td>1.035930</td>\n",
       "      <td>1.034506</td>\n",
       "      <td>1.018303</td>\n",
       "      <td>0.981436</td>\n",
       "      <td>0.988756</td>\n",
       "      <td>1.003309</td>\n",
       "      <td>0.988085</td>\n",
       "      <td>1.012649</td>\n",
       "      <td>...</td>\n",
       "      <td>0.965095</td>\n",
       "      <td>0.982484</td>\n",
       "      <td>0.980418</td>\n",
       "      <td>1.000704</td>\n",
       "      <td>1.000444</td>\n",
       "      <td>1.011163</td>\n",
       "      <td>0.981569</td>\n",
       "      <td>0.960959</td>\n",
       "      <td>0.985742</td>\n",
       "      <td>1.007850</td>\n",
       "    </tr>\n",
       "    <tr>\n",
       "      <th>2</th>\n",
       "      <td>1.025524</td>\n",
       "      <td>1.003908</td>\n",
       "      <td>1.060912</td>\n",
       "      <td>1.029801</td>\n",
       "      <td>1.026650</td>\n",
       "      <td>0.976513</td>\n",
       "      <td>0.970537</td>\n",
       "      <td>0.964608</td>\n",
       "      <td>0.967136</td>\n",
       "      <td>1.011986</td>\n",
       "      <td>...</td>\n",
       "      <td>0.955312</td>\n",
       "      <td>0.992969</td>\n",
       "      <td>0.984533</td>\n",
       "      <td>1.010247</td>\n",
       "      <td>1.003789</td>\n",
       "      <td>1.035764</td>\n",
       "      <td>0.960734</td>\n",
       "      <td>0.956009</td>\n",
       "      <td>0.975174</td>\n",
       "      <td>1.012477</td>\n",
       "    </tr>\n",
       "    <tr>\n",
       "      <th>3</th>\n",
       "      <td>1.037109</td>\n",
       "      <td>1.007325</td>\n",
       "      <td>1.051497</td>\n",
       "      <td>1.044517</td>\n",
       "      <td>1.029989</td>\n",
       "      <td>0.967920</td>\n",
       "      <td>0.938301</td>\n",
       "      <td>0.978498</td>\n",
       "      <td>0.949180</td>\n",
       "      <td>0.971291</td>\n",
       "      <td>...</td>\n",
       "      <td>0.953175</td>\n",
       "      <td>1.000082</td>\n",
       "      <td>0.991257</td>\n",
       "      <td>0.988554</td>\n",
       "      <td>0.991188</td>\n",
       "      <td>1.046158</td>\n",
       "      <td>1.000755</td>\n",
       "      <td>0.950160</td>\n",
       "      <td>0.971146</td>\n",
       "      <td>0.978889</td>\n",
       "    </tr>\n",
       "    <tr>\n",
       "      <th>4</th>\n",
       "      <td>1.014402</td>\n",
       "      <td>1.008302</td>\n",
       "      <td>1.085738</td>\n",
       "      <td>1.074692</td>\n",
       "      <td>1.034770</td>\n",
       "      <td>0.971425</td>\n",
       "      <td>0.954810</td>\n",
       "      <td>0.990361</td>\n",
       "      <td>0.969813</td>\n",
       "      <td>0.974179</td>\n",
       "      <td>...</td>\n",
       "      <td>0.935027</td>\n",
       "      <td>1.005370</td>\n",
       "      <td>0.985628</td>\n",
       "      <td>1.001946</td>\n",
       "      <td>1.009529</td>\n",
       "      <td>1.039306</td>\n",
       "      <td>0.984434</td>\n",
       "      <td>0.987276</td>\n",
       "      <td>0.943783</td>\n",
       "      <td>0.998370</td>\n",
       "    </tr>\n",
       "  </tbody>\n",
       "</table>\n",
       "<p>5 rows × 1000 columns</p>\n",
       "</div>"
      ],
      "text/plain": [
       "   Simulation 1  Simulation 2  Simulation 3  Simulation 4  Simulation 5  \\\n",
       "0      1.000000      1.000000      1.000000      1.000000      1.000000   \n",
       "1      1.012549      0.991136      1.035930      1.034506      1.018303   \n",
       "2      1.025524      1.003908      1.060912      1.029801      1.026650   \n",
       "3      1.037109      1.007325      1.051497      1.044517      1.029989   \n",
       "4      1.014402      1.008302      1.085738      1.074692      1.034770   \n",
       "\n",
       "   Simulation 6  Simulation 7  Simulation 8  Simulation 9  Simulation 10  ...  \\\n",
       "0      1.000000      1.000000      1.000000      1.000000       1.000000  ...   \n",
       "1      0.981436      0.988756      1.003309      0.988085       1.012649  ...   \n",
       "2      0.976513      0.970537      0.964608      0.967136       1.011986  ...   \n",
       "3      0.967920      0.938301      0.978498      0.949180       0.971291  ...   \n",
       "4      0.971425      0.954810      0.990361      0.969813       0.974179  ...   \n",
       "\n",
       "   Simulation 991  Simulation 992  Simulation 993  Simulation 994  \\\n",
       "0        1.000000        1.000000        1.000000        1.000000   \n",
       "1        0.965095        0.982484        0.980418        1.000704   \n",
       "2        0.955312        0.992969        0.984533        1.010247   \n",
       "3        0.953175        1.000082        0.991257        0.988554   \n",
       "4        0.935027        1.005370        0.985628        1.001946   \n",
       "\n",
       "   Simulation 995  Simulation 996  Simulation 997  Simulation 998  \\\n",
       "0        1.000000        1.000000        1.000000        1.000000   \n",
       "1        1.000444        1.011163        0.981569        0.960959   \n",
       "2        1.003789        1.035764        0.960734        0.956009   \n",
       "3        0.991188        1.046158        1.000755        0.950160   \n",
       "4        1.009529        1.039306        0.984434        0.987276   \n",
       "\n",
       "   Simulation 999  Simulation 1000  \n",
       "0        1.000000         1.000000  \n",
       "1        0.985742         1.007850  \n",
       "2        0.975174         1.012477  \n",
       "3        0.971146         0.978889  \n",
       "4        0.943783         0.998370  \n",
       "\n",
       "[5 rows x 1000 columns]"
      ]
     },
     "execution_count": 10,
     "metadata": {},
     "output_type": "execute_result"
    }
   ],
   "source": [
    "# Set number of simulations and trading days\n",
    "num_simulations = 1000\n",
    "num_trading_days = 252\n",
    "\n",
    "# Set last closing prices of `JNJ` and `MU`\n",
    "jnj_last_price = df[\"JNJ\"][\"close\"][-1]\n",
    "mu_last_price = df[\"MU\"][\"close\"][-1]\n",
    "\n",
    "# Initialize empty DataFrame to hold simulated prices for each simulation\n",
    "portfolio_cumulative_returns = pd.DataFrame()\n",
    "\n",
    "# Run the simulation of projecting stock prices for the next trading year, `1000` times\n",
    "for n in range(num_simulations):\n",
    "\n",
    "    simulated_price_df = pd.DataFrame()\n",
    "\n",
    "    # Initialize the simulated prices list with the last closing price of `JNJ` and `MU`\n",
    "    simulated_jnj_prices = [jnj_last_price]\n",
    "    simulated_mu_prices = [mu_last_price]\n",
    "    \n",
    "    # Simulate the returns for 252 days\n",
    "    for i in range(num_trading_days):\n",
    "        \n",
    "        # Calculate the simulated price using the last price within the list\n",
    "        simulated_jnj_price = simulated_jnj_prices[-1] * (1 + np.random.normal(avg_daily_return_jnj, std_dev_daily_return_jnj))\n",
    "        simulated_mu_price = simulated_mu_prices[-1] * (1 + np.random.normal(avg_daily_return_mu, std_dev_daily_return_mu))\n",
    "        \n",
    "        # Append the simulated price to the list\n",
    "        simulated_jnj_prices.append(simulated_jnj_price)\n",
    "        simulated_mu_prices.append(simulated_mu_price)\n",
    "    \n",
    "    # Append a simulated prices of each simulation to DataFrame\n",
    "    simulated_price_df[\"JNJ prices\"] = pd.Series(simulated_jnj_prices)\n",
    "    simulated_price_df[\"MU prices\"] = pd.Series(simulated_mu_prices)\n",
    "\n",
    "    # Calculate the daily returns of simulated prices\n",
    "    simulated_daily_returns = simulated_price_df.pct_change()\n",
    "\n",
    "    # print(simulated_daily_returns)\n",
    "    \n",
    "    # Set the portfolio weights (60% JNJ; 40% MU)\n",
    "    weights = [0.60, 0.40]\n",
    "\n",
    "    # Use the `dot` function with the weights to multiply weights with each column\"s simulated daily returns\n",
    "    portfolio_daily_returns = simulated_daily_returns.dot(weights)\n",
    "    \n",
    "    # Calculate the normalized, cumulative return series\n",
    "    portfolio_cumulative_returns[f\"Simulation {n+1}\"] = (1 + portfolio_daily_returns.fillna(0)).cumprod()\n",
    "\n",
    "# Print records from the DataFrame\n",
    "portfolio_cumulative_returns.head()"
   ]
  },
  {
   "cell_type": "markdown",
   "metadata": {},
   "source": [
    "### Plot the Multiple Simulations of Potential Cumulative Portfolio Returns over the Next Year (252 Trading Days)"
   ]
  },
  {
   "cell_type": "code",
   "execution_count": 11,
   "metadata": {},
   "outputs": [
    {
     "data": {
      "text/plain": [
       "<matplotlib.axes._subplots.AxesSubplot at 0x2c9a805f550>"
      ]
     },
     "execution_count": 11,
     "metadata": {},
     "output_type": "execute_result"
    },
    {
     "data": {
      "image/png": "[encoded data removed]",
      "text/plain": [
       "<Figure size 432x288 with 1 Axes>"
      ]
     },
     "metadata": {
      "needs_background": "light"
     },
     "output_type": "display_data"
    }
   ],
   "source": [
    "# Use the `plot` function to plot `1000` simulations of the potential trajectories of the portfolio based on 252 trading days\n",
    "plot_title = f\"{n+1} Simulations of Cumulative Portfolio Return Trajectories Over the Next 252 Trading Days\"\n",
    "portfolio_cumulative_returns.plot(legend=None, title=plot_title)"
   ]
  },
  {
   "cell_type": "code",
   "execution_count": 12,
   "metadata": {},
   "outputs": [
    {
     "data": {
      "text/plain": [
       "Simulation 1    0.860040\n",
       "Simulation 2    1.025315\n",
       "Simulation 3    1.593607\n",
       "Simulation 4    1.007840\n",
       "Simulation 5    1.346020\n",
       "Name: 252, dtype: float64"
      ]
     },
     "execution_count": 12,
     "metadata": {},
     "output_type": "execute_result"
    }
   ],
   "source": [
    "# Select the last row for project stock prices (prices of each simulation on the 252nd trading day)\n",
    "ending_cumulative_returns = portfolio_cumulative_returns.iloc[-1, :]\n",
    "ending_cumulative_returns.head()"
   ]
  },
  {
   "cell_type": "markdown",
   "metadata": {},
   "source": [
    "### Plot the Frequency Distribution of Simulated Ending Portfolio Cumulative Returns on the 252nd Trading Day"
   ]
  },
  {
   "cell_type": "code",
   "execution_count": 13,
   "metadata": {},
   "outputs": [
    {
     "data": {
      "text/plain": [
       "<matplotlib.axes._subplots.AxesSubplot at 0x2c9a8195a00>"
      ]
     },
     "execution_count": 13,
     "metadata": {},
     "output_type": "execute_result"
    },
    {
     "data": {
      "image/png": "[encoded data removed]",
      "text/plain": [
       "<Figure size 432x288 with 1 Axes>"
      ]
     },
     "metadata": {
      "needs_background": "light"
     },
     "output_type": "display_data"
    }
   ],
   "source": [
    "# Use the `plot` function to plot a frequency distribution of simulated ending prices\n",
    "ending_cumulative_returns.plot(kind=\"hist\", bins=10)"
   ]
  },
  {
   "cell_type": "markdown",
   "metadata": {},
   "source": [
    "### Calculate the Probability Distribution of Ending Cumulative Return Ranges"
   ]
  },
  {
   "cell_type": "code",
   "execution_count": 14,
   "metadata": {},
   "outputs": [
    {
     "data": {
      "text/plain": [
       "(1.02, 1.325]     0.342\n",
       "(0.715, 1.02]     0.320\n",
       "(1.325, 1.63]     0.156\n",
       "(0.407, 0.715]    0.096\n",
       "(1.63, 1.935]     0.059\n",
       "(1.935, 2.24]     0.018\n",
       "(2.24, 2.544]     0.004\n",
       "(2.849, 3.154]    0.002\n",
       "(2.544, 2.849]    0.002\n",
       "(3.154, 3.459]    0.001\n",
       "Name: 252, dtype: float64"
      ]
     },
     "execution_count": 14,
     "metadata": {},
     "output_type": "execute_result"
    }
   ],
   "source": [
    "ending_cumulative_returns.value_counts(bins=10) / len(ending_cumulative_returns)"
   ]
  },
  {
   "cell_type": "markdown",
   "metadata": {},
   "source": [
    "### Calculate Lower and Upper Bounds of 95% Confidence Interval for Simulated Ending Cumulative Portfolio Returns"
   ]
  },
  {
   "cell_type": "code",
   "execution_count": 15,
   "metadata": {},
   "outputs": [
    {
     "data": {
      "text/plain": [
       "0.025    0.598313\n",
       "0.975    1.973583\n",
       "Name: 252, dtype: float64"
      ]
     },
     "execution_count": 15,
     "metadata": {},
     "output_type": "execute_result"
    }
   ],
   "source": [
    "# Use the `quantile` function to calculate the 95% confidence interval for simulated ending prices\n",
    "confidence_interval = ending_cumulative_returns.quantile(q=[0.025, 0.975])\n",
    "confidence_interval"
   ]
  },
  {
   "cell_type": "markdown",
   "metadata": {},
   "source": [
    "### Plot the Probability Distribution and 95% Confidence Interval of Simulated Ending Cumulative Portfolio Returns "
   ]
  },
  {
   "cell_type": "code",
   "execution_count": 16,
   "metadata": {},
   "outputs": [
    {
     "data": {
      "text/plain": [
       "<matplotlib.lines.Line2D at 0x2c9a816e160>"
      ]
     },
     "execution_count": 16,
     "metadata": {},
     "output_type": "execute_result"
    },
    {
     "data": {
      "image/png": "[encoded data removed]",
      "text/plain": [
       "<Figure size 432x288 with 1 Axes>"
      ]
     },
     "metadata": {
      "needs_background": "light"
     },
     "output_type": "display_data"
    }
   ],
   "source": [
    "# Use the `plot` function to create a probability distribution histogram of simulated ending prices\n",
    "# with markings for a 95% confidence interval\n",
    "plt.figure();\n",
    "ending_cumulative_returns.plot(kind=\"hist\", density=True, bins=10)\n",
    "plt.axvline(confidence_interval.iloc[0], color=\"r\")\n",
    "plt.axvline(confidence_interval.iloc[1], color=\"r\")"
   ]
  },
  {
   "cell_type": "markdown",
   "metadata": {},
   "source": [
    "### Calculate 95% Confidence Interval of An Initial Investment of 10,000 in the Portfolio over the Next 252 Trading Days"
   ]
  },
  {
   "cell_type": "code",
   "execution_count": 17,
   "metadata": {
    "tags": []
   },
   "outputs": [
    {
     "name": "stdout",
     "output_type": "stream",
     "text": [
      "There is a 95% chance that an initial investment of $10,000 in the portfolio over the next 252 trading days will end within in the range of $5983.126605923959 and $19735.82793713919\n"
     ]
    }
   ],
   "source": [
    "# Set initial investment\n",
    "initial_investment = 10000\n",
    "\n",
    "# Calculate investment profit/loss of lower and upper bound cumulative portfolio returns\n",
    "investment_pnl_lower_bound = initial_investment * confidence_interval.iloc[0]\n",
    "investment_pnl_upper_bound = initial_investment * confidence_interval.iloc[1]\n",
    "                                                    \n",
    "# Print the results\n",
    "print(f\"There is a 95% chance that an initial investment of $10,000 in the portfolio\"\n",
    "      f\" over the next 252 trading days will end within in the range of\"\n",
    "      f\" ${investment_pnl_lower_bound} and ${investment_pnl_upper_bound}\")"
   ]
  },
  {
   "cell_type": "code",
   "execution_count": null,
   "metadata": {},
   "outputs": [],
   "source": []
  }
 ],
 "metadata": {
  "kernel_info": {
   "name": "python3"
  },
  "kernelspec": {
   "display_name": "Python 3.8.3 64-bit ('dev': conda)",
   "language": "python",
   "name": "python38364bitdevcondaa6adb68a2faa493e9e199abda160d006"
  },
  "language_info": {
   "codemirror_mode": {
    "name": "ipython",
    "version": 3
   },
   "file_extension": ".py",
   "mimetype": "text/x-python",
   "name": "python",
   "nbconvert_exporter": "python",
   "pygments_lexer": "ipython3",
   "version": "3.8.3"
  },
  "nteract": {
   "version": "0.12.3"
  }
 },
 "nbformat": 4,
 "nbformat_minor": 4
}
