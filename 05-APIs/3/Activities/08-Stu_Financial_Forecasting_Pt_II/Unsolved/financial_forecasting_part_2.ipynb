{
 "cells": [
  {
   "cell_type": "markdown",
   "metadata": {},
   "source": [
    "### Instructor Demo: Financial Forecasting Part II\n",
    "\n",
    "This program executes `1000` simulations of stock price trajectory over the next `252 * 3` trading days (or 3 years of trading) for `BB` stock, based on a normal probability distribution of average daily returns derived from the sample mean and standard deviation. Then, the program calculates a `95%` confidence interval of stock price outcomes for `BB`. "
   ]
  },
  {
   "cell_type": "code",
   "execution_count": null,
   "metadata": {},
   "outputs": [],
   "source": [
    "# Import libraries and dependencies\n",
    "import numpy as np\n",
    "import pandas as pd\n",
    "import os\n",
    "from datetime import datetime, timedelta\n",
    "import matplotlib.pyplot as plt\n",
    "import alpaca_trade_api as tradeapi\n",
    "\n",
    "%matplotlib inline"
   ]
  },
  {
   "cell_type": "code",
   "execution_count": null,
   "metadata": {},
   "outputs": [],
   "source": [
    "# Load .env enviroment variables\n",
    "from dotenv import load_dotenv\n",
    "load_dotenv()\n",
    "\n",
    "# Set Alpaca API key and secret\n",
    "alpaca_api_key = os.getenv(\"ALPACA_API_KEY\")\n",
    "alpaca_secret_key = os.getenv(\"ALPACA_SECRET_KEY\")\n",
    "\n",
    "api = tradeapi.REST(alpaca_api_key, alpaca_secret_key, api_version=\"v2\")"
   ]
  },
  {
   "cell_type": "markdown",
   "metadata": {},
   "source": [
    "### Check Available Tickers from Alpaca Markets API"
   ]
  },
  {
   "cell_type": "code",
   "execution_count": null,
   "metadata": {
    "inputHidden": false,
    "outputHidden": false,
    "scrolled": true
   },
   "outputs": [],
   "source": [
    "# Get all Asstes\n",
    "assets = api.list_assets()\n",
    "\n",
    "# Keep only tradeable assets\n",
    "tradeable = [asset for asset in assets if asset.tradable ]\n",
    "tradeable"
   ]
  },
  {
   "cell_type": "code",
   "execution_count": null,
   "metadata": {},
   "outputs": [],
   "source": [
    "# Create a new empty DataFrame\n",
    "asset_info_df = pd.DataFrame()\n",
    "asset_info_df[\"symbol\"] = pd.Series([asset.symbol for asset in assets])\n",
    "\n",
    "# Display the first 10 asset tickers\n",
    "display(asset_info_df.head(10))"
   ]
  },
  {
   "cell_type": "markdown",
   "metadata": {},
   "source": [
    "### Get 1 Year\"s Worth of Data via API Call and Read in as DataFrame "
   ]
  },
  {
   "cell_type": "code",
   "execution_count": null,
   "metadata": {},
   "outputs": [],
   "source": [
    "# Set the ticker\n",
    "ticker = \"BB\"\n",
    "\n",
    "# Set timeframe to \"1D\"\n",
    "timeframe = \"1D\"\n",
    "\n",
    "# Set start and end datetimes of 1 year, between now and 365 days ago.\n",
    "start_date = pd.Timestamp(\"2019-05-04\", tz=\"America/New_York\").isoformat()\n",
    "end_date = pd.Timestamp(\"2020-05-04\", tz=\"America/New_York\").isoformat()\n",
    "\n",
    "# Get 1 year\"s worth of historical data for BB\n",
    "df = api.get_barset(\n",
    "    ticker,\n",
    "    timeframe,\n",
    "    limit=None,\n",
    "    start=start_date,\n",
    "    end=end_date,\n",
    "    after=None,\n",
    "    until=None,\n",
    ").df\n",
    "\n",
    "df.head()"
   ]
  },
  {
   "cell_type": "markdown",
   "metadata": {},
   "source": [
    "### Drop Extraneous Columns"
   ]
  },
  {
   "cell_type": "code",
   "execution_count": null,
   "metadata": {},
   "outputs": [],
   "source": [
    "# Drop Outer Table Level\n",
    "df = df.droplevel(axis=1, level=0)\n",
    "\n",
    "# Use the drop function to drop extra columns\n",
    "df.drop(columns=[\"open\", \"high\", \"low\", \"volume\"], inplace=True)\n",
    "\n",
    "# Since this is daily data, we can keep only the date (remove the time) component of the data\n",
    "df.index = df.index.date\n",
    "\n",
    "df.head()"
   ]
  },
  {
   "cell_type": "markdown",
   "metadata": {},
   "source": [
    "### Calculate Daily Returns"
   ]
  },
  {
   "cell_type": "code",
   "execution_count": null,
   "metadata": {},
   "outputs": [],
   "source": [
    "# Use the `pct_change` function to calculate daily returns of BB\n"
   ]
  },
  {
   "cell_type": "markdown",
   "metadata": {},
   "source": [
    "### Calculate Value of Average Daily Returns"
   ]
  },
  {
   "cell_type": "code",
   "execution_count": null,
   "metadata": {},
   "outputs": [],
   "source": [
    "# Use the `mean` function to calculate the mean of daily returns for BB\n"
   ]
  },
  {
   "cell_type": "markdown",
   "metadata": {},
   "source": [
    "### Calculate Value of Standard Deviation of Daily Returns"
   ]
  },
  {
   "cell_type": "code",
   "execution_count": null,
   "metadata": {},
   "outputs": [],
   "source": [
    "# Use the `std` function to calculate the standard deviation of daily returns for BB\n"
   ]
  },
  {
   "cell_type": "markdown",
   "metadata": {},
   "source": [
    "### Run the Monte Carlo Simulation and Save Results to DataFrame"
   ]
  },
  {
   "cell_type": "code",
   "execution_count": null,
   "metadata": {},
   "outputs": [],
   "source": [
    "# Set number of simulations, trading days, and get last closing price of BB from DataFrame\n",
    "num_simulations = 1000\n",
    "num_trading_days = 252 * 3\n",
    "BB_last_price = df[\"close\"][-1]\n",
    "\n",
    "# Initialize empty DataFrame to hold simulated prices for each simulation\n",
    "\n",
    "# Run the simulation of projecting stock prices for the next trading year, `1000` times\n",
    "\n",
    "    # Initialize the simulated prices list with the last closing price of BB\n",
    "    \n",
    "    # Simulate the returns for 252 * 3 days\n",
    "    \n",
    "        # Calculate the simulated price using the last price within the list\n",
    "        \n",
    "        # Append the simulated price to the list\n",
    "    \n",
    "    # Append a simulated prices of each simulation to DataFrame\n",
    "\n",
    "# Print head of DataFrame\n"
   ]
  },
  {
   "cell_type": "markdown",
   "metadata": {},
   "source": [
    "### Plot the Multiple Simulations of Stock Price Trajectory for BB over the Next 3 Years (252 * 3 Trading Days)"
   ]
  },
  {
   "cell_type": "code",
   "execution_count": null,
   "metadata": {},
   "outputs": [],
   "source": [
    "# Use the `plot` function to plot the trajectory of BB stock based on a 252 * 3 trading day simulation\n"
   ]
  },
  {
   "cell_type": "code",
   "execution_count": null,
   "metadata": {},
   "outputs": [],
   "source": [
    "# Select the last row for project stock prices (prices of each simulation on the last simulated trading day)\n"
   ]
  },
  {
   "cell_type": "markdown",
   "metadata": {},
   "source": [
    "### Plot the Frequency Distribution of Simulated Ending Prices on the Last Simulated Trading Day"
   ]
  },
  {
   "cell_type": "code",
   "execution_count": null,
   "metadata": {},
   "outputs": [],
   "source": [
    "# Use the `plot` function to plot a frequency distribution of simulated ending prices\n"
   ]
  },
  {
   "cell_type": "markdown",
   "metadata": {},
   "source": [
    "### View the Probability Distribution of Simulated Ending Price Ranges on the Last Simualted Trading Day"
   ]
  },
  {
   "cell_type": "code",
   "execution_count": null,
   "metadata": {},
   "outputs": [],
   "source": [
    "# Use the `value_counts` function to create the frequency distribution and \n",
    "# sort the data into 20 bins. Divid the value counts of each bin by the total\n",
    "# number of prices to return the probability of each range\n"
   ]
  },
  {
   "cell_type": "markdown",
   "metadata": {},
   "source": [
    "### Calculate Lower and Upper Bounds of 95% Confidence Interval for Simulated Ending Stock Prices of BB"
   ]
  },
  {
   "cell_type": "code",
   "execution_count": null,
   "metadata": {},
   "outputs": [],
   "source": [
    "# Use the `quantile` function to calculate the 95% confidence interval for simulated ending prices\n"
   ]
  },
  {
   "cell_type": "markdown",
   "metadata": {},
   "source": [
    "### Plot the Probability Distribution and 95% Confidence Interval of Simulated Ending Prices "
   ]
  },
  {
   "cell_type": "code",
   "execution_count": null,
   "metadata": {},
   "outputs": [],
   "source": [
    "# Use the `plot` function to create a probability distribution histogram of simulated ending prices\n",
    "# with markings for a 95% confidence interval\n"
   ]
  },
  {
   "cell_type": "markdown",
   "metadata": {},
   "source": [
    "### Calculate 95% Confidence Interval of An Initial Investment of 10,000 in BB over the Next 3 Years (252 * 3) Trading Days"
   ]
  },
  {
   "cell_type": "code",
   "execution_count": null,
   "metadata": {},
   "outputs": [],
   "source": [
    "# Set initial investment\n",
    "initial_investment = 10000\n",
    "\n",
    "# Calculate cumulative profit/loss of lower and upper bound\n",
    "\n",
    "# Add the initial investment to the cumulative profit/loss of lower and upper bound\n",
    "\n",
    "# Print the results\n",
    "print(f\"There is a 95% chance that an initial investment of $10,000 in BB\"\n",
    "      f\" over the next (252 * 3) trading days will end within in the range of\"\n",
    "      f\" ${ending_investment_lower_bound} and ${ending_investment_upper_bound}\")"
   ]
  }
 ],
 "metadata": {
  "kernel_info": {
   "name": "python3"
  },
  "kernelspec": {
   "display_name": "Python 3",
   "language": "python",
   "name": "python3"
  },
  "language_info": {
   "codemirror_mode": {
    "name": "ipython",
    "version": 3
   },
   "file_extension": ".py",
   "mimetype": "text/x-python",
   "name": "python",
   "nbconvert_exporter": "python",
   "pygments_lexer": "ipython3",
   "version": "3.7.6"
  },
  "nteract": {
   "version": "0.12.3"
  }
 },
 "nbformat": 4,
 "nbformat_minor": 4
}
