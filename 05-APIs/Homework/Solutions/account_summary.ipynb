{
 "cells": [
  {
   "cell_type": "markdown",
   "metadata": {},
   "source": [
    "# Budget Analysis\n",
    "\n",
    "---\n",
    "\n",
    "## Environment Setup"
   ]
  },
  {
   "cell_type": "code",
   "execution_count": 1,
   "metadata": {},
   "outputs": [],
   "source": [
    "# Initial Imports\n",
    "import os\n",
    "import plaid\n",
    "import requests\n",
    "import datetime\n",
    "import json\n",
    "import pandas as pd\n",
    "from dotenv import load_dotenv\n",
    "\n",
    "%matplotlib inline"
   ]
  },
  {
   "cell_type": "code",
   "execution_count": 2,
   "metadata": {},
   "outputs": [],
   "source": [
    "# Helper functions\n",
    "\n",
    "def pretty_print_response(response):\n",
    "    \"\"\"\n",
    "    This function formats a JSON file to pretty printing it in the screen.\n",
    "    \"\"\"\n",
    "    print(json.dumps(response, indent=4, sort_keys=True))"
   ]
  },
  {
   "cell_type": "code",
   "execution_count": 3,
   "metadata": {},
   "outputs": [
    {
     "data": {
      "text/plain": [
       "True"
      ]
     },
     "execution_count": 3,
     "metadata": {},
     "output_type": "execute_result"
    }
   ],
   "source": [
    "# Set environment variables from the .env file\n",
    "load_dotenv()"
   ]
  },
  {
   "cell_type": "code",
   "execution_count": 4,
   "metadata": {},
   "outputs": [],
   "source": [
    "# Extract API keys from environment variables\n",
    "PLAID_CLIENT_ID = os.getenv(\"PLAID_CLIENT_ID\")\n",
    "PLAID_SECRET = os.getenv(\"PLAID_SECRET\")\n",
    "PLAID_PUBLIC_KEY = os.getenv(\"PLAID_PUBLIC_KEY\")"
   ]
  },
  {
   "cell_type": "markdown",
   "metadata": {},
   "source": [
    "---\n",
    "\n",
    "## Plaid Access Token\n",
    "\n",
    "In this section, you will use the `plaid-python` API to generate the correct authentication tokens to access data in the free developer Sandbox. This mimics how you might connect to your own account or a customer account, but due to privacy issues, this homework will only require connecting to and analyzing the fake data from the developer sandbox that Plaid provides. \n",
    "\n",
    "Complete the following steps to generate an access token:\n",
    "\n",
    "1. Create a client to connect to plaid\n",
    "\n",
    "2. Use the client to generate a public token and request the following items: ['transactions', 'income', 'assets']\n",
    "\n",
    "3. Exchange the public token for an access token\n",
    "\n",
    "4. Test the access token by requesting and printing the available test accounts"
   ]
  },
  {
   "cell_type": "markdown",
   "metadata": {},
   "source": [
    "### 1. Create a client to connect to plaid"
   ]
  },
  {
   "cell_type": "code",
   "execution_count": 5,
   "metadata": {},
   "outputs": [],
   "source": [
    "# Create the client object\n",
    "client = plaid.Client(\n",
    "    client_id = PLAID_CLIENT_ID,\n",
    "    secret=PLAID_SECRET,\n",
    "    public_key=PLAID_PUBLIC_KEY,\n",
    "    environment=\"sandbox\",\n",
    ")"
   ]
  },
  {
   "cell_type": "code",
   "execution_count": 6,
   "metadata": {},
   "outputs": [],
   "source": [
    "# Set the institution id\n",
    "INSITUTION_ID = \"ins_109508\""
   ]
  },
  {
   "cell_type": "markdown",
   "metadata": {},
   "source": [
    "### 2. Generate a public token"
   ]
  },
  {
   "cell_type": "code",
   "execution_count": 7,
   "metadata": {},
   "outputs": [
    {
     "name": "stdout",
     "output_type": "stream",
     "text": [
      "{\n",
      "    \"public_token\": \"public-sandbox-b38185c5-9f05-422e-8eca-fb2e3fa0fc67\",\n",
      "    \"request_id\": \"X2fY9OgJBI39Fkr\"\n",
      "}\n"
     ]
    }
   ],
   "source": [
    "# Create the public token\n",
    "create_response = client.Sandbox.public_token.create(\n",
    "    INSITUTION_ID,\n",
    "    [\"transactions\", \"income\", \"assets\"]\n",
    ")\n",
    "\n",
    "# Print the public token\n",
    "pretty_print_response(create_response)"
   ]
  },
  {
   "cell_type": "markdown",
   "metadata": {},
   "source": [
    "### 3. Exchange the public token for an access token"
   ]
  },
  {
   "cell_type": "code",
   "execution_count": 8,
   "metadata": {},
   "outputs": [
    {
     "name": "stdout",
     "output_type": "stream",
     "text": [
      "{\n",
      "    \"access_token\": \"access-sandbox-8043390d-3d9e-427f-8adf-369feaf30e67\",\n",
      "    \"item_id\": \"Xx5185L9awFbpZwBDAqMH1NDBzAW6eCdX5gdR\",\n",
      "    \"request_id\": \"Ljd1V4s41IlhNkB\"\n",
      "}\n"
     ]
    }
   ],
   "source": [
    "# Retrieve the access token\n",
    "exchange_response = client.Item.public_token.exchange(create_response[\"public_token\"])\n",
    "\n",
    "# Print the access toke\n",
    "pretty_print_response(exchange_response)"
   ]
  },
  {
   "cell_type": "code",
   "execution_count": 9,
   "metadata": {},
   "outputs": [],
   "source": [
    "# Store the access token in a Python variable\n",
    "access_token = exchange_response[\"access_token\"]"
   ]
  },
  {
   "cell_type": "markdown",
   "metadata": {},
   "source": [
    "### 4. Fetch Accounts"
   ]
  },
  {
   "cell_type": "code",
   "execution_count": 10,
   "metadata": {},
   "outputs": [
    {
     "name": "stdout",
     "output_type": "stream",
     "text": [
      "{\n",
      "    \"accounts\": [\n",
      "        {\n",
      "            \"account_id\": \"rvdRJdBZ35uGxj5aREMdHXqr4pGZMmilZkXjr\",\n",
      "            \"balances\": {\n",
      "                \"available\": 100,\n",
      "                \"current\": 110,\n",
      "                \"iso_currency_code\": \"USD\",\n",
      "                \"limit\": null,\n",
      "                \"unofficial_currency_code\": null\n",
      "            },\n",
      "            \"mask\": \"0000\",\n",
      "            \"name\": \"Plaid Checking\",\n",
      "            \"official_name\": \"Plaid Gold Standard 0% Interest Checking\",\n",
      "            \"subtype\": \"checking\",\n",
      "            \"type\": \"depository\"\n",
      "        },\n",
      "        {\n",
      "            \"account_id\": \"zvQMmQjb75uMWVAZeb4xhKoQvLp7mBcoxXKR4\",\n",
      "            \"balances\": {\n",
      "                \"available\": 200,\n",
      "                \"current\": 210,\n",
      "                \"iso_currency_code\": \"USD\",\n",
      "                \"limit\": null,\n",
      "                \"unofficial_currency_code\": null\n",
      "            },\n",
      "            \"mask\": \"1111\",\n",
      "            \"name\": \"Plaid Saving\",\n",
      "            \"official_name\": \"Plaid Silver Standard 0.1% Interest Saving\",\n",
      "            \"subtype\": \"savings\",\n",
      "            \"type\": \"depository\"\n",
      "        },\n",
      "        {\n",
      "            \"account_id\": \"BJ6lR6VmQ5FLmMRanz5yHgwyzmRljqcw3x1dm\",\n",
      "            \"balances\": {\n",
      "                \"available\": null,\n",
      "                \"current\": 1000,\n",
      "                \"iso_currency_code\": \"USD\",\n",
      "                \"limit\": null,\n",
      "                \"unofficial_currency_code\": null\n",
      "            },\n",
      "            \"mask\": \"2222\",\n",
      "            \"name\": \"Plaid CD\",\n",
      "            \"official_name\": \"Plaid Bronze Standard 0.2% Interest CD\",\n",
      "            \"subtype\": \"cd\",\n",
      "            \"type\": \"depository\"\n",
      "        },\n",
      "        {\n",
      "            \"account_id\": \"3MpBKp8NqviNKX9xAdW4skdrWqLga7Iq9VLko\",\n",
      "            \"balances\": {\n",
      "                \"available\": null,\n",
      "                \"current\": 410,\n",
      "                \"iso_currency_code\": \"USD\",\n",
      "                \"limit\": 2000,\n",
      "                \"unofficial_currency_code\": null\n",
      "            },\n",
      "            \"mask\": \"3333\",\n",
      "            \"name\": \"Plaid Credit Card\",\n",
      "            \"official_name\": \"Plaid Diamond 12.5% APR Interest Credit Card\",\n",
      "            \"subtype\": \"credit card\",\n",
      "            \"type\": \"credit\"\n",
      "        },\n",
      "        {\n",
      "            \"account_id\": \"xv7Br7NJPXuXaJge8VALfZQLlNbq5AcnDKZ8D\",\n",
      "            \"balances\": {\n",
      "                \"available\": 43200,\n",
      "                \"current\": 43200,\n",
      "                \"iso_currency_code\": \"USD\",\n",
      "                \"limit\": null,\n",
      "                \"unofficial_currency_code\": null\n",
      "            },\n",
      "            \"mask\": \"4444\",\n",
      "            \"name\": \"Plaid Money Market\",\n",
      "            \"official_name\": \"Plaid Platinum Standard 1.85% Interest Money Market\",\n",
      "            \"subtype\": \"money market\",\n",
      "            \"type\": \"depository\"\n",
      "        },\n",
      "        {\n",
      "            \"account_id\": \"d15dw5yrpJikXnMrZoqxHBaWKvE1kXtZ4nq7v\",\n",
      "            \"balances\": {\n",
      "                \"available\": null,\n",
      "                \"current\": 320.76,\n",
      "                \"iso_currency_code\": \"USD\",\n",
      "                \"limit\": null,\n",
      "                \"unofficial_currency_code\": null\n",
      "            },\n",
      "            \"mask\": \"5555\",\n",
      "            \"name\": \"Plaid IRA\",\n",
      "            \"official_name\": null,\n",
      "            \"subtype\": \"ira\",\n",
      "            \"type\": \"brokerage\"\n",
      "        },\n",
      "        {\n",
      "            \"account_id\": \"aQ5de5nlM3UKrWkL6AjzSkb7LpZm3VI7gKvrr\",\n",
      "            \"balances\": {\n",
      "                \"available\": null,\n",
      "                \"current\": 23631.9805,\n",
      "                \"iso_currency_code\": \"USD\",\n",
      "                \"limit\": null,\n",
      "                \"unofficial_currency_code\": null\n",
      "            },\n",
      "            \"mask\": \"6666\",\n",
      "            \"name\": \"Plaid 401k\",\n",
      "            \"official_name\": null,\n",
      "            \"subtype\": \"401k\",\n",
      "            \"type\": \"brokerage\"\n",
      "        },\n",
      "        {\n",
      "            \"account_id\": \"41ovroEPKVi53ZgPDpqNIXnQjADG4qidaRKBZ\",\n",
      "            \"balances\": {\n",
      "                \"available\": null,\n",
      "                \"current\": 65262,\n",
      "                \"iso_currency_code\": \"USD\",\n",
      "                \"limit\": null,\n",
      "                \"unofficial_currency_code\": null\n",
      "            },\n",
      "            \"mask\": \"7777\",\n",
      "            \"name\": \"Plaid Student Loan\",\n",
      "            \"official_name\": null,\n",
      "            \"subtype\": \"student\",\n",
      "            \"type\": \"loan\"\n",
      "        }\n",
      "    ],\n",
      "    \"item\": {\n",
      "        \"available_products\": [\n",
      "            \"auth\",\n",
      "            \"balance\",\n",
      "            \"credit_details\",\n",
      "            \"identity\",\n",
      "            \"investments\",\n",
      "            \"liabilities\"\n",
      "        ],\n",
      "        \"billed_products\": [\n",
      "            \"assets\",\n",
      "            \"income\",\n",
      "            \"transactions\"\n",
      "        ],\n",
      "        \"consent_expiration_time\": null,\n",
      "        \"error\": null,\n",
      "        \"institution_id\": \"ins_109508\",\n",
      "        \"item_id\": \"Xx5185L9awFbpZwBDAqMH1NDBzAW6eCdX5gdR\",\n",
      "        \"webhook\": \"\"\n",
      "    },\n",
      "    \"request_id\": \"BRXOJLehkMFjgZB\"\n",
      "}\n"
     ]
    }
   ],
   "source": [
    "# Retrieve accounts\n",
    "accounts = client.Accounts.get(access_token)\n",
    "\n",
    "# Print accounts\n",
    "pretty_print_response(accounts)"
   ]
  },
  {
   "cell_type": "markdown",
   "metadata": {},
   "source": [
    "---\n",
    "\n",
    "# Account Transactions with Plaid\n",
    "\n",
    "In this section, you will use the Plaid Python SDK to connect to the Developer Sandbox account and grab a list of transactions. You will need to complete the following steps:\n",
    "\n",
    "\n",
    "1. Use the access token to fetch the transactions for the last 90 days\n",
    "\n",
    "2. Print the categories for each transaction type\n",
    "\n",
    "3. Create a new DataFrame using the following fields from the JSON transaction data: `date, name, amount, category`. (For categories with more than one label, just use the first category label in the list)\n",
    "\n",
    "4. Convert the data types to the appropriate types (i.e. datetimeindex for the date and float for the amount)"
   ]
  },
  {
   "cell_type": "markdown",
   "metadata": {},
   "source": [
    "### 1. Fetch the Transactions for the last 90 days"
   ]
  },
  {
   "cell_type": "code",
   "execution_count": 11,
   "metadata": {},
   "outputs": [
    {
     "name": "stdout",
     "output_type": "stream",
     "text": [
      "[\n",
      "    {\n",
      "        \"account_id\": \"3MpBKp8NqviNKX9xAdW4skdrWqLga7Iq9VLko\",\n",
      "        \"account_owner\": null,\n",
      "        \"amount\": 500,\n",
      "        \"authorized_date\": null,\n",
      "        \"category\": [\n",
      "            \"Travel\",\n",
      "            \"Airlines and Aviation Services\"\n",
      "        ],\n",
      "        \"category_id\": \"22001000\",\n",
      "        \"date\": \"2020-04-30\",\n",
      "        \"iso_currency_code\": \"USD\",\n",
      "        \"location\": {\n",
      "            \"address\": null,\n",
      "            \"city\": null,\n",
      "            \"lat\": null,\n",
      "            \"lon\": null,\n",
      "            \"state\": null,\n",
      "            \"store_number\": null,\n",
      "            \"zip\": null\n",
      "        },\n",
      "        \"name\": \"United Airlines\",\n",
      "        \"payment_channel\": \"in store\",\n",
      "        \"payment_meta\": {\n",
      "            \"by_order_of\": null,\n",
      "            \"payee\": null,\n",
      "            \"payer\": null,\n",
      "            \"payment_method\": null,\n",
      "            \"payment_processor\": null,\n",
      "            \"ppd_id\": null,\n",
      "            \"reason\": null,\n",
      "            \"reference_number\": null\n",
      "        },\n",
      "        \"pending\": false,\n",
      "        \"pending_transaction_id\": null,\n",
      "        \"transaction_id\": \"bZJ3xJbq1juGyAzPNE6BHoD9LLo3QztVnZQEB\",\n",
      "        \"transaction_type\": \"special\",\n",
      "        \"unofficial_currency_code\": null\n",
      "    }\n",
      "]\n"
     ]
    }
   ],
   "source": [
    "# Set the start and end date 90 days from today\n",
    "start_date = \"{:%Y-%m-%d}\".format(datetime.datetime.now() + datetime.timedelta(-90))\n",
    "end_date = \"{:%Y-%m-%d}\".format(datetime.datetime.now())\n",
    "\n",
    "# Retrieve the transactions for the last 90 days\n",
    "transactions_response = client.Transactions.get(access_token, start_date, end_date)\n",
    "\n",
    "# Print the transactions\n",
    "pretty_print_response(transactions_response[\"transactions\"][:1])"
   ]
  },
  {
   "cell_type": "markdown",
   "metadata": {},
   "source": [
    "### 2. Print the categories for each transaction"
   ]
  },
  {
   "cell_type": "code",
   "execution_count": 12,
   "metadata": {},
   "outputs": [
    {
     "name": "stdout",
     "output_type": "stream",
     "text": [
      "['Travel', 'Airlines and Aviation Services']\n",
      "['Travel', 'Taxi']\n",
      "['Food and Drink', 'Restaurants']\n",
      "['Payment']\n",
      "['Food and Drink', 'Restaurants', 'Fast Food']\n",
      "['Shops', 'Sporting Goods']\n",
      "['Payment', 'Credit Card']\n",
      "['Travel', 'Taxi']\n",
      "['Transfer', 'Debit']\n",
      "['Transfer', 'Deposit']\n",
      "['Recreation', 'Gyms and Fitness Centers']\n",
      "['Travel', 'Airlines and Aviation Services']\n",
      "['Food and Drink', 'Restaurants', 'Fast Food']\n",
      "['Food and Drink', 'Restaurants', 'Coffee Shop']\n",
      "['Food and Drink', 'Restaurants']\n",
      "['Transfer', 'Credit']\n"
     ]
    }
   ],
   "source": [
    "# Create a for-loop to print the categories for each transaction\n",
    "for transaction in transactions_response[\"transactions\"]:\n",
    "    print(transaction[\"category\"])"
   ]
  },
  {
   "cell_type": "markdown",
   "metadata": {},
   "source": [
    "### 3. Create a new DataFrame using the following fields from the JSON transaction data: `date`, `name`, `amount`, `category`. \n",
    "\n",
    "(For categories with more than one label, just use the first category label in the list)"
   ]
  },
  {
   "cell_type": "code",
   "execution_count": 13,
   "metadata": {},
   "outputs": [
    {
     "data": {
      "text/html": [
       "<div>\n",
       "<style scoped>\n",
       "    .dataframe tbody tr th:only-of-type {\n",
       "        vertical-align: middle;\n",
       "    }\n",
       "\n",
       "    .dataframe tbody tr th {\n",
       "        vertical-align: top;\n",
       "    }\n",
       "\n",
       "    .dataframe thead th {\n",
       "        text-align: right;\n",
       "    }\n",
       "</style>\n",
       "<table border=\"1\" class=\"dataframe\">\n",
       "  <thead>\n",
       "    <tr style=\"text-align: right;\">\n",
       "      <th></th>\n",
       "      <th>date</th>\n",
       "      <th>name</th>\n",
       "      <th>amount</th>\n",
       "      <th>category</th>\n",
       "    </tr>\n",
       "  </thead>\n",
       "  <tbody>\n",
       "    <tr>\n",
       "      <th>0</th>\n",
       "      <td>2020-04-30</td>\n",
       "      <td>United Airlines</td>\n",
       "      <td>500</td>\n",
       "      <td>Travel</td>\n",
       "    </tr>\n",
       "    <tr>\n",
       "      <th>1</th>\n",
       "      <td>2020-04-28</td>\n",
       "      <td>Uber</td>\n",
       "      <td>6.33</td>\n",
       "      <td>Travel</td>\n",
       "    </tr>\n",
       "    <tr>\n",
       "      <th>2</th>\n",
       "      <td>2020-04-25</td>\n",
       "      <td>Tectra Inc</td>\n",
       "      <td>500</td>\n",
       "      <td>Food and Drink</td>\n",
       "    </tr>\n",
       "    <tr>\n",
       "      <th>3</th>\n",
       "      <td>2020-04-24</td>\n",
       "      <td>AUTOMATIC PAYMENT - THANK</td>\n",
       "      <td>2078.5</td>\n",
       "      <td>Payment</td>\n",
       "    </tr>\n",
       "    <tr>\n",
       "      <th>4</th>\n",
       "      <td>2020-04-24</td>\n",
       "      <td>KFC</td>\n",
       "      <td>500</td>\n",
       "      <td>Food and Drink</td>\n",
       "    </tr>\n",
       "  </tbody>\n",
       "</table>\n",
       "</div>"
      ],
      "text/plain": [
       "         date                       name  amount        category\n",
       "0  2020-04-30            United Airlines     500          Travel\n",
       "1  2020-04-28                       Uber    6.33          Travel\n",
       "2  2020-04-25                 Tectra Inc     500  Food and Drink\n",
       "3  2020-04-24  AUTOMATIC PAYMENT - THANK  2078.5         Payment\n",
       "4  2020-04-24                        KFC     500  Food and Drink"
      ]
     },
     "execution_count": 13,
     "metadata": {},
     "output_type": "execute_result"
    }
   ],
   "source": [
    "# Define an empty DataFrame and set the columns as date, name, amount, and category\n",
    "transaction_df = pd.DataFrame(columns=[\"date\", \"name\", \"amount\", \"category\"])\n",
    "\n",
    "# Retrieve all the transactions\n",
    "transactions = transactions_response[\"transactions\"]\n",
    "\n",
    "# Populate the transactions DataFrame with the transactions data\n",
    "for index, transaction in enumerate(transactions):\n",
    "    transaction_df.loc[index] = [transaction[\"date\"], transaction[\"name\"], transaction[\"amount\"], transaction[\"category\"][0]]\n",
    "\n",
    "# Display sample data from the DataFrame    \n",
    "transaction_df.head()"
   ]
  },
  {
   "cell_type": "markdown",
   "metadata": {},
   "source": [
    "### 4. Convert the data types to the appropriate types \n",
    "\n",
    "(i.e. datetimeindex for the date and float for the amount)"
   ]
  },
  {
   "cell_type": "code",
   "execution_count": 14,
   "metadata": {},
   "outputs": [
    {
     "data": {
      "text/plain": [
       "date        object\n",
       "name        object\n",
       "amount      object\n",
       "category    object\n",
       "dtype: object"
      ]
     },
     "execution_count": 14,
     "metadata": {},
     "output_type": "execute_result"
    }
   ],
   "source": [
    "# Display data types\n",
    "transaction_df.dtypes"
   ]
  },
  {
   "cell_type": "code",
   "execution_count": 15,
   "metadata": {},
   "outputs": [],
   "source": [
    "# Make any required data type transformation\n",
    "transaction_df[\"amount\"] = transaction_df[\"amount\"].astype(\"float\")\n",
    "transaction_df[\"date\"] = pd.to_datetime(transaction_df[\"date\"], format=\"%Y-%m-%d\")"
   ]
  },
  {
   "cell_type": "code",
   "execution_count": 16,
   "metadata": {},
   "outputs": [
    {
     "data": {
      "text/html": [
       "<div>\n",
       "<style scoped>\n",
       "    .dataframe tbody tr th:only-of-type {\n",
       "        vertical-align: middle;\n",
       "    }\n",
       "\n",
       "    .dataframe tbody tr th {\n",
       "        vertical-align: top;\n",
       "    }\n",
       "\n",
       "    .dataframe thead th {\n",
       "        text-align: right;\n",
       "    }\n",
       "</style>\n",
       "<table border=\"1\" class=\"dataframe\">\n",
       "  <thead>\n",
       "    <tr style=\"text-align: right;\">\n",
       "      <th></th>\n",
       "      <th>name</th>\n",
       "      <th>amount</th>\n",
       "      <th>category</th>\n",
       "    </tr>\n",
       "    <tr>\n",
       "      <th>date</th>\n",
       "      <th></th>\n",
       "      <th></th>\n",
       "      <th></th>\n",
       "    </tr>\n",
       "  </thead>\n",
       "  <tbody>\n",
       "    <tr>\n",
       "      <th>2020-04-30</th>\n",
       "      <td>United Airlines</td>\n",
       "      <td>500.00</td>\n",
       "      <td>Travel</td>\n",
       "    </tr>\n",
       "    <tr>\n",
       "      <th>2020-04-28</th>\n",
       "      <td>Uber</td>\n",
       "      <td>6.33</td>\n",
       "      <td>Travel</td>\n",
       "    </tr>\n",
       "    <tr>\n",
       "      <th>2020-04-25</th>\n",
       "      <td>Tectra Inc</td>\n",
       "      <td>500.00</td>\n",
       "      <td>Food and Drink</td>\n",
       "    </tr>\n",
       "    <tr>\n",
       "      <th>2020-04-24</th>\n",
       "      <td>AUTOMATIC PAYMENT - THANK</td>\n",
       "      <td>2078.50</td>\n",
       "      <td>Payment</td>\n",
       "    </tr>\n",
       "    <tr>\n",
       "      <th>2020-04-24</th>\n",
       "      <td>KFC</td>\n",
       "      <td>500.00</td>\n",
       "      <td>Food and Drink</td>\n",
       "    </tr>\n",
       "  </tbody>\n",
       "</table>\n",
       "</div>"
      ],
      "text/plain": [
       "                                 name   amount        category\n",
       "date                                                          \n",
       "2020-04-30            United Airlines   500.00          Travel\n",
       "2020-04-28                       Uber     6.33          Travel\n",
       "2020-04-25                 Tectra Inc   500.00  Food and Drink\n",
       "2020-04-24  AUTOMATIC PAYMENT - THANK  2078.50         Payment\n",
       "2020-04-24                        KFC   500.00  Food and Drink"
      ]
     },
     "execution_count": 16,
     "metadata": {},
     "output_type": "execute_result"
    }
   ],
   "source": [
    "# Set the date column as index\n",
    "transaction_df = transaction_df.set_index(\"date\")\n",
    "\n",
    "# Display sample data\n",
    "transaction_df.head()"
   ]
  },
  {
   "cell_type": "markdown",
   "metadata": {},
   "source": [
    "---"
   ]
  },
  {
   "cell_type": "markdown",
   "metadata": {},
   "source": [
    "# Income Analysis with Plaid\n",
    "\n",
    "In this section, you will use the Plaid Sandbox to complete the following:\n",
    "\n",
    "1. Determine the previous year's gross income and print the results\n",
    "\n",
    "2. Determine the current monthly income and print the results\n",
    "\n",
    "3. Determine the projected yearly income and print the results"
   ]
  },
  {
   "cell_type": "code",
   "execution_count": 18,
   "metadata": {},
   "outputs": [
    {
     "name": "stdout",
     "output_type": "stream",
     "text": [
      "{\n",
      "    \"income\": {\n",
      "        \"income_streams\": [\n",
      "            {\n",
      "                \"confidence\": 0.99,\n",
      "                \"days\": 690,\n",
      "                \"monthly_income\": 500,\n",
      "                \"name\": \"UNITED AIRLINES\"\n",
      "            }\n",
      "        ],\n",
      "        \"last_year_income\": 6000,\n",
      "        \"last_year_income_before_tax\": 7285,\n",
      "        \"max_number_of_overlapping_income_streams\": 1,\n",
      "        \"number_of_income_streams\": 1,\n",
      "        \"projected_yearly_income\": 6085,\n",
      "        \"projected_yearly_income_before_tax\": 7389\n",
      "    },\n",
      "    \"request_id\": \"GA9lw7lKDTjXk60\"\n",
      "}\n"
     ]
    }
   ],
   "source": [
    "# Fetch de income data\n",
    "income_response = client.Income.get(access_token)\n",
    "\n",
    "# Print the income data\n",
    "pretty_print_response(income_response)"
   ]
  },
  {
   "cell_type": "code",
   "execution_count": 19,
   "metadata": {},
   "outputs": [
    {
     "name": "stdout",
     "output_type": "stream",
     "text": [
      "Last Year's income: 7285\n"
     ]
    }
   ],
   "source": [
    "# Determine the previous year's gross income and print the results\n",
    "print(f\"Last Year's income: {income_response['income']['last_year_income_before_tax']}\")"
   ]
  },
  {
   "cell_type": "code",
   "execution_count": 20,
   "metadata": {},
   "outputs": [
    {
     "name": "stdout",
     "output_type": "stream",
     "text": [
      "Current monthly income: 500\n"
     ]
    }
   ],
   "source": [
    "# Determine the current monthly income and print the results\n",
    "print(f\"Current monthly income: {income_response['income']['income_streams'][0]['monthly_income']}\")"
   ]
  },
  {
   "cell_type": "code",
   "execution_count": 21,
   "metadata": {},
   "outputs": [
    {
     "name": "stdout",
     "output_type": "stream",
     "text": [
      "Projected Year's income: 7389\n"
     ]
    }
   ],
   "source": [
    "# Determine the projected yearly income and print the results\n",
    "print(f\"Projected Year's income: {income_response['income']['projected_yearly_income_before_tax']}\")"
   ]
  },
  {
   "cell_type": "markdown",
   "metadata": {},
   "source": [
    "---"
   ]
  },
  {
   "cell_type": "markdown",
   "metadata": {},
   "source": [
    "# Budget Analysis\n",
    "In this section, you will use the transactions DataFrame to analyze the customer's budget\n",
    "\n",
    "1. Calculate the total spending per category and print the results (Hint: groupby or count transactions per category)\n",
    "\n",
    "2. Generate a bar chart with the number of transactions for each category\n",
    "\n",
    "3. Calulate the expenses per month\n",
    "\n",
    "4. Plot the total expenses per month"
   ]
  },
  {
   "cell_type": "markdown",
   "metadata": {},
   "source": [
    "### Calculate the expenses per category"
   ]
  },
  {
   "cell_type": "code",
   "execution_count": 22,
   "metadata": {},
   "outputs": [
    {
     "data": {
      "text/plain": [
       "category\n",
       "Food and Drink    1105.73\n",
       "Payment           2103.50\n",
       "Recreation          78.50\n",
       "Shops              500.00\n",
       "Transfer          6845.78\n",
       "Travel              11.73\n",
       "Name: amount, dtype: float64"
      ]
     },
     "execution_count": 22,
     "metadata": {},
     "output_type": "execute_result"
    }
   ],
   "source": [
    "# Compute the total expenses per category\n",
    "totals_by_category = transaction_df.groupby(\"category\").sum()[\"amount\"]\n",
    "\n",
    "# Display the expenses per catefory\n",
    "totals_by_category"
   ]
  },
  {
   "cell_type": "code",
   "execution_count": 23,
   "metadata": {},
   "outputs": [
    {
     "data": {
      "text/plain": [
       "<matplotlib.axes._subplots.AxesSubplot at 0x1165bc350>"
      ]
     },
     "execution_count": 23,
     "metadata": {},
     "output_type": "execute_result"
    },
    {
     "data": {
      "image/png": "[encoded data removed]",
      "text/plain": [
       "<Figure size 432x288 with 1 Axes>"
      ]
     },
     "metadata": {},
     "output_type": "display_data"
    }
   ],
   "source": [
    "# Create a spending categories pie chart.\n",
    "totals_by_category.plot.pie(title=\"Total Expenses Per Category\")"
   ]
  },
  {
   "cell_type": "markdown",
   "metadata": {},
   "source": [
    "### Calculate the expenses per month"
   ]
  },
  {
   "cell_type": "code",
   "execution_count": 24,
   "metadata": {},
   "outputs": [
    {
     "data": {
      "text/html": [
       "<div>\n",
       "<style scoped>\n",
       "    .dataframe tbody tr th:only-of-type {\n",
       "        vertical-align: middle;\n",
       "    }\n",
       "\n",
       "    .dataframe tbody tr th {\n",
       "        vertical-align: top;\n",
       "    }\n",
       "\n",
       "    .dataframe thead th {\n",
       "        text-align: right;\n",
       "    }\n",
       "</style>\n",
       "<table border=\"1\" class=\"dataframe\">\n",
       "  <thead>\n",
       "    <tr style=\"text-align: right;\">\n",
       "      <th></th>\n",
       "      <th>amount</th>\n",
       "    </tr>\n",
       "    <tr>\n",
       "      <th>month</th>\n",
       "      <th></th>\n",
       "    </tr>\n",
       "  </thead>\n",
       "  <tbody>\n",
       "    <tr>\n",
       "      <th>4</th>\n",
       "      <td>10645.24</td>\n",
       "    </tr>\n",
       "  </tbody>\n",
       "</table>\n",
       "</div>"
      ],
      "text/plain": [
       "         amount\n",
       "month          \n",
       "4      10645.24"
      ]
     },
     "execution_count": 24,
     "metadata": {},
     "output_type": "execute_result"
    }
   ],
   "source": [
    "# Create a DataFrame with the total expenses\n",
    "transactions_per_month = transaction_df.reset_index()\n",
    "transactions_per_month[\"month\"] = pd.DatetimeIndex(transactions_per_month[\"date\"]).month\n",
    "transactions_per_month = transactions_per_month.groupby(\"month\").sum()\n",
    "\n",
    "# Display sample data\n",
    "transactions_per_month"
   ]
  },
  {
   "cell_type": "code",
   "execution_count": 25,
   "metadata": {},
   "outputs": [
    {
     "data": {
      "text/plain": [
       "<matplotlib.axes._subplots.AxesSubplot at 0x1171e3cd0>"
      ]
     },
     "execution_count": 25,
     "metadata": {},
     "output_type": "execute_result"
    },
    {
     "data": {
      "image/png": "[encoded data removed]",
      "text/plain": [
       "<Figure size 432x288 with 1 Axes>"
      ]
     },
     "metadata": {
      "needs_background": "light"
     },
     "output_type": "display_data"
    }
   ],
   "source": [
    "# Create a spending per month bar chart\n",
    "transactions_per_month.plot.bar()"
   ]
  }
 ],
 "metadata": {
  "kernelspec": {
   "display_name": "Python 3",
   "language": "python",
   "name": "python3"
  },
  "language_info": {
   "codemirror_mode": {
    "name": "ipython",
    "version": 3
   },
   "file_extension": ".py",
   "mimetype": "text/x-python",
   "name": "python",
   "nbconvert_exporter": "python",
   "pygments_lexer": "ipython3",
   "version": "3.7.6"
  }
 },
 "nbformat": 4,
 "nbformat_minor": 4
}
