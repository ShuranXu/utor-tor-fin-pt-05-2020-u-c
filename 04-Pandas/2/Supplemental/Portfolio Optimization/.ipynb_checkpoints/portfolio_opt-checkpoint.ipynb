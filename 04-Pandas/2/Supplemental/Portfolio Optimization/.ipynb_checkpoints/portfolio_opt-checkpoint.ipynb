{
 "cells": [
  {
   "cell_type": "markdown",
   "metadata": {},
   "source": [
    " # Instructor Do: Portfolio Optimization"
   ]
  },
  {
   "cell_type": "code",
   "execution_count": 53,
   "metadata": {},
   "outputs": [],
   "source": [
    "# Initial imports\n",
    "import ffn\n",
    "import pypfopt\n",
    "\n",
    "from pypfopt.discrete_allocation import DiscreteAllocation, get_latest_prices"
   ]
  },
  {
   "cell_type": "code",
   "execution_count": 49,
   "metadata": {},
   "outputs": [
    {
     "data": {
      "text/html": [
       "<div>\n",
       "<style scoped>\n",
       "    .dataframe tbody tr th:only-of-type {\n",
       "        vertical-align: middle;\n",
       "    }\n",
       "\n",
       "    .dataframe tbody tr th {\n",
       "        vertical-align: top;\n",
       "    }\n",
       "\n",
       "    .dataframe thead th {\n",
       "        text-align: right;\n",
       "    }\n",
       "</style>\n",
       "<table border=\"1\" class=\"dataframe\">\n",
       "  <thead>\n",
       "    <tr style=\"text-align: right;\">\n",
       "      <th></th>\n",
       "      <th>tsla</th>\n",
       "      <th>amzn</th>\n",
       "      <th>msft</th>\n",
       "    </tr>\n",
       "    <tr>\n",
       "      <th>Date</th>\n",
       "      <th></th>\n",
       "      <th></th>\n",
       "      <th></th>\n",
       "    </tr>\n",
       "  </thead>\n",
       "  <tbody>\n",
       "    <tr>\n",
       "      <th>2017-01-03</th>\n",
       "      <td>216.990005</td>\n",
       "      <td>753.669983</td>\n",
       "      <td>58.969059</td>\n",
       "    </tr>\n",
       "    <tr>\n",
       "      <th>2017-01-04</th>\n",
       "      <td>226.990005</td>\n",
       "      <td>757.179993</td>\n",
       "      <td>58.705212</td>\n",
       "    </tr>\n",
       "    <tr>\n",
       "      <th>2017-01-05</th>\n",
       "      <td>226.750000</td>\n",
       "      <td>780.450012</td>\n",
       "      <td>58.705212</td>\n",
       "    </tr>\n",
       "    <tr>\n",
       "      <th>2017-01-06</th>\n",
       "      <td>229.009995</td>\n",
       "      <td>795.989990</td>\n",
       "      <td>59.214054</td>\n",
       "    </tr>\n",
       "    <tr>\n",
       "      <th>2017-01-09</th>\n",
       "      <td>231.279999</td>\n",
       "      <td>796.919983</td>\n",
       "      <td>59.025597</td>\n",
       "    </tr>\n",
       "  </tbody>\n",
       "</table>\n",
       "</div>"
      ],
      "text/plain": [
       "                  tsla        amzn       msft\n",
       "Date                                         \n",
       "2017-01-03  216.990005  753.669983  58.969059\n",
       "2017-01-04  226.990005  757.179993  58.705212\n",
       "2017-01-05  226.750000  780.450012  58.705212\n",
       "2017-01-06  229.009995  795.989990  59.214054\n",
       "2017-01-09  231.279999  796.919983  59.025597"
      ]
     },
     "execution_count": 49,
     "metadata": {},
     "output_type": "execute_result"
    }
   ],
   "source": [
    "# Get list of closing prices for each stock using the ffn library\n",
    "prices = ffn.get('tsla, amzn, msft', start='2017-01-01')\n",
    "prices.head()"
   ]
  },
  {
   "cell_type": "code",
   "execution_count": 50,
   "metadata": {},
   "outputs": [
    {
     "data": {
      "text/html": [
       "<div>\n",
       "<style scoped>\n",
       "    .dataframe tbody tr th:only-of-type {\n",
       "        vertical-align: middle;\n",
       "    }\n",
       "\n",
       "    .dataframe tbody tr th {\n",
       "        vertical-align: top;\n",
       "    }\n",
       "\n",
       "    .dataframe thead th {\n",
       "        text-align: right;\n",
       "    }\n",
       "</style>\n",
       "<table border=\"1\" class=\"dataframe\">\n",
       "  <thead>\n",
       "    <tr style=\"text-align: right;\">\n",
       "      <th></th>\n",
       "      <th>tsla</th>\n",
       "      <th>amzn</th>\n",
       "      <th>msft</th>\n",
       "    </tr>\n",
       "  </thead>\n",
       "  <tbody>\n",
       "    <tr>\n",
       "      <th>tsla</th>\n",
       "      <td>0.342289</td>\n",
       "      <td>0.061504</td>\n",
       "      <td>0.069263</td>\n",
       "    </tr>\n",
       "    <tr>\n",
       "      <th>amzn</th>\n",
       "      <td>0.061504</td>\n",
       "      <td>0.088060</td>\n",
       "      <td>0.061141</td>\n",
       "    </tr>\n",
       "    <tr>\n",
       "      <th>msft</th>\n",
       "      <td>0.069263</td>\n",
       "      <td>0.061141</td>\n",
       "      <td>0.082449</td>\n",
       "    </tr>\n",
       "  </tbody>\n",
       "</table>\n",
       "</div>"
      ],
      "text/plain": [
       "          tsla      amzn      msft\n",
       "tsla  0.342289  0.061504  0.069263\n",
       "amzn  0.061504  0.088060  0.061141\n",
       "msft  0.069263  0.061141  0.082449"
      ]
     },
     "execution_count": 50,
     "metadata": {},
     "output_type": "execute_result"
    }
   ],
   "source": [
    "# Calculate expected returns and sample covariance\n",
    "mean_return = pypfopt.expected_returns.mean_historical_return(prices)\n",
    "\n",
    "# Produce a covariance matrix\n",
    "sample_cov = pypfopt.risk_models.sample_cov(prices)\n",
    "sample_cov"
   ]
  },
  {
   "cell_type": "code",
   "execution_count": 51,
   "metadata": {},
   "outputs": [
    {
     "name": "stdout",
     "output_type": "stream",
     "text": [
      "Expected annual return: 43.6%\n",
      "Annual volatility: 28.2%\n",
      "Sharpe Ratio: 1.48\n"
     ]
    },
    {
     "data": {
      "text/plain": [
       "OrderedDict([('tsla', 0.17307), ('amzn', 0.47468), ('msft', 0.35226)])"
      ]
     },
     "execution_count": 51,
     "metadata": {},
     "output_type": "execute_result"
    }
   ],
   "source": [
    "# Optimise for maximal Sharpe ratio\n",
    "ef = pypfopt.EfficientFrontier(mean_return, sample_cov)\n",
    "raw_weights = ef.max_sharpe()\n",
    "cleaned_weights = ef.clean_weights()\n",
    "ef.save_weights_to_file(\"weights.csv\")  # saves to file\n",
    "ef.portfolio_performance(verbose=True)\n",
    "\n",
    "cleaned_weights"
   ]
  },
  {
   "cell_type": "code",
   "execution_count": 57,
   "metadata": {},
   "outputs": [
    {
     "name": "stdout",
     "output_type": "stream",
     "text": [
      "Discrete allocation: {'tsla': 17.0, 'amzn': 18.0, 'msft': 182.0}\n",
      "Funds remaining: $250.25\n"
     ]
    }
   ],
   "source": [
    "# Get discrete allocations\n",
    "latest_prices = get_latest_prices(prices)\n",
    "\n",
    "portfolio_amount = 100000\n",
    "\n",
    "da = DiscreteAllocation(raw_weights, latest_prices, total_portfolio_value=portfolio_amount)\n",
    "allocation, leftover = da.lp_portfolio()\n",
    "print(\"Discrete allocation:\", allocation)\n",
    "print(\"Funds remaining: ${:.2f}\".format(leftover))"
   ]
  },
  {
   "cell_type": "code",
   "execution_count": null,
   "metadata": {},
   "outputs": [],
   "source": []
  }
 ],
 "metadata": {
  "kernelspec": {
   "display_name": "Python 3",
   "language": "python",
   "name": "python3"
  },
  "language_info": {
   "codemirror_mode": {
    "name": "ipython",
    "version": 3
   },
   "file_extension": ".py",
   "mimetype": "text/x-python",
   "name": "python",
   "nbconvert_exporter": "python",
   "pygments_lexer": "ipython3",
   "version": "3.8.3"
  }
 },
 "nbformat": 4,
 "nbformat_minor": 4
}
