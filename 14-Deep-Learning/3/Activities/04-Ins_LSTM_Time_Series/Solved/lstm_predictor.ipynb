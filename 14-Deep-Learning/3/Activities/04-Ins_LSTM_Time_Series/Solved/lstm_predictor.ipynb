{
 "cells": [
  {
   "cell_type": "markdown",
   "metadata": {},
   "source": [
    "# LSTM Stock Predictor Using Closing Prices"
   ]
  },
  {
   "cell_type": "markdown",
   "metadata": {},
   "source": [
    "## Data Preparation\n",
    "\n",
    "In this section, we will prepare the training and testing data for the LSTM model.\n",
    "\n",
    "We will need to:\n",
    "1. Use the `window_data` function to generate the X and y values for the model.\n",
    "2. Split the data into 70% training and 30% testing\n",
    "3. Apply the MinMaxScaler to the `X` and `y` values\n",
    "4. Reshape the `X_train` and `X_test` data for the model.\n",
    "\n",
    "**Note:** The required input format for the LSTM is:\n",
    "\n",
    "```python\n",
    "reshape((X_train.shape[0], X_train.shape[1], 1))\n",
    "```"
   ]
  },
  {
   "cell_type": "code",
   "execution_count": 60,
   "metadata": {},
   "outputs": [],
   "source": [
    "# Initial imports\n",
    "import numpy as np\n",
    "import pandas as pd\n",
    "from pathlib import Path\n",
    "\n",
    "%matplotlib inline"
   ]
  },
  {
   "cell_type": "code",
   "execution_count": 61,
   "metadata": {},
   "outputs": [],
   "source": [
    "# Set the random seed for reproducibility\n",
    "# Note: This is used for model prototyping, but it is good practice to comment this out and run multiple experiments to evaluate your model.\n",
    "from numpy.random import seed\n",
    "\n",
    "seed(1)\n",
    "from tensorflow import random\n",
    "\n",
    "random.set_seed(2)"
   ]
  },
  {
   "cell_type": "markdown",
   "metadata": {},
   "source": [
    "### Data Loading\n",
    "\n",
    "In this activity, we will use closing prices from different stocks to make predictions of future closing prices based on the temporal data of each stock."
   ]
  },
  {
   "cell_type": "code",
   "execution_count": 62,
   "metadata": {},
   "outputs": [
    {
     "data": {
      "text/html": [
       "<div>\n",
       "<style scoped>\n",
       "    .dataframe tbody tr th:only-of-type {\n",
       "        vertical-align: middle;\n",
       "    }\n",
       "\n",
       "    .dataframe tbody tr th {\n",
       "        vertical-align: top;\n",
       "    }\n",
       "\n",
       "    .dataframe thead th {\n",
       "        text-align: right;\n",
       "    }\n",
       "</style>\n",
       "<table border=\"1\" class=\"dataframe\">\n",
       "  <thead>\n",
       "    <tr style=\"text-align: right;\">\n",
       "      <th></th>\n",
       "      <th>gold</th>\n",
       "      <th>oil</th>\n",
       "      <th>tsx</th>\n",
       "      <th>vix</th>\n",
       "    </tr>\n",
       "    <tr>\n",
       "      <th>Date</th>\n",
       "      <th></th>\n",
       "      <th></th>\n",
       "      <th></th>\n",
       "      <th></th>\n",
       "    </tr>\n",
       "  </thead>\n",
       "  <tbody>\n",
       "    <tr>\n",
       "      <th>2012-07-09</th>\n",
       "      <td>1618.87</td>\n",
       "      <td>86.8992</td>\n",
       "      <td>11634.67</td>\n",
       "      <td>21.19</td>\n",
       "    </tr>\n",
       "    <tr>\n",
       "      <th>2012-07-10</th>\n",
       "      <td>1614.83</td>\n",
       "      <td>86.0352</td>\n",
       "      <td>11512.22</td>\n",
       "      <td>22.11</td>\n",
       "    </tr>\n",
       "    <tr>\n",
       "      <th>2012-07-11</th>\n",
       "      <td>1606.04</td>\n",
       "      <td>87.8401</td>\n",
       "      <td>11544.64</td>\n",
       "      <td>21.43</td>\n",
       "    </tr>\n",
       "    <tr>\n",
       "      <th>2012-07-12</th>\n",
       "      <td>1594.88</td>\n",
       "      <td>87.5299</td>\n",
       "      <td>11425.47</td>\n",
       "      <td>21.57</td>\n",
       "    </tr>\n",
       "    <tr>\n",
       "      <th>2012-07-13</th>\n",
       "      <td>1614.53</td>\n",
       "      <td>88.3178</td>\n",
       "      <td>11514.53</td>\n",
       "      <td>20.25</td>\n",
       "    </tr>\n",
       "    <tr>\n",
       "      <th>2012-07-16</th>\n",
       "      <td>1615.27</td>\n",
       "      <td>89.4078</td>\n",
       "      <td>11521.18</td>\n",
       "      <td>19.37</td>\n",
       "    </tr>\n",
       "    <tr>\n",
       "      <th>2012-07-17</th>\n",
       "      <td>1608.56</td>\n",
       "      <td>90.1874</td>\n",
       "      <td>11571.19</td>\n",
       "      <td>19.28</td>\n",
       "    </tr>\n",
       "    <tr>\n",
       "      <th>2012-07-18</th>\n",
       "      <td>1586.42</td>\n",
       "      <td>90.8065</td>\n",
       "      <td>11579.15</td>\n",
       "      <td>18.51</td>\n",
       "    </tr>\n",
       "    <tr>\n",
       "      <th>2012-07-19</th>\n",
       "      <td>1592.20</td>\n",
       "      <td>93.0666</td>\n",
       "      <td>11665.70</td>\n",
       "      <td>17.93</td>\n",
       "    </tr>\n",
       "    <tr>\n",
       "      <th>2012-07-20</th>\n",
       "      <td>1602.69</td>\n",
       "      <td>92.7527</td>\n",
       "      <td>11622.91</td>\n",
       "      <td>17.66</td>\n",
       "    </tr>\n",
       "  </tbody>\n",
       "</table>\n",
       "</div>"
      ],
      "text/plain": [
       "               gold      oil       tsx    vix\n",
       "Date                                         \n",
       "2012-07-09  1618.87  86.8992  11634.67  21.19\n",
       "2012-07-10  1614.83  86.0352  11512.22  22.11\n",
       "2012-07-11  1606.04  87.8401  11544.64  21.43\n",
       "2012-07-12  1594.88  87.5299  11425.47  21.57\n",
       "2012-07-13  1614.53  88.3178  11514.53  20.25\n",
       "2012-07-16  1615.27  89.4078  11521.18  19.37\n",
       "2012-07-17  1608.56  90.1874  11571.19  19.28\n",
       "2012-07-18  1586.42  90.8065  11579.15  18.51\n",
       "2012-07-19  1592.20  93.0666  11665.70  17.93\n",
       "2012-07-20  1602.69  92.7527  11622.91  17.66"
      ]
     },
     "execution_count": 62,
     "metadata": {},
     "output_type": "execute_result"
    }
   ],
   "source": [
    "# Load the stocks data\n",
    "df = pd.read_csv(\n",
    "    Path(\"../Resources/stock_data_cad.csv\"),\n",
    "    index_col=\"Date\",\n",
    "    infer_datetime_format=True,\n",
    "    parse_dates=True,\n",
    ")\n",
    "df.head(10)"
   ]
  },
  {
   "cell_type": "markdown",
   "metadata": {},
   "source": [
    "### Creating the Features `X` and Target `y` Data\n",
    "\n",
    "The first step towards preparing the data is to create the input features vectors `X` and the target vector `y`. We will use the `window_data()` function to create these vectors.\n",
    "\n",
    "This function chunks the data up with a rolling window of _X<sub>t</sub> - window_ to predict _X<sub>t</sub>_.\n",
    "\n",
    "The function returns two `numpy` arrays:\n",
    "\n",
    "* `X`: The input features vectors.\n",
    "\n",
    "* `y`: The target vector.\n",
    "\n",
    "The function has the following parameters:\n",
    "\n",
    "* `df`: The original DataFrame with the time series data.\n",
    "\n",
    "* `window`: The window size in days of previous closing prices that will be used for the prediction.\n",
    "\n",
    "* `feature_col_number`: The column number from the original DataFrame where the features are located.\n",
    "\n",
    "* `target_col_number`: The column number from the original DataFrame where the target is located."
   ]
  },
  {
   "cell_type": "code",
   "execution_count": 63,
   "metadata": {},
   "outputs": [],
   "source": [
    "def window_data(df, window, feature_col_number, target_col_number):\n",
    "    \"\"\"\n",
    "    This function accepts the column number for the features (X) and the target (y).\n",
    "    It chunks the data up with a rolling window of Xt - window to predict Xt.\n",
    "    It returns two numpy arrays of X and y.\n",
    "    \"\"\"\n",
    "    X = []\n",
    "    y = []\n",
    "    for i in range(len(df) - window):\n",
    "        features = df.iloc[i : (i + window), feature_col_number]\n",
    "        target = df.iloc[(i + window), target_col_number]\n",
    "        X.append(features)\n",
    "        y.append(target)\n",
    "    return np.array(X), np.array(y).reshape(-1, 1)"
   ]
  },
  {
   "cell_type": "markdown",
   "metadata": {},
   "source": [
    "In the forthcoming activities, we will predict closing prices using a `5` days windows of previous _TSX_ closing prices, so that, we will create the `X` and `y` vectors by calling the `window_data` function and defining a window size of `5` and setting the features and target column numbers to `2` (this is the column with the _TSX_ closing prices)."
   ]
  },
  {
   "cell_type": "code",
   "execution_count": 64,
   "metadata": {},
   "outputs": [
    {
     "name": "stdout",
     "output_type": "stream",
     "text": [
      "X sample values:\n",
      "[[1618.87 1614.83 1606.04 1594.88 1614.53 1615.27 1608.56 1586.42 1592.2\n",
      "  1602.69 1606.99 1610.13 1632.65 1630.98 1622.77 1622.95 1615.35 1612.57\n",
      "  1598.75 1607.77 1604.89 1604.08 1602.99 1605.57 1597.46 1586.55 1586.25\n",
      "  1594.57 1599.03 1601.21]\n",
      " [1614.83 1606.04 1594.88 1614.53 1615.27 1608.56 1586.42 1592.2  1602.69\n",
      "  1606.99 1610.13 1632.65 1630.98 1622.77 1622.95 1615.35 1612.57 1598.75\n",
      "  1607.77 1604.89 1604.08 1602.99 1605.57 1597.46 1586.55 1586.25 1594.57\n",
      "  1599.03 1601.21 1621.9 ]\n",
      " [1606.04 1594.88 1614.53 1615.27 1608.56 1586.42 1592.2  1602.69 1606.99\n",
      "  1610.13 1632.65 1630.98 1622.77 1622.95 1615.35 1612.57 1598.75 1607.77\n",
      "  1604.89 1604.08 1602.99 1605.57 1597.46 1586.55 1586.25 1594.57 1599.03\n",
      "  1601.21 1621.9  1623.12]\n",
      " [1594.88 1614.53 1615.27 1608.56 1586.42 1592.2  1602.69 1606.99 1610.13\n",
      "  1632.65 1630.98 1622.77 1622.95 1615.35 1612.57 1598.75 1607.77 1604.89\n",
      "  1604.08 1602.99 1605.57 1597.46 1586.55 1586.25 1594.57 1599.03 1601.21\n",
      "  1621.9  1623.12 1659.15]\n",
      " [1614.53 1615.27 1608.56 1586.42 1592.2  1602.69 1606.99 1610.13 1632.65\n",
      "  1630.98 1622.77 1622.95 1615.35 1612.57 1598.75 1607.77 1604.89 1604.08\n",
      "  1602.99 1605.57 1597.46 1586.55 1586.25 1594.57 1599.03 1601.21 1621.9\n",
      "  1623.12 1659.15 1657.21]] \n",
      "\n",
      "y sample values:\n",
      "[[1621.9 ]\n",
      " [1623.12]\n",
      " [1659.15]\n",
      " [1657.21]\n",
      " [1656.83]]\n"
     ]
    }
   ],
   "source": [
    "# Creating the features (X) and target (y) data using the window_data() function.\n",
    "window_size = 30\n",
    "\n",
    "feature_column = 0\n",
    "target_column = 0\n",
    "X, y = window_data(df, window_size, feature_column, target_column)\n",
    "print (f\"X sample values:\\n{X[:5]} \\n\")\n",
    "print (f\"y sample values:\\n{y[:5]}\")"
   ]
  },
  {
   "cell_type": "markdown",
   "metadata": {},
   "source": [
    "### Splitting Data Between Training and Testing Sets\n",
    "\n",
    "To avoid the dataset being randomized, we will manually split the data using array slicing."
   ]
  },
  {
   "cell_type": "code",
   "execution_count": 65,
   "metadata": {},
   "outputs": [],
   "source": [
    "# Use 70% of the data for training and the remainder for testing\n",
    "split = int(0.7 * len(X))\n",
    "X_train = X[: split]\n",
    "X_test = X[split:]\n",
    "y_train = y[: split]\n",
    "y_test = y[split:]"
   ]
  },
  {
   "cell_type": "markdown",
   "metadata": {},
   "source": [
    "### Scaling Data with `MinMaxScaler`\n",
    "\n",
    "Once the training and test datasets are created, we need to scale the data before training the LSTM model. We will use the `MinMaxScaler` from `sklearn` to scale all values between `0` and `1`.\n",
    "\n",
    "Note that we scale both features and target sets."
   ]
  },
  {
   "cell_type": "code",
   "execution_count": 66,
   "metadata": {},
   "outputs": [],
   "source": [
    "# Use the MinMaxScaler to scale data between 0 and 1.\n",
    "from sklearn.preprocessing import MinMaxScaler\n",
    "x_train_scaler = MinMaxScaler()\n",
    "x_test_scaler = MinMaxScaler()\n",
    "y_train_scaler = MinMaxScaler()\n",
    "y_test_scaler = MinMaxScaler()\n",
    "\n",
    "# Fit the scaler for the Training Data\n",
    "x_train_scaler.fit(X_train)\n",
    "y_train_scaler.fit(y_train)\n",
    "\n",
    "# Scale the training data\n",
    "X_train = x_train_scaler.transform(X_train)\n",
    "y_train = y_train_scaler.transform(y_train)\n",
    "\n",
    "# Fit the scaler for the Testing Data\n",
    "x_test_scaler.fit(X_test)\n",
    "y_test_scaler.fit(y_test)\n",
    "\n",
    "# Scale the y_test data\n",
    "X_test = x_test_scaler.transform(X_test)\n",
    "y_test = y_test_scaler.transform(y_test)"
   ]
  },
  {
   "cell_type": "markdown",
   "metadata": {},
   "source": [
    "### Reshape Features Data for the LSTM Model\n",
    "\n",
    "The LSTM API from Keras needs to receive the features data as a _vertical vector_, so that we need to reshape the `X` data in the form `reshape((X_train.shape[0], X_train.shape[1], 1))`.\n",
    "\n",
    "Both sets, training, and testing are reshaped."
   ]
  },
  {
   "cell_type": "code",
   "execution_count": 67,
   "metadata": {},
   "outputs": [
    {
     "name": "stdout",
     "output_type": "stream",
     "text": [
      "X_train sample values:\n",
      "[[[0.58847474]\n",
      "  [0.58167934]\n",
      "  [0.5668943 ]\n",
      "  [0.54812286]\n",
      "  [0.58117473]\n",
      "  [0.58241943]\n",
      "  [0.57113301]\n",
      "  [0.53389289]\n",
      "  [0.54361502]\n",
      "  [0.5612595 ]\n",
      "  [0.56849223]\n",
      "  [0.5737738 ]\n",
      "  [0.6116531 ]\n",
      "  [0.60884411]\n",
      "  [0.59503465]\n",
      "  [0.59533742]\n",
      "  [0.58255399]\n",
      "  [0.57787795]\n",
      "  [0.55463231]\n",
      "  [0.56980421]\n",
      "  [0.56495997]\n",
      "  [0.56359752]\n",
      "  [0.56176411]\n",
      "  [0.56610375]\n",
      "  [0.55246249]\n",
      "  [0.53411155]\n",
      "  [0.53360694]\n",
      "  [0.54760143]\n",
      "  [0.55510328]\n",
      "  [0.5587701 ]]\n",
      "\n",
      " [[0.58167934]\n",
      "  [0.5668943 ]\n",
      "  [0.54812286]\n",
      "  [0.58117473]\n",
      "  [0.58241943]\n",
      "  [0.57113301]\n",
      "  [0.53389289]\n",
      "  [0.54361502]\n",
      "  [0.5612595 ]\n",
      "  [0.56849223]\n",
      "  [0.5737738 ]\n",
      "  [0.6116531 ]\n",
      "  [0.60884411]\n",
      "  [0.59503465]\n",
      "  [0.59533742]\n",
      "  [0.58255399]\n",
      "  [0.57787795]\n",
      "  [0.55463231]\n",
      "  [0.56980421]\n",
      "  [0.56495997]\n",
      "  [0.56359752]\n",
      "  [0.56176411]\n",
      "  [0.56610375]\n",
      "  [0.55246249]\n",
      "  [0.53411155]\n",
      "  [0.53360694]\n",
      "  [0.54760143]\n",
      "  [0.55510328]\n",
      "  [0.5587701 ]\n",
      "  [0.59357128]]\n",
      "\n",
      " [[0.5668943 ]\n",
      "  [0.54812286]\n",
      "  [0.58117473]\n",
      "  [0.58241943]\n",
      "  [0.57113301]\n",
      "  [0.53389289]\n",
      "  [0.54361502]\n",
      "  [0.5612595 ]\n",
      "  [0.56849223]\n",
      "  [0.5737738 ]\n",
      "  [0.6116531 ]\n",
      "  [0.60884411]\n",
      "  [0.59503465]\n",
      "  [0.59533742]\n",
      "  [0.58255399]\n",
      "  [0.57787795]\n",
      "  [0.55463231]\n",
      "  [0.56980421]\n",
      "  [0.56495997]\n",
      "  [0.56359752]\n",
      "  [0.56176411]\n",
      "  [0.56610375]\n",
      "  [0.55246249]\n",
      "  [0.53411155]\n",
      "  [0.53360694]\n",
      "  [0.54760143]\n",
      "  [0.55510328]\n",
      "  [0.5587701 ]\n",
      "  [0.59357128]\n",
      "  [0.59562336]]\n",
      "\n",
      " [[0.54812286]\n",
      "  [0.58117473]\n",
      "  [0.58241943]\n",
      "  [0.57113301]\n",
      "  [0.53389289]\n",
      "  [0.54361502]\n",
      "  [0.5612595 ]\n",
      "  [0.56849223]\n",
      "  [0.5737738 ]\n",
      "  [0.6116531 ]\n",
      "  [0.60884411]\n",
      "  [0.59503465]\n",
      "  [0.59533742]\n",
      "  [0.58255399]\n",
      "  [0.57787795]\n",
      "  [0.55463231]\n",
      "  [0.56980421]\n",
      "  [0.56495997]\n",
      "  [0.56359752]\n",
      "  [0.56176411]\n",
      "  [0.56610375]\n",
      "  [0.55246249]\n",
      "  [0.53411155]\n",
      "  [0.53360694]\n",
      "  [0.54760143]\n",
      "  [0.55510328]\n",
      "  [0.5587701 ]\n",
      "  [0.59357128]\n",
      "  [0.59562336]\n",
      "  [0.65622687]]\n",
      "\n",
      " [[0.58117473]\n",
      "  [0.58241943]\n",
      "  [0.57113301]\n",
      "  [0.53389289]\n",
      "  [0.54361502]\n",
      "  [0.5612595 ]\n",
      "  [0.56849223]\n",
      "  [0.5737738 ]\n",
      "  [0.6116531 ]\n",
      "  [0.60884411]\n",
      "  [0.59503465]\n",
      "  [0.59533742]\n",
      "  [0.58255399]\n",
      "  [0.57787795]\n",
      "  [0.55463231]\n",
      "  [0.56980421]\n",
      "  [0.56495997]\n",
      "  [0.56359752]\n",
      "  [0.56176411]\n",
      "  [0.56610375]\n",
      "  [0.55246249]\n",
      "  [0.53411155]\n",
      "  [0.53360694]\n",
      "  [0.54760143]\n",
      "  [0.55510328]\n",
      "  [0.5587701 ]\n",
      "  [0.59357128]\n",
      "  [0.59562336]\n",
      "  [0.65622687]\n",
      "  [0.65296374]]] \n",
      "\n",
      "X_test sample values:\n",
      "[[[0.17601489]\n",
      "  [0.19839459]\n",
      "  [0.14634879]\n",
      "  [0.15631756]\n",
      "  [0.19993594]\n",
      "  [0.17040996]\n",
      "  [0.17181119]\n",
      "  [0.16032108]\n",
      "  [0.1623829 ]\n",
      "  [0.15277444]\n",
      "  [0.14366643]\n",
      "  [0.14582833]\n",
      "  [0.16338378]\n",
      "  [0.1596605 ]\n",
      "  [0.20237809]\n",
      "  [0.17575466]\n",
      "  [0.19901513]\n",
      "  [0.21711106]\n",
      "  [0.22946193]\n",
      "  [0.18720474]\n",
      "  [0.16446473]\n",
      "  [0.18598367]\n",
      "  [0.19947554]\n",
      "  [0.20854352]\n",
      "  [0.20730243]\n",
      "  [0.2432941 ]\n",
      "  [0.23282489]\n",
      "  [0.22740011]\n",
      "  [0.24845864]\n",
      "  [0.24451517]]\n",
      "\n",
      " [[0.19839459]\n",
      "  [0.14634879]\n",
      "  [0.15631756]\n",
      "  [0.19993594]\n",
      "  [0.17040996]\n",
      "  [0.17181119]\n",
      "  [0.16032108]\n",
      "  [0.1623829 ]\n",
      "  [0.15277444]\n",
      "  [0.14366643]\n",
      "  [0.14582833]\n",
      "  [0.16338378]\n",
      "  [0.1596605 ]\n",
      "  [0.20237809]\n",
      "  [0.17575466]\n",
      "  [0.19901513]\n",
      "  [0.21711106]\n",
      "  [0.22946193]\n",
      "  [0.18720474]\n",
      "  [0.16446473]\n",
      "  [0.18598367]\n",
      "  [0.19947554]\n",
      "  [0.20854352]\n",
      "  [0.20730243]\n",
      "  [0.2432941 ]\n",
      "  [0.23282489]\n",
      "  [0.22740011]\n",
      "  [0.24845864]\n",
      "  [0.24451517]\n",
      "  [0.25786692]]\n",
      "\n",
      " [[0.14634879]\n",
      "  [0.15631756]\n",
      "  [0.19993594]\n",
      "  [0.17040996]\n",
      "  [0.17181119]\n",
      "  [0.16032108]\n",
      "  [0.1623829 ]\n",
      "  [0.15277444]\n",
      "  [0.14366643]\n",
      "  [0.14582833]\n",
      "  [0.16338378]\n",
      "  [0.1596605 ]\n",
      "  [0.20237809]\n",
      "  [0.17575466]\n",
      "  [0.19901513]\n",
      "  [0.21711106]\n",
      "  [0.22946193]\n",
      "  [0.18720474]\n",
      "  [0.16446473]\n",
      "  [0.18598367]\n",
      "  [0.19947554]\n",
      "  [0.20854352]\n",
      "  [0.20730243]\n",
      "  [0.2432941 ]\n",
      "  [0.23282489]\n",
      "  [0.22740011]\n",
      "  [0.24845864]\n",
      "  [0.24451517]\n",
      "  [0.25786692]\n",
      "  [0.24399472]]\n",
      "\n",
      " [[0.15631756]\n",
      "  [0.19993594]\n",
      "  [0.17040996]\n",
      "  [0.17181119]\n",
      "  [0.16032108]\n",
      "  [0.1623829 ]\n",
      "  [0.15277444]\n",
      "  [0.14366643]\n",
      "  [0.14582833]\n",
      "  [0.16338378]\n",
      "  [0.1596605 ]\n",
      "  [0.20237809]\n",
      "  [0.17575466]\n",
      "  [0.19901513]\n",
      "  [0.21711106]\n",
      "  [0.22946193]\n",
      "  [0.18720474]\n",
      "  [0.16446473]\n",
      "  [0.18598367]\n",
      "  [0.19947554]\n",
      "  [0.20854352]\n",
      "  [0.20730243]\n",
      "  [0.2432941 ]\n",
      "  [0.23282489]\n",
      "  [0.22740011]\n",
      "  [0.24845864]\n",
      "  [0.24451517]\n",
      "  [0.25786692]\n",
      "  [0.24399472]\n",
      "  [0.20998479]]\n",
      "\n",
      " [[0.19993594]\n",
      "  [0.17040996]\n",
      "  [0.17181119]\n",
      "  [0.16032108]\n",
      "  [0.1623829 ]\n",
      "  [0.15277444]\n",
      "  [0.14366643]\n",
      "  [0.14582833]\n",
      "  [0.16338378]\n",
      "  [0.1596605 ]\n",
      "  [0.20237809]\n",
      "  [0.17575466]\n",
      "  [0.19901513]\n",
      "  [0.21711106]\n",
      "  [0.22946193]\n",
      "  [0.18720474]\n",
      "  [0.16446473]\n",
      "  [0.18598367]\n",
      "  [0.19947554]\n",
      "  [0.20854352]\n",
      "  [0.20730243]\n",
      "  [0.2432941 ]\n",
      "  [0.23282489]\n",
      "  [0.22740011]\n",
      "  [0.24845864]\n",
      "  [0.24451517]\n",
      "  [0.25786692]\n",
      "  [0.24399472]\n",
      "  [0.20998479]\n",
      "  [0.22653935]]]\n"
     ]
    }
   ],
   "source": [
    "# Reshape the features for the model\n",
    "X_train = X_train.reshape((X_train.shape[0], X_train.shape[1], 1))\n",
    "X_test = X_test.reshape((X_test.shape[0], X_test.shape[1], 1))\n",
    "print (f\"X_train sample values:\\n{X_train[:5]} \\n\")\n",
    "print (f\"X_test sample values:\\n{X_test[:5]}\")"
   ]
  },
  {
   "cell_type": "markdown",
   "metadata": {},
   "source": [
    "---\n",
    "\n",
    "## Build and Train the LSTM RNN\n",
    "\n",
    "In this section, we will design a custom LSTM RNN in Keras and fit (train) it using the training data we defined.\n",
    "\n",
    "We will need to:\n",
    "\n",
    "1. Define the model architecture in Keras.\n",
    "\n",
    "2. Compile the model.\n",
    "\n",
    "3. Fit the model to the training data."
   ]
  },
  {
   "cell_type": "markdown",
   "metadata": {},
   "source": [
    "### Importing the Keras Modules\n",
    "\n",
    "The LSTM RNN model in Keras uses the `Sequential` model and the `LSTM` layer as we did before. However, there is a new type of layer called `Dropout`.\n",
    "\n",
    "* `Dropout`: Dropout is a regularization technique for reducing overfitting in neural networks. This type of layer applies the dropout technique to the input."
   ]
  },
  {
   "cell_type": "code",
   "execution_count": 68,
   "metadata": {},
   "outputs": [
    {
     "data": {
      "text/plain": [
       "(1302, 30, 1)"
      ]
     },
     "execution_count": 68,
     "metadata": {},
     "output_type": "execute_result"
    }
   ],
   "source": [
    "# Import required Keras modules\n",
    "from tensorflow.keras.models import Sequential\n",
    "from tensorflow.keras.layers import LSTM, Dense, Dropout\n",
    "\n",
    "X_train.shape"
   ]
  },
  {
   "cell_type": "markdown",
   "metadata": {},
   "source": [
    "### Defining the LSTM RNN Model Structure\n",
    "\n",
    "To create an LSTM RNN model, we will add `LSTM` layers. The `return_sequences` parameter needs to set to `True` every time we add a new `LSTM` layer, excluding the final layer. The `input_shape` is the number of time steps and the number of indicators\n",
    "\n",
    "After each `LSTM` layer, we add a `Dropout` layer to prevent overfitting. The parameter passed to the `Dropout` layer is the fraction of nodes that will be drop on each epoch, for this demo, we will use a dropout value of `0.2`, it means that on each epoch we will randomly drop `20%` of the units.\n",
    "\n",
    "The number of units in each `LSTM` layers, is equal to the size of the time window, in this demo, we are taking five previous `T-Bons` closing price to predict the next closing price."
   ]
  },
  {
   "cell_type": "code",
   "execution_count": 69,
   "metadata": {},
   "outputs": [],
   "source": [
    "# Define the LSTM RNN model.\n",
    "model = Sequential()\n",
    "\n",
    "number_units = 5\n",
    "dropout_fraction = 0.2\n",
    "\n",
    "# Layer 1\n",
    "model.add(LSTM(\n",
    "    units=number_units,\n",
    "    return_sequences=True,\n",
    "    input_shape=(X_train.shape[1], 1))\n",
    "    )\n",
    "model.add(Dropout(dropout_fraction))\n",
    "# Layer 2\n",
    "# The return_sequences parameter needs to set to True every time we add a new LSTM layer, excluding the final layer.\n",
    "model.add(LSTM(units=number_units, return_sequences=True))\n",
    "model.add(Dropout(dropout_fraction))\n",
    "# Layer 3\n",
    "model.add(LSTM(units=number_units))\n",
    "model.add(Dropout(dropout_fraction))\n",
    "# Output layer\n",
    "model.add(Dense(1))"
   ]
  },
  {
   "cell_type": "markdown",
   "metadata": {},
   "source": [
    "### Compiling the LSTM RNN Model\n",
    "\n",
    "We will compile the model, using the `adam` optimizer, as loss function, we will use `mean_square_error` since the value we want to predict is continuous."
   ]
  },
  {
   "cell_type": "code",
   "execution_count": 70,
   "metadata": {},
   "outputs": [],
   "source": [
    "# Compile the model\n",
    "model.compile(optimizer=\"adam\", loss=\"mean_squared_error\")"
   ]
  },
  {
   "cell_type": "code",
   "execution_count": 71,
   "metadata": {},
   "outputs": [
    {
     "name": "stdout",
     "output_type": "stream",
     "text": [
      "Model: \"sequential_3\"\n",
      "_________________________________________________________________\n",
      "Layer (type)                 Output Shape              Param #   \n",
      "=================================================================\n",
      "lstm_9 (LSTM)                (None, 30, 5)             140       \n",
      "_________________________________________________________________\n",
      "dropout_9 (Dropout)          (None, 30, 5)             0         \n",
      "_________________________________________________________________\n",
      "lstm_10 (LSTM)               (None, 30, 5)             220       \n",
      "_________________________________________________________________\n",
      "dropout_10 (Dropout)         (None, 30, 5)             0         \n",
      "_________________________________________________________________\n",
      "lstm_11 (LSTM)               (None, 5)                 220       \n",
      "_________________________________________________________________\n",
      "dropout_11 (Dropout)         (None, 5)                 0         \n",
      "_________________________________________________________________\n",
      "dense_3 (Dense)              (None, 1)                 6         \n",
      "=================================================================\n",
      "Total params: 586\n",
      "Trainable params: 586\n",
      "Non-trainable params: 0\n",
      "_________________________________________________________________\n"
     ]
    }
   ],
   "source": [
    "# Summarize the model\n",
    "model.summary()"
   ]
  },
  {
   "cell_type": "markdown",
   "metadata": {},
   "source": [
    "### Training the Model\n",
    "\n",
    "Once the model is defined, we train (fit) the model using `10` epochs. Since we are working with time-series data, it's important to set `shuffle=False` since it's necessary to keep the sequential order of the data.\n",
    "\n",
    "We can experiment with the `batch_size` parameter; however, smaller batch size is recommended; in this demo, we will use a `batch_size=1`."
   ]
  },
  {
   "cell_type": "code",
   "execution_count": 72,
   "metadata": {},
   "outputs": [
    {
     "name": "stdout",
     "output_type": "stream",
     "text": [
      "Epoch 1/10\n",
      "1302/1302 [==============================] - 25s 20ms/step - loss: 0.0342\n",
      "Epoch 2/10\n",
      "1302/1302 [==============================] - 26s 20ms/step - loss: 0.0159\n",
      "Epoch 3/10\n",
      "1302/1302 [==============================] - 26s 20ms/step - loss: 0.0144\n",
      "Epoch 4/10\n",
      "1302/1302 [==============================] - 27s 21ms/step - loss: 0.0128\n",
      "Epoch 5/10\n",
      "1302/1302 [==============================] - 26s 20ms/step - loss: 0.0129\n",
      "Epoch 6/10\n",
      "1302/1302 [==============================] - 26s 20ms/step - loss: 0.0122\n",
      "Epoch 7/10\n",
      "1302/1302 [==============================] - 27s 21ms/step - loss: 0.0127\n",
      "Epoch 8/10\n",
      "1302/1302 [==============================] - 27s 21ms/step - loss: 0.0124\n",
      "Epoch 9/10\n",
      "1302/1302 [==============================] - 27s 21ms/step - loss: 0.0111\n",
      "Epoch 10/10\n",
      "1302/1302 [==============================] - 27s 21ms/step - loss: 0.0109\n"
     ]
    },
    {
     "data": {
      "text/plain": [
       "<tensorflow.python.keras.callbacks.History at 0x25265624c40>"
      ]
     },
     "execution_count": 72,
     "metadata": {},
     "output_type": "execute_result"
    }
   ],
   "source": [
    "# Train the model\n",
    "model.fit(X_train, y_train, epochs=10, shuffle=False, batch_size=1, verbose=1)"
   ]
  },
  {
   "cell_type": "markdown",
   "metadata": {},
   "source": [
    "---\n",
    "## Model Performance\n",
    "\n",
    "In this section, we will evaluate the model using the test data. \n",
    "\n",
    "We will need to:\n",
    "\n",
    "1. Evaluate the model using the `X_test` and `y_test` data.\n",
    "\n",
    "2. Use the `X_test` data to make predictions.\n",
    "\n",
    "3. Create a DataFrame of real (`y_test`) vs predicted values.\n",
    "\n",
    "4. Plot the Real vs predicted values as a line chart."
   ]
  },
  {
   "cell_type": "markdown",
   "metadata": {},
   "source": [
    "### Evaluate the Model\n",
    "\n",
    "It's time to evaluate our model to assess its performance. We will use the `evaluate` method using the testing data."
   ]
  },
  {
   "cell_type": "code",
   "execution_count": 73,
   "metadata": {},
   "outputs": [
    {
     "name": "stdout",
     "output_type": "stream",
     "text": [
      "18/18 [==============================] - 0s 9ms/step - loss: 0.0648\n"
     ]
    },
    {
     "data": {
      "text/plain": [
       "0.06481625884771347"
      ]
     },
     "execution_count": 73,
     "metadata": {},
     "output_type": "execute_result"
    }
   ],
   "source": [
    "# Evaluate the model\n",
    "model.evaluate(X_test, y_test)"
   ]
  },
  {
   "cell_type": "markdown",
   "metadata": {},
   "source": [
    "### Making Predictions\n",
    "\n",
    "We will make some closing price predictions using our brand new LSTM RNN model and our testing data."
   ]
  },
  {
   "cell_type": "code",
   "execution_count": 74,
   "metadata": {},
   "outputs": [],
   "source": [
    "# Make some predictions\n",
    "predicted = model.predict(X_test)"
   ]
  },
  {
   "cell_type": "markdown",
   "metadata": {},
   "source": [
    "Since we scaled the original values using the `MinMaxScaler`, we need to recover the original prices to better understand the predictions.\n",
    "\n",
    "We will use the `inverse_transform()` method of the scaler to decode the scaled values to their original scale."
   ]
  },
  {
   "cell_type": "code",
   "execution_count": 75,
   "metadata": {},
   "outputs": [],
   "source": [
    "# Recover the original prices instead of the scaled version\n",
    "predicted_prices = y_test_scaler.inverse_transform(predicted)\n",
    "real_prices = y_test_scaler.inverse_transform(y_test.reshape(-1, 1))"
   ]
  },
  {
   "cell_type": "markdown",
   "metadata": {},
   "source": [
    "### Plotting Predicted Vs. Real Prices\n",
    "\n",
    "To plot the predicted vs. the real values, we will create a DataFrame."
   ]
  },
  {
   "cell_type": "code",
   "execution_count": 76,
   "metadata": {},
   "outputs": [
    {
     "data": {
      "text/html": [
       "<div>\n",
       "<style scoped>\n",
       "    .dataframe tbody tr th:only-of-type {\n",
       "        vertical-align: middle;\n",
       "    }\n",
       "\n",
       "    .dataframe tbody tr th {\n",
       "        vertical-align: top;\n",
       "    }\n",
       "\n",
       "    .dataframe thead th {\n",
       "        text-align: right;\n",
       "    }\n",
       "</style>\n",
       "<table border=\"1\" class=\"dataframe\">\n",
       "  <thead>\n",
       "    <tr style=\"text-align: right;\">\n",
       "      <th></th>\n",
       "      <th>Actual</th>\n",
       "      <th>Predicted</th>\n",
       "    </tr>\n",
       "    <tr>\n",
       "      <th>Date</th>\n",
       "      <th></th>\n",
       "      <th></th>\n",
       "    </tr>\n",
       "  </thead>\n",
       "  <tbody>\n",
       "    <tr>\n",
       "      <th>2017-11-01</th>\n",
       "      <td>1725.13</td>\n",
       "      <td>1867.533081</td>\n",
       "    </tr>\n",
       "    <tr>\n",
       "      <th>2017-11-02</th>\n",
       "      <td>1718.20</td>\n",
       "      <td>1868.535278</td>\n",
       "    </tr>\n",
       "    <tr>\n",
       "      <th>2017-11-03</th>\n",
       "      <td>1701.21</td>\n",
       "      <td>1869.412842</td>\n",
       "    </tr>\n",
       "    <tr>\n",
       "      <th>2017-11-06</th>\n",
       "      <td>1709.48</td>\n",
       "      <td>1869.796143</td>\n",
       "    </tr>\n",
       "    <tr>\n",
       "      <th>2017-11-07</th>\n",
       "      <td>1711.46</td>\n",
       "      <td>1869.864014</td>\n",
       "    </tr>\n",
       "  </tbody>\n",
       "</table>\n",
       "</div>"
      ],
      "text/plain": [
       "             Actual    Predicted\n",
       "Date                            \n",
       "2017-11-01  1725.13  1867.533081\n",
       "2017-11-02  1718.20  1868.535278\n",
       "2017-11-03  1701.21  1869.412842\n",
       "2017-11-06  1709.48  1869.796143\n",
       "2017-11-07  1711.46  1869.864014"
      ]
     },
     "execution_count": 76,
     "metadata": {},
     "output_type": "execute_result"
    }
   ],
   "source": [
    "# Create a DataFrame of Real and Predicted values\n",
    "stocks = pd.DataFrame({\n",
    "    \"Actual\": real_prices.ravel(),\n",
    "    \"Predicted\": predicted_prices.ravel()\n",
    "}, index = df.index[-len(real_prices): ]) \n",
    "\n",
    "# Show the DataFrame's head\n",
    "stocks.head()"
   ]
  },
  {
   "cell_type": "code",
   "execution_count": 77,
   "metadata": {},
   "outputs": [
    {
     "data": {
      "text/plain": [
       "<matplotlib.axes._subplots.AxesSubplot at 0x2526d90a280>"
      ]
     },
     "execution_count": 77,
     "metadata": {},
     "output_type": "execute_result"
    },
    {
     "data": {
      "image/png": "[encoded data removed]",
      "text/plain": [
       "<Figure size 432x288 with 1 Axes>"
      ]
     },
     "metadata": {
      "needs_background": "light"
     },
     "output_type": "display_data"
    }
   ],
   "source": [
    "# Plot the real vs predicted prices as a line chart\n",
    "stocks.plot()"
   ]
  },
  {
   "cell_type": "code",
   "execution_count": null,
   "metadata": {},
   "outputs": [],
   "source": []
  },
  {
   "cell_type": "code",
   "execution_count": null,
   "metadata": {},
   "outputs": [],
   "source": []
  }
 ],
 "metadata": {
  "file_extension": ".py",
  "kernelspec": {
   "display_name": "Python 3.8.3 64-bit ('dev': conda)",
   "language": "python",
   "name": "python38364bitdevcondaa6adb68a2faa493e9e199abda160d006"
  },
  "language_info": {
   "codemirror_mode": {
    "name": "ipython",
    "version": 3
   },
   "file_extension": ".py",
   "mimetype": "text/x-python",
   "name": "python",
   "nbconvert_exporter": "python",
   "pygments_lexer": "ipython3",
   "version": "3.8.3"
  },
  "mimetype": "text/x-python",
  "name": "python",
  "npconvert_exporter": "python",
  "pygments_lexer": "ipython3",
  "version": 3
 },
 "nbformat": 4,
 "nbformat_minor": 4
}
