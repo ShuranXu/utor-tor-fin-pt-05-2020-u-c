{
 "cells": [
  {
   "cell_type": "markdown",
   "metadata": {},
   "source": [
    "# Activating Your First Artificial Neuron"
   ]
  },
  {
   "cell_type": "code",
   "execution_count": 12,
   "metadata": {},
   "outputs": [],
   "source": [
    "# Initial imports\n",
    "import pandas as pd\n",
    "import numpy as np\n",
    "from sklearn.datasets import make_blobs, make_moons\n",
    "from sklearn.model_selection import train_test_split\n",
    "from sklearn.preprocessing import StandardScaler\n",
    "from tensorflow.keras.models import Sequential\n",
    "from tensorflow.keras.layers import Dense\n",
    "\n",
    "%matplotlib inline"
   ]
  },
  {
   "cell_type": "markdown",
   "metadata": {},
   "source": [
    "## Using a Single Neuron for Binary Classification\n",
    "\n",
    "### Creating Dummy Data"
   ]
  },
  {
   "cell_type": "code",
   "execution_count": 13,
   "metadata": {},
   "outputs": [],
   "source": [
    "# Generate 1000 demo data samples with 2 features and two centers\n",
    "X, y = make_blobs(n_samples=1000, centers=2, n_features=2, random_state=78)"
   ]
  },
  {
   "cell_type": "code",
   "execution_count": 14,
   "metadata": {},
   "outputs": [
    {
     "data": {
      "text/plain": [
       "(1000, 1)"
      ]
     },
     "execution_count": 14,
     "metadata": {},
     "output_type": "execute_result"
    }
   ],
   "source": [
    "# Transforming y to a vertical vector\n",
    "y = y.reshape(-1, 1)\n",
    "y.shape"
   ]
  },
  {
   "cell_type": "code",
   "execution_count": 15,
   "metadata": {},
   "outputs": [
    {
     "data": {
      "text/html": [
       "<div>\n",
       "<style scoped>\n",
       "    .dataframe tbody tr th:only-of-type {\n",
       "        vertical-align: middle;\n",
       "    }\n",
       "\n",
       "    .dataframe tbody tr th {\n",
       "        vertical-align: top;\n",
       "    }\n",
       "\n",
       "    .dataframe thead th {\n",
       "        text-align: right;\n",
       "    }\n",
       "</style>\n",
       "<table border=\"1\" class=\"dataframe\">\n",
       "  <thead>\n",
       "    <tr style=\"text-align: right;\">\n",
       "      <th></th>\n",
       "      <th>Feature 1</th>\n",
       "      <th>Feature 2</th>\n",
       "      <th>Target</th>\n",
       "    </tr>\n",
       "  </thead>\n",
       "  <tbody>\n",
       "    <tr>\n",
       "      <th>0</th>\n",
       "      <td>5.478098</td>\n",
       "      <td>7.203714</td>\n",
       "      <td>1</td>\n",
       "    </tr>\n",
       "    <tr>\n",
       "      <th>1</th>\n",
       "      <td>-8.428483</td>\n",
       "      <td>4.121889</td>\n",
       "      <td>0</td>\n",
       "    </tr>\n",
       "    <tr>\n",
       "      <th>2</th>\n",
       "      <td>-7.905447</td>\n",
       "      <td>3.323639</td>\n",
       "      <td>0</td>\n",
       "    </tr>\n",
       "    <tr>\n",
       "      <th>3</th>\n",
       "      <td>6.411041</td>\n",
       "      <td>5.523013</td>\n",
       "      <td>1</td>\n",
       "    </tr>\n",
       "    <tr>\n",
       "      <th>4</th>\n",
       "      <td>7.288599</td>\n",
       "      <td>6.171226</td>\n",
       "      <td>1</td>\n",
       "    </tr>\n",
       "  </tbody>\n",
       "</table>\n",
       "</div>"
      ],
      "text/plain": [
       "   Feature 1  Feature 2  Target\n",
       "0   5.478098   7.203714       1\n",
       "1  -8.428483   4.121889       0\n",
       "2  -7.905447   3.323639       0\n",
       "3   6.411041   5.523013       1\n",
       "4   7.288599   6.171226       1"
      ]
     },
     "execution_count": 15,
     "metadata": {},
     "output_type": "execute_result"
    }
   ],
   "source": [
    "# Creating a DataFrame with the dummy data\n",
    "df = pd.DataFrame(X, columns=[\"Feature 1\", \"Feature 2\"])\n",
    "df[\"Target\"] = y\n",
    "df.head()"
   ]
  },
  {
   "cell_type": "code",
   "execution_count": 16,
   "metadata": {},
   "outputs": [
    {
     "data": {
      "text/plain": [
       "<matplotlib.axes._subplots.AxesSubplot at 0x26e48e48820>"
      ]
     },
     "execution_count": 16,
     "metadata": {},
     "output_type": "execute_result"
    },
    {
     "data": {
      "image/png": "[encoded data removed]",
      "text/plain": [
       "<Figure size 432x288 with 2 Axes>"
      ]
     },
     "metadata": {
      "needs_background": "light"
     },
     "output_type": "display_data"
    }
   ],
   "source": [
    "# Plotting the dummy data\n",
    "df.plot.scatter(x=\"Feature 1\", y=\"Feature 2\", c=\"Target\", colormap=\"winter\")"
   ]
  },
  {
   "cell_type": "markdown",
   "metadata": {},
   "source": [
    " ### Data Preprocessing\n",
    "\n",
    " Use `train_test_split` to create training and testing data."
   ]
  },
  {
   "cell_type": "code",
   "execution_count": 17,
   "metadata": {},
   "outputs": [],
   "source": [
    "# Create training and testing datasets\n",
    "X_train, X_test, y_train, y_test = train_test_split(X, y, random_state=78)"
   ]
  },
  {
   "cell_type": "markdown",
   "metadata": {},
   "source": [
    " Scale the data using the `StandarScaler`."
   ]
  },
  {
   "cell_type": "code",
   "execution_count": 18,
   "metadata": {},
   "outputs": [],
   "source": [
    "# Create scaler instance\n",
    "X_scaler = StandardScaler()"
   ]
  },
  {
   "cell_type": "code",
   "execution_count": 19,
   "metadata": {},
   "outputs": [
    {
     "data": {
      "text/plain": [
       "StandardScaler()"
      ]
     },
     "execution_count": 19,
     "metadata": {},
     "output_type": "execute_result"
    }
   ],
   "source": [
    "# Fit the scaler\n",
    "X_scaler.fit(X_train)"
   ]
  },
  {
   "cell_type": "code",
   "execution_count": 20,
   "metadata": {},
   "outputs": [],
   "source": [
    "# Scale the data\n",
    "X_train_scaled = X_scaler.transform(X_train)\n",
    "X_test_scaled = X_scaler.transform(X_test)"
   ]
  },
  {
   "cell_type": "markdown",
   "metadata": {},
   "source": [
    " ### Neural Network Model Creation"
   ]
  },
  {
   "cell_type": "code",
   "execution_count": 21,
   "metadata": {},
   "outputs": [],
   "source": [
    "# Create a sequential model\n",
    "neuron = Sequential()"
   ]
  },
  {
   "cell_type": "markdown",
   "metadata": {},
   "source": [
    "The initial step is to add the first layer of our neural network.\n",
    "\n",
    "![First Layer](../Images/tensorflow-neuron-layer-1.png)"
   ]
  },
  {
   "cell_type": "code",
   "execution_count": 22,
   "metadata": {},
   "outputs": [],
   "source": [
    "# First layer\n",
    "number_inputs = 2\n",
    "number_hidden_nodes = 1\n",
    "\n",
    "neuron.add(Dense(units=number_hidden_nodes, activation=\"relu\", input_dim=number_inputs))"
   ]
  },
  {
   "cell_type": "markdown",
   "metadata": {},
   "source": [
    "We finish creating our neural network by adding the output layer.\n",
    "\n",
    "![Output layer](../Images/tensorflow-neuron-output-layer.png)"
   ]
  },
  {
   "cell_type": "code",
   "execution_count": 23,
   "metadata": {},
   "outputs": [],
   "source": [
    "# Output layer\n",
    "number_classes = 1\n",
    "\n",
    "neuron.add(Dense(units=number_classes, activation=\"sigmoid\"))"
   ]
  },
  {
   "cell_type": "code",
   "execution_count": 24,
   "metadata": {},
   "outputs": [
    {
     "name": "stdout",
     "output_type": "stream",
     "text": [
      "Model: \"sequential\"\n",
      "_________________________________________________________________\n",
      "Layer (type)                 Output Shape              Param #   \n",
      "=================================================================\n",
      "dense (Dense)                (None, 1)                 3         \n",
      "_________________________________________________________________\n",
      "dense_1 (Dense)              (None, 1)                 2         \n",
      "=================================================================\n",
      "Total params: 5\n",
      "Trainable params: 5\n",
      "Non-trainable params: 0\n",
      "_________________________________________________________________\n"
     ]
    }
   ],
   "source": [
    "# Model summary\n",
    "neuron.summary()"
   ]
  },
  {
   "cell_type": "markdown",
   "metadata": {},
   "source": [
    " ### Compile the Model"
   ]
  },
  {
   "cell_type": "code",
   "execution_count": 25,
   "metadata": {},
   "outputs": [],
   "source": [
    "# Compile model\n",
    "neuron.compile(loss=\"binary_crossentropy\", optimizer=\"adam\", metrics=[\"accuracy\"])"
   ]
  },
  {
   "cell_type": "markdown",
   "metadata": {},
   "source": [
    " ### Fit the Model"
   ]
  },
  {
   "cell_type": "code",
   "execution_count": 26,
   "metadata": {},
   "outputs": [
    {
     "name": "stdout",
     "output_type": "stream",
     "text": [
      "Epoch 1/100\n",
      "24/24 [==============================] - 0s 1ms/step - loss: 0.3833 - accuracy: 0.9947\n",
      "Epoch 2/100\n",
      "24/24 [==============================] - 0s 1ms/step - loss: 0.3754 - accuracy: 0.9947\n",
      "Epoch 3/100\n",
      "24/24 [==============================] - 0s 1ms/step - loss: 0.3676 - accuracy: 0.9947\n",
      "Epoch 4/100\n",
      "24/24 [==============================] - 0s 2ms/step - loss: 0.3602 - accuracy: 0.9947\n",
      "Epoch 5/100\n",
      "24/24 [==============================] - 0s 2ms/step - loss: 0.3529 - accuracy: 0.9947\n",
      "Epoch 6/100\n",
      "24/24 [==============================] - 0s 2ms/step - loss: 0.3460 - accuracy: 0.9947\n",
      "Epoch 7/100\n",
      "24/24 [==============================] - 0s 1ms/step - loss: 0.3391 - accuracy: 0.9947\n",
      "Epoch 8/100\n",
      "24/24 [==============================] - 0s 2ms/step - loss: 0.3325 - accuracy: 0.9947\n",
      "Epoch 9/100\n",
      "24/24 [==============================] - 0s 2ms/step - loss: 0.3260 - accuracy: 0.9947\n",
      "Epoch 10/100\n",
      "24/24 [==============================] - 0s 3ms/step - loss: 0.3196 - accuracy: 0.9947\n",
      "Epoch 11/100\n",
      "24/24 [==============================] - 0s 2ms/step - loss: 0.3132 - accuracy: 0.9947\n",
      "Epoch 12/100\n",
      "24/24 [==============================] - 0s 2ms/step - loss: 0.3071 - accuracy: 0.9987\n",
      "Epoch 13/100\n",
      "24/24 [==============================] - 0s 2ms/step - loss: 0.3011 - accuracy: 0.9987\n",
      "Epoch 14/100\n",
      "24/24 [==============================] - 0s 2ms/step - loss: 0.2952 - accuracy: 1.0000\n",
      "Epoch 15/100\n",
      "24/24 [==============================] - 0s 2ms/step - loss: 0.2894 - accuracy: 1.0000\n",
      "Epoch 16/100\n",
      "24/24 [==============================] - 0s 2ms/step - loss: 0.2839 - accuracy: 1.0000\n",
      "Epoch 17/100\n",
      "24/24 [==============================] - 0s 2ms/step - loss: 0.2785 - accuracy: 1.0000\n",
      "Epoch 18/100\n",
      "24/24 [==============================] - 0s 3ms/step - loss: 0.2733 - accuracy: 1.0000\n",
      "Epoch 19/100\n",
      "24/24 [==============================] - 0s 3ms/step - loss: 0.2682 - accuracy: 1.0000\n",
      "Epoch 20/100\n",
      "24/24 [==============================] - 0s 1ms/step - loss: 0.2631 - accuracy: 1.0000\n",
      "Epoch 21/100\n",
      "24/24 [==============================] - 0s 1ms/step - loss: 0.2583 - accuracy: 1.0000\n",
      "Epoch 22/100\n",
      "24/24 [==============================] - 0s 1ms/step - loss: 0.2535 - accuracy: 1.0000\n",
      "Epoch 23/100\n",
      "24/24 [==============================] - 0s 2ms/step - loss: 0.2489 - accuracy: 1.0000\n",
      "Epoch 24/100\n",
      "24/24 [==============================] - 0s 2ms/step - loss: 0.2444 - accuracy: 1.0000\n",
      "Epoch 25/100\n",
      "24/24 [==============================] - 0s 3ms/step - loss: 0.2401 - accuracy: 1.0000\n",
      "Epoch 26/100\n",
      "24/24 [==============================] - 0s 2ms/step - loss: 0.2358 - accuracy: 1.0000\n",
      "Epoch 27/100\n",
      "24/24 [==============================] - 0s 2ms/step - loss: 0.2315 - accuracy: 1.0000\n",
      "Epoch 28/100\n",
      "24/24 [==============================] - 0s 2ms/step - loss: 0.2274 - accuracy: 1.0000\n",
      "Epoch 29/100\n",
      "24/24 [==============================] - 0s 3ms/step - loss: 0.2234 - accuracy: 1.0000\n",
      "Epoch 30/100\n",
      "24/24 [==============================] - 0s 2ms/step - loss: 0.2195 - accuracy: 1.0000\n",
      "Epoch 31/100\n",
      "24/24 [==============================] - 0s 2ms/step - loss: 0.2157 - accuracy: 1.0000\n",
      "Epoch 32/100\n",
      "24/24 [==============================] - 0s 2ms/step - loss: 0.2119 - accuracy: 1.0000\n",
      "Epoch 33/100\n",
      "24/24 [==============================] - 0s 2ms/step - loss: 0.2083 - accuracy: 1.0000\n",
      "Epoch 34/100\n",
      "24/24 [==============================] - 0s 2ms/step - loss: 0.2047 - accuracy: 1.0000\n",
      "Epoch 35/100\n",
      "24/24 [==============================] - 0s 3ms/step - loss: 0.2013 - accuracy: 1.0000\n",
      "Epoch 36/100\n",
      "24/24 [==============================] - 0s 2ms/step - loss: 0.1979 - accuracy: 1.0000\n",
      "Epoch 37/100\n",
      "24/24 [==============================] - 0s 2ms/step - loss: 0.1945 - accuracy: 1.0000\n",
      "Epoch 38/100\n",
      "24/24 [==============================] - 0s 2ms/step - loss: 0.1913 - accuracy: 1.0000\n",
      "Epoch 39/100\n",
      "24/24 [==============================] - 0s 2ms/step - loss: 0.1881 - accuracy: 1.0000\n",
      "Epoch 40/100\n",
      "24/24 [==============================] - 0s 2ms/step - loss: 0.1850 - accuracy: 1.0000\n",
      "Epoch 41/100\n",
      "24/24 [==============================] - 0s 2ms/step - loss: 0.1819 - accuracy: 1.0000\n",
      "Epoch 42/100\n",
      "24/24 [==============================] - 0s 2ms/step - loss: 0.1789 - accuracy: 1.0000\n",
      "Epoch 43/100\n",
      "24/24 [==============================] - 0s 3ms/step - loss: 0.1760 - accuracy: 1.0000\n",
      "Epoch 44/100\n",
      "24/24 [==============================] - 0s 2ms/step - loss: 0.1731 - accuracy: 1.0000\n",
      "Epoch 45/100\n",
      "24/24 [==============================] - 0s 1ms/step - loss: 0.1703 - accuracy: 1.0000\n",
      "Epoch 46/100\n",
      "24/24 [==============================] - 0s 2ms/step - loss: 0.1676 - accuracy: 1.0000\n",
      "Epoch 47/100\n",
      "24/24 [==============================] - 0s 3ms/step - loss: 0.1649 - accuracy: 1.0000\n",
      "Epoch 48/100\n",
      "24/24 [==============================] - 0s 2ms/step - loss: 0.1622 - accuracy: 1.0000\n",
      "Epoch 49/100\n",
      "24/24 [==============================] - 0s 2ms/step - loss: 0.1597 - accuracy: 1.0000\n",
      "Epoch 50/100\n",
      "24/24 [==============================] - 0s 3ms/step - loss: 0.1571 - accuracy: 1.0000\n",
      "Epoch 51/100\n",
      "24/24 [==============================] - 0s 2ms/step - loss: 0.1547 - accuracy: 1.0000\n",
      "Epoch 52/100\n",
      "24/24 [==============================] - 0s 2ms/step - loss: 0.1522 - accuracy: 1.0000\n",
      "Epoch 53/100\n",
      "24/24 [==============================] - 0s 2ms/step - loss: 0.1499 - accuracy: 1.0000\n",
      "Epoch 54/100\n",
      "24/24 [==============================] - 0s 2ms/step - loss: 0.1475 - accuracy: 1.0000\n",
      "Epoch 55/100\n",
      "24/24 [==============================] - 0s 3ms/step - loss: 0.1452 - accuracy: 1.0000\n",
      "Epoch 56/100\n",
      "24/24 [==============================] - 0s 1ms/step - loss: 0.1430 - accuracy: 1.0000\n",
      "Epoch 57/100\n",
      "24/24 [==============================] - 0s 2ms/step - loss: 0.1407 - accuracy: 1.0000\n",
      "Epoch 58/100\n",
      "24/24 [==============================] - 0s 2ms/step - loss: 0.1386 - accuracy: 1.0000\n",
      "Epoch 59/100\n",
      "24/24 [==============================] - 0s 1ms/step - loss: 0.1365 - accuracy: 1.0000\n",
      "Epoch 60/100\n",
      "24/24 [==============================] - 0s 2ms/step - loss: 0.1344 - accuracy: 1.0000\n",
      "Epoch 61/100\n",
      "24/24 [==============================] - 0s 1ms/step - loss: 0.1323 - accuracy: 1.0000\n",
      "Epoch 62/100\n",
      "24/24 [==============================] - 0s 2ms/step - loss: 0.1304 - accuracy: 1.0000\n",
      "Epoch 63/100\n",
      "24/24 [==============================] - 0s 2ms/step - loss: 0.1284 - accuracy: 1.0000\n",
      "Epoch 64/100\n",
      "24/24 [==============================] - 0s 2ms/step - loss: 0.1265 - accuracy: 1.0000\n",
      "Epoch 65/100\n",
      "24/24 [==============================] - 0s 2ms/step - loss: 0.1246 - accuracy: 1.0000\n",
      "Epoch 66/100\n",
      "24/24 [==============================] - 0s 2ms/step - loss: 0.1227 - accuracy: 1.0000\n",
      "Epoch 67/100\n",
      "24/24 [==============================] - 0s 1ms/step - loss: 0.1209 - accuracy: 1.0000\n",
      "Epoch 68/100\n",
      "24/24 [==============================] - 0s 2ms/step - loss: 0.1191 - accuracy: 1.0000\n",
      "Epoch 69/100\n",
      "24/24 [==============================] - 0s 1ms/step - loss: 0.1173 - accuracy: 1.0000\n",
      "Epoch 70/100\n",
      "24/24 [==============================] - 0s 2ms/step - loss: 0.1156 - accuracy: 1.0000\n",
      "Epoch 71/100\n",
      "24/24 [==============================] - 0s 2ms/step - loss: 0.1139 - accuracy: 1.0000\n",
      "Epoch 72/100\n",
      "24/24 [==============================] - 0s 3ms/step - loss: 0.1122 - accuracy: 1.0000\n",
      "Epoch 73/100\n",
      "24/24 [==============================] - 0s 2ms/step - loss: 0.1106 - accuracy: 1.0000\n",
      "Epoch 74/100\n",
      "24/24 [==============================] - 0s 2ms/step - loss: 0.1090 - accuracy: 1.0000\n",
      "Epoch 75/100\n",
      "24/24 [==============================] - 0s 2ms/step - loss: 0.1074 - accuracy: 1.0000\n",
      "Epoch 76/100\n",
      "24/24 [==============================] - 0s 1ms/step - loss: 0.1059 - accuracy: 1.0000\n",
      "Epoch 77/100\n",
      "24/24 [==============================] - 0s 2ms/step - loss: 0.1044 - accuracy: 1.0000\n",
      "Epoch 78/100\n",
      "24/24 [==============================] - 0s 1ms/step - loss: 0.1029 - accuracy: 1.0000\n",
      "Epoch 79/100\n",
      "24/24 [==============================] - 0s 2ms/step - loss: 0.1014 - accuracy: 1.0000\n",
      "Epoch 80/100\n",
      "24/24 [==============================] - 0s 2ms/step - loss: 0.1000 - accuracy: 1.0000\n",
      "Epoch 81/100\n",
      "24/24 [==============================] - 0s 2ms/step - loss: 0.0986 - accuracy: 1.0000\n",
      "Epoch 82/100\n",
      "24/24 [==============================] - 0s 2ms/step - loss: 0.0972 - accuracy: 1.0000\n",
      "Epoch 83/100\n",
      "24/24 [==============================] - 0s 1ms/step - loss: 0.0958 - accuracy: 1.0000\n",
      "Epoch 84/100\n",
      "24/24 [==============================] - 0s 2ms/step - loss: 0.0945 - accuracy: 1.0000\n",
      "Epoch 85/100\n",
      "24/24 [==============================] - 0s 2ms/step - loss: 0.0932 - accuracy: 1.0000\n",
      "Epoch 86/100\n",
      "24/24 [==============================] - 0s 2ms/step - loss: 0.0919 - accuracy: 1.0000\n",
      "Epoch 87/100\n",
      "24/24 [==============================] - 0s 2ms/step - loss: 0.0906 - accuracy: 1.0000\n",
      "Epoch 88/100\n",
      "24/24 [==============================] - 0s 2ms/step - loss: 0.0893 - accuracy: 1.0000\n",
      "Epoch 89/100\n",
      "24/24 [==============================] - 0s 1ms/step - loss: 0.0881 - accuracy: 1.0000\n",
      "Epoch 90/100\n",
      "24/24 [==============================] - 0s 1ms/step - loss: 0.0869 - accuracy: 1.0000\n",
      "Epoch 91/100\n",
      "24/24 [==============================] - 0s 3ms/step - loss: 0.0857 - accuracy: 1.0000\n",
      "Epoch 92/100\n",
      "24/24 [==============================] - 0s 2ms/step - loss: 0.0846 - accuracy: 1.0000\n",
      "Epoch 93/100\n",
      "24/24 [==============================] - 0s 2ms/step - loss: 0.0834 - accuracy: 1.0000\n",
      "Epoch 94/100\n",
      "24/24 [==============================] - 0s 2ms/step - loss: 0.0823 - accuracy: 1.0000\n",
      "Epoch 95/100\n",
      "24/24 [==============================] - 0s 2ms/step - loss: 0.0812 - accuracy: 1.0000\n",
      "Epoch 96/100\n",
      "24/24 [==============================] - 0s 2ms/step - loss: 0.0801 - accuracy: 1.0000\n",
      "Epoch 97/100\n",
      "24/24 [==============================] - 0s 1ms/step - loss: 0.0790 - accuracy: 1.0000\n",
      "Epoch 98/100\n",
      "24/24 [==============================] - 0s 3ms/step - loss: 0.0780 - accuracy: 1.0000\n",
      "Epoch 99/100\n",
      "24/24 [==============================] - 0s 2ms/step - loss: 0.0769 - accuracy: 1.0000\n",
      "Epoch 100/100\n",
      "24/24 [==============================] - 0s 2ms/step - loss: 0.0759 - accuracy: 1.0000\n"
     ]
    }
   ],
   "source": [
    "# Fitting the model with linear dummy data\n",
    "model = neuron.fit(X_train_scaled, y_train, epochs=100)"
   ]
  },
  {
   "cell_type": "markdown",
   "metadata": {},
   "source": [
    " ### Evaluate the Model\n",
    "\n",
    " #### Plotting the Loss Function and Accuracy"
   ]
  },
  {
   "cell_type": "code",
   "execution_count": 29,
   "metadata": {},
   "outputs": [
    {
     "data": {
      "text/plain": [
       "<matplotlib.axes._subplots.AxesSubplot at 0x26e518983a0>"
      ]
     },
     "execution_count": 29,
     "metadata": {},
     "output_type": "execute_result"
    },
    {
     "data": {
      "image/png": "[encoded data removed]",
      "text/plain": [
       "<Figure size 432x288 with 1 Axes>"
      ]
     },
     "metadata": {
      "needs_background": "light"
     },
     "output_type": "display_data"
    }
   ],
   "source": [
    "# Create a DataFrame with the history dictionary\n",
    "df = pd.DataFrame(model.history, index=range(1, len(model.history[\"loss\"]) + 1))\n",
    "# Plot the loss\n",
    "df.plot(y=\"loss\")"
   ]
  },
  {
   "cell_type": "code",
   "execution_count": 30,
   "metadata": {},
   "outputs": [
    {
     "data": {
      "text/plain": [
       "<matplotlib.axes._subplots.AxesSubplot at 0x26e518f3d00>"
      ]
     },
     "execution_count": 30,
     "metadata": {},
     "output_type": "execute_result"
    },
    {
     "data": {
      "image/png": "[encoded data removed]",
      "text/plain": [
       "<Figure size 432x288 with 1 Axes>"
      ]
     },
     "metadata": {
      "needs_background": "light"
     },
     "output_type": "display_data"
    }
   ],
   "source": [
    "# Plot the accuracy\n",
    "df.plot(y=\"accuracy\")"
   ]
  },
  {
   "cell_type": "markdown",
   "metadata": {},
   "source": [
    " #### Evaluating the Model Using Testing Data"
   ]
  },
  {
   "cell_type": "code",
   "execution_count": 31,
   "metadata": {},
   "outputs": [
    {
     "name": "stdout",
     "output_type": "stream",
     "text": [
      "8/8 - 0s - loss: 0.0712 - accuracy: 1.0000\n",
      "Loss: 0.0711943730711937, Accuracy: 1.0\n"
     ]
    }
   ],
   "source": [
    "# Evaluate the model fit with linear dummy data\n",
    "model_loss, model_accuracy = neuron.evaluate(X_test_scaled, y_test, verbose=2)\n",
    "print(f\"Loss: {model_loss}, Accuracy: {model_accuracy}\")"
   ]
  },
  {
   "cell_type": "markdown",
   "metadata": {},
   "source": [
    " ### Making Predictions with New Data"
   ]
  },
  {
   "cell_type": "code",
   "execution_count": 32,
   "metadata": {},
   "outputs": [],
   "source": [
    "# Create 10 new samples of dummy data\n",
    "new_X, new_y = make_blobs(n_samples=10, centers=2, n_features=2, random_state=78)"
   ]
  },
  {
   "cell_type": "code",
   "execution_count": 33,
   "metadata": {},
   "outputs": [
    {
     "name": "stdout",
     "output_type": "stream",
     "text": [
      "WARNING:tensorflow:From <ipython-input-33-81e6be9bca0b>:2: Sequential.predict_classes (from tensorflow.python.keras.engine.sequential) is deprecated and will be removed after 2021-01-01.\n",
      "Instructions for updating:\n",
      "Please use instead:* `np.argmax(model.predict(x), axis=-1)`,   if your model does multi-class classification   (e.g. if it uses a `softmax` last-layer activation).* `(model.predict(x) > 0.5).astype(\"int32\")`,   if your model does binary classification   (e.g. if it uses a `sigmoid` last-layer activation).\n"
     ]
    },
    {
     "data": {
      "text/html": [
       "<div>\n",
       "<style scoped>\n",
       "    .dataframe tbody tr th:only-of-type {\n",
       "        vertical-align: middle;\n",
       "    }\n",
       "\n",
       "    .dataframe tbody tr th {\n",
       "        vertical-align: top;\n",
       "    }\n",
       "\n",
       "    .dataframe thead th {\n",
       "        text-align: right;\n",
       "    }\n",
       "</style>\n",
       "<table border=\"1\" class=\"dataframe\">\n",
       "  <thead>\n",
       "    <tr style=\"text-align: right;\">\n",
       "      <th></th>\n",
       "      <th>predictions</th>\n",
       "      <th>actual</th>\n",
       "    </tr>\n",
       "  </thead>\n",
       "  <tbody>\n",
       "    <tr>\n",
       "      <th>0</th>\n",
       "      <td>0</td>\n",
       "      <td>0</td>\n",
       "    </tr>\n",
       "    <tr>\n",
       "      <th>1</th>\n",
       "      <td>1</td>\n",
       "      <td>1</td>\n",
       "    </tr>\n",
       "    <tr>\n",
       "      <th>2</th>\n",
       "      <td>0</td>\n",
       "      <td>0</td>\n",
       "    </tr>\n",
       "    <tr>\n",
       "      <th>3</th>\n",
       "      <td>1</td>\n",
       "      <td>1</td>\n",
       "    </tr>\n",
       "    <tr>\n",
       "      <th>4</th>\n",
       "      <td>0</td>\n",
       "      <td>0</td>\n",
       "    </tr>\n",
       "    <tr>\n",
       "      <th>5</th>\n",
       "      <td>0</td>\n",
       "      <td>0</td>\n",
       "    </tr>\n",
       "    <tr>\n",
       "      <th>6</th>\n",
       "      <td>1</td>\n",
       "      <td>1</td>\n",
       "    </tr>\n",
       "    <tr>\n",
       "      <th>7</th>\n",
       "      <td>1</td>\n",
       "      <td>1</td>\n",
       "    </tr>\n",
       "    <tr>\n",
       "      <th>8</th>\n",
       "      <td>1</td>\n",
       "      <td>1</td>\n",
       "    </tr>\n",
       "    <tr>\n",
       "      <th>9</th>\n",
       "      <td>0</td>\n",
       "      <td>0</td>\n",
       "    </tr>\n",
       "  </tbody>\n",
       "</table>\n",
       "</div>"
      ],
      "text/plain": [
       "   predictions  actual\n",
       "0            0       0\n",
       "1            1       1\n",
       "2            0       0\n",
       "3            1       1\n",
       "4            0       0\n",
       "5            0       0\n",
       "6            1       1\n",
       "7            1       1\n",
       "8            1       1\n",
       "9            0       0"
      ]
     },
     "execution_count": 33,
     "metadata": {},
     "output_type": "execute_result"
    }
   ],
   "source": [
    "# Making predictions\n",
    "predictions = neuron.predict_classes(new_X)\n",
    "results = pd.DataFrame({\"predictions\": predictions.ravel(), \"actual\": new_y})\n",
    "results.head(10)"
   ]
  },
  {
   "cell_type": "markdown",
   "metadata": {},
   "source": [
    "---"
   ]
  },
  {
   "cell_type": "markdown",
   "metadata": {},
   "source": [
    "# Using a Single Neuron for Non-Linear Data\n",
    "\n",
    "### Creating Demo Data:"
   ]
  },
  {
   "cell_type": "code",
   "execution_count": 44,
   "metadata": {},
   "outputs": [],
   "source": [
    "# Creating dummy non-linear data\n",
    "X_moons, y_moons = make_moons(n_samples=1000, noise=0.08, random_state=78)"
   ]
  },
  {
   "cell_type": "code",
   "execution_count": 45,
   "metadata": {},
   "outputs": [],
   "source": [
    "# Transforming y_moons to a vertical vector\n",
    "y_moons = y_moons.reshape(-1, 1)"
   ]
  },
  {
   "cell_type": "code",
   "execution_count": 46,
   "metadata": {},
   "outputs": [
    {
     "data": {
      "text/html": [
       "<div>\n",
       "<style scoped>\n",
       "    .dataframe tbody tr th:only-of-type {\n",
       "        vertical-align: middle;\n",
       "    }\n",
       "\n",
       "    .dataframe tbody tr th {\n",
       "        vertical-align: top;\n",
       "    }\n",
       "\n",
       "    .dataframe thead th {\n",
       "        text-align: right;\n",
       "    }\n",
       "</style>\n",
       "<table border=\"1\" class=\"dataframe\">\n",
       "  <thead>\n",
       "    <tr style=\"text-align: right;\">\n",
       "      <th></th>\n",
       "      <th>Feature 1</th>\n",
       "      <th>Feature 2</th>\n",
       "      <th>Target</th>\n",
       "    </tr>\n",
       "  </thead>\n",
       "  <tbody>\n",
       "    <tr>\n",
       "      <th>0</th>\n",
       "      <td>0.676217</td>\n",
       "      <td>0.815220</td>\n",
       "      <td>0</td>\n",
       "    </tr>\n",
       "    <tr>\n",
       "      <th>1</th>\n",
       "      <td>1.487143</td>\n",
       "      <td>-0.210519</td>\n",
       "      <td>1</td>\n",
       "    </tr>\n",
       "    <tr>\n",
       "      <th>2</th>\n",
       "      <td>-1.027709</td>\n",
       "      <td>0.354966</td>\n",
       "      <td>0</td>\n",
       "    </tr>\n",
       "    <tr>\n",
       "      <th>3</th>\n",
       "      <td>0.236012</td>\n",
       "      <td>1.025531</td>\n",
       "      <td>0</td>\n",
       "    </tr>\n",
       "    <tr>\n",
       "      <th>4</th>\n",
       "      <td>1.856695</td>\n",
       "      <td>-0.042783</td>\n",
       "      <td>1</td>\n",
       "    </tr>\n",
       "  </tbody>\n",
       "</table>\n",
       "</div>"
      ],
      "text/plain": [
       "   Feature 1  Feature 2  Target\n",
       "0   0.676217   0.815220       0\n",
       "1   1.487143  -0.210519       1\n",
       "2  -1.027709   0.354966       0\n",
       "3   0.236012   1.025531       0\n",
       "4   1.856695  -0.042783       1"
      ]
     },
     "execution_count": 46,
     "metadata": {},
     "output_type": "execute_result"
    }
   ],
   "source": [
    "# Creating a DataFrame to plot the non-linear dummy data\n",
    "df_moons = pd.DataFrame(X_moons, columns=[\"Feature 1\", \"Feature 2\"])\n",
    "df_moons[\"Target\"] = y_moons\n",
    "df_moons.head()"
   ]
  },
  {
   "cell_type": "code",
   "execution_count": 47,
   "metadata": {},
   "outputs": [
    {
     "data": {
      "text/plain": [
       "<matplotlib.axes._subplots.AxesSubplot at 0x26e517bc0d0>"
      ]
     },
     "execution_count": 47,
     "metadata": {},
     "output_type": "execute_result"
    },
    {
     "data": {
      "image/png": "[encoded data removed]",
      "text/plain": [
       "<Figure size 432x288 with 2 Axes>"
      ]
     },
     "metadata": {
      "needs_background": "light"
     },
     "output_type": "display_data"
    }
   ],
   "source": [
    "# Plotting the non-linear dummy data\n",
    "df_moons.plot.scatter(x=\"Feature 1\", y=\"Feature 2\", c=\"Target\", colormap=\"winter\")"
   ]
  },
  {
   "cell_type": "markdown",
   "metadata": {},
   "source": [
    "### Data Preprocessing\n",
    "\n",
    "Use `train_test_split` to create training and testing data."
   ]
  },
  {
   "cell_type": "code",
   "execution_count": 48,
   "metadata": {},
   "outputs": [],
   "source": [
    "# Create training and testing sets\n",
    "X_moon_train, X_moon_test, y_moon_train, y_moon_test = train_test_split(\n",
    "    X_moons, y_moons, random_state=78\n",
    ")"
   ]
  },
  {
   "cell_type": "markdown",
   "metadata": {},
   "source": [
    " Scale the data"
   ]
  },
  {
   "cell_type": "code",
   "execution_count": 49,
   "metadata": {},
   "outputs": [],
   "source": [
    "# Create the scaler instance\n",
    "X_moon_scaler = StandardScaler()"
   ]
  },
  {
   "cell_type": "code",
   "execution_count": 50,
   "metadata": {},
   "outputs": [
    {
     "data": {
      "text/plain": [
       "StandardScaler()"
      ]
     },
     "execution_count": 50,
     "metadata": {},
     "output_type": "execute_result"
    }
   ],
   "source": [
    "# Fit the scaler\n",
    "X_moon_scaler.fit(X_moon_train)"
   ]
  },
  {
   "cell_type": "code",
   "execution_count": 51,
   "metadata": {},
   "outputs": [],
   "source": [
    "# Scale the data\n",
    "X_moon_train_scaled = X_moon_scaler.transform(X_moon_train)\n",
    "X_moon_test_scaled = X_moon_scaler.transform(X_moon_test)"
   ]
  },
  {
   "cell_type": "markdown",
   "metadata": {},
   "source": [
    " ### Fit the Model"
   ]
  },
  {
   "cell_type": "code",
   "execution_count": 52,
   "metadata": {},
   "outputs": [
    {
     "name": "stdout",
     "output_type": "stream",
     "text": [
      "Epoch 1/100\n",
      "24/24 [==============================] - 0s 2ms/step - loss: 1.2377 - accuracy: 0.5013\n",
      "Epoch 2/100\n",
      "24/24 [==============================] - 0s 3ms/step - loss: 1.0506 - accuracy: 0.5267\n",
      "Epoch 3/100\n",
      "24/24 [==============================] - 0s 3ms/step - loss: 0.9331 - accuracy: 0.5507\n",
      "Epoch 4/100\n",
      "24/24 [==============================] - 0s 3ms/step - loss: 0.8588 - accuracy: 0.5653\n",
      "Epoch 5/100\n",
      "24/24 [==============================] - 0s 4ms/step - loss: 0.8052 - accuracy: 0.5840\n",
      "Epoch 6/100\n",
      "24/24 [==============================] - 0s 4ms/step - loss: 0.7654 - accuracy: 0.5933\n",
      "Epoch 7/100\n",
      "24/24 [==============================] - 0s 3ms/step - loss: 0.7336 - accuracy: 0.6067\n",
      "Epoch 8/100\n",
      "24/24 [==============================] - 0s 3ms/step - loss: 0.7075 - accuracy: 0.6160\n",
      "Epoch 9/100\n",
      "24/24 [==============================] - ETA: 0s - loss: 0.6556 - accuracy: 0.65 - 0s 3ms/step - loss: 0.6855 - accuracy: 0.6320\n",
      "Epoch 10/100\n",
      "24/24 [==============================] - 0s 2ms/step - loss: 0.6670 - accuracy: 0.6400\n",
      "Epoch 11/100\n",
      "24/24 [==============================] - 0s 3ms/step - loss: 0.6505 - accuracy: 0.6427\n",
      "Epoch 12/100\n",
      "24/24 [==============================] - 0s 2ms/step - loss: 0.6359 - accuracy: 0.6560\n",
      "Epoch 13/100\n",
      "24/24 [==============================] - 0s 3ms/step - loss: 0.6225 - accuracy: 0.6613\n",
      "Epoch 14/100\n",
      "24/24 [==============================] - 0s 3ms/step - loss: 0.6099 - accuracy: 0.6680\n",
      "Epoch 15/100\n",
      "24/24 [==============================] - 0s 2ms/step - loss: 0.5985 - accuracy: 0.6760\n",
      "Epoch 16/100\n",
      "24/24 [==============================] - 0s 4ms/step - loss: 0.5876 - accuracy: 0.6787\n",
      "Epoch 17/100\n",
      "24/24 [==============================] - 0s 4ms/step - loss: 0.5769 - accuracy: 0.6867\n",
      "Epoch 18/100\n",
      "24/24 [==============================] - 0s 3ms/step - loss: 0.5670 - accuracy: 0.6907\n",
      "Epoch 19/100\n",
      "24/24 [==============================] - 0s 3ms/step - loss: 0.5575 - accuracy: 0.6987\n",
      "Epoch 20/100\n",
      "24/24 [==============================] - 0s 3ms/step - loss: 0.5489 - accuracy: 0.7027\n",
      "Epoch 21/100\n",
      "24/24 [==============================] - 0s 3ms/step - loss: 0.5404 - accuracy: 0.7107: 0s - loss: 0.5639 - accuracy: 0.69\n",
      "Epoch 22/100\n",
      "24/24 [==============================] - 0s 3ms/step - loss: 0.5321 - accuracy: 0.7120\n",
      "Epoch 23/100\n",
      "24/24 [==============================] - 0s 2ms/step - loss: 0.5241 - accuracy: 0.7200\n",
      "Epoch 24/100\n",
      "24/24 [==============================] - 0s 2ms/step - loss: 0.5164 - accuracy: 0.7253\n",
      "Epoch 25/100\n",
      "24/24 [==============================] - 0s 3ms/step - loss: 0.5091 - accuracy: 0.7307\n",
      "Epoch 26/100\n",
      "24/24 [==============================] - 0s 4ms/step - loss: 0.5020 - accuracy: 0.7373\n",
      "Epoch 27/100\n",
      "24/24 [==============================] - 0s 4ms/step - loss: 0.4951 - accuracy: 0.7427\n",
      "Epoch 28/100\n",
      "24/24 [==============================] - 0s 3ms/step - loss: 0.4885 - accuracy: 0.7453\n",
      "Epoch 29/100\n",
      "24/24 [==============================] - 0s 3ms/step - loss: 0.4822 - accuracy: 0.7480\n",
      "Epoch 30/100\n",
      "24/24 [==============================] - 0s 4ms/step - loss: 0.4759 - accuracy: 0.7507\n",
      "Epoch 31/100\n",
      "24/24 [==============================] - 0s 4ms/step - loss: 0.4694 - accuracy: 0.7573\n",
      "Epoch 32/100\n",
      "24/24 [==============================] - 0s 8ms/step - loss: 0.4630 - accuracy: 0.7600\n",
      "Epoch 33/100\n",
      "24/24 [==============================] - 0s 9ms/step - loss: 0.4565 - accuracy: 0.7693\n",
      "Epoch 34/100\n",
      "24/24 [==============================] - 0s 7ms/step - loss: 0.4501 - accuracy: 0.7707\n",
      "Epoch 35/100\n",
      "24/24 [==============================] - 0s 5ms/step - loss: 0.4438 - accuracy: 0.7747\n",
      "Epoch 36/100\n",
      "24/24 [==============================] - 0s 4ms/step - loss: 0.4373 - accuracy: 0.7787\n",
      "Epoch 37/100\n",
      "24/24 [==============================] - 0s 3ms/step - loss: 0.4309 - accuracy: 0.7827\n",
      "Epoch 38/100\n",
      "24/24 [==============================] - 0s 3ms/step - loss: 0.4247 - accuracy: 0.7867\n",
      "Epoch 39/100\n",
      "24/24 [==============================] - 0s 5ms/step - loss: 0.4186 - accuracy: 0.7893\n",
      "Epoch 40/100\n",
      "24/24 [==============================] - 0s 4ms/step - loss: 0.4125 - accuracy: 0.7907\n",
      "Epoch 41/100\n",
      "24/24 [==============================] - 0s 4ms/step - loss: 0.4064 - accuracy: 0.7933\n",
      "Epoch 42/100\n",
      "24/24 [==============================] - 0s 4ms/step - loss: 0.4006 - accuracy: 0.7960\n",
      "Epoch 43/100\n",
      "24/24 [==============================] - 0s 4ms/step - loss: 0.3942 - accuracy: 0.8000\n",
      "Epoch 44/100\n",
      "24/24 [==============================] - 0s 6ms/step - loss: 0.3881 - accuracy: 0.8080\n",
      "Epoch 45/100\n",
      "24/24 [==============================] - 0s 13ms/step - loss: 0.3822 - accuracy: 0.8147\n",
      "Epoch 46/100\n",
      "24/24 [==============================] - 0s 8ms/step - loss: 0.3764 - accuracy: 0.8240\n",
      "Epoch 47/100\n",
      "24/24 [==============================] - 0s 6ms/step - loss: 0.3706 - accuracy: 0.8240\n",
      "Epoch 48/100\n",
      "24/24 [==============================] - 0s 5ms/step - loss: 0.3652 - accuracy: 0.8280\n",
      "Epoch 49/100\n",
      "24/24 [==============================] - 0s 4ms/step - loss: 0.3600 - accuracy: 0.8333\n",
      "Epoch 50/100\n",
      "24/24 [==============================] - 0s 4ms/step - loss: 0.3551 - accuracy: 0.8347\n",
      "Epoch 51/100\n",
      "24/24 [==============================] - 0s 4ms/step - loss: 0.3503 - accuracy: 0.8373\n",
      "Epoch 52/100\n",
      "24/24 [==============================] - 0s 4ms/step - loss: 0.3452 - accuracy: 0.8387\n",
      "Epoch 53/100\n",
      "24/24 [==============================] - 0s 4ms/step - loss: 0.3406 - accuracy: 0.8427\n",
      "Epoch 54/100\n",
      "24/24 [==============================] - 0s 4ms/step - loss: 0.3360 - accuracy: 0.8467\n",
      "Epoch 55/100\n",
      "24/24 [==============================] - 0s 4ms/step - loss: 0.3317 - accuracy: 0.8493\n",
      "Epoch 56/100\n",
      "24/24 [==============================] - 0s 3ms/step - loss: 0.3278 - accuracy: 0.8520\n",
      "Epoch 57/100\n",
      "24/24 [==============================] - 0s 9ms/step - loss: 0.3239 - accuracy: 0.8573\n",
      "Epoch 58/100\n",
      "24/24 [==============================] - 0s 6ms/step - loss: 0.3203 - accuracy: 0.8587\n",
      "Epoch 59/100\n",
      "24/24 [==============================] - 0s 4ms/step - loss: 0.3173 - accuracy: 0.8653\n",
      "Epoch 60/100\n",
      "24/24 [==============================] - 0s 3ms/step - loss: 0.3141 - accuracy: 0.8667\n",
      "Epoch 61/100\n",
      "24/24 [==============================] - 0s 3ms/step - loss: 0.3114 - accuracy: 0.8667\n",
      "Epoch 62/100\n",
      "24/24 [==============================] - 0s 3ms/step - loss: 0.3089 - accuracy: 0.8720\n",
      "Epoch 63/100\n",
      "24/24 [==============================] - 0s 3ms/step - loss: 0.3062 - accuracy: 0.8747\n",
      "Epoch 64/100\n",
      "24/24 [==============================] - 0s 4ms/step - loss: 0.3040 - accuracy: 0.8773\n",
      "Epoch 65/100\n",
      "24/24 [==============================] - 0s 3ms/step - loss: 0.3019 - accuracy: 0.8800\n",
      "Epoch 66/100\n",
      "24/24 [==============================] - 0s 3ms/step - loss: 0.3001 - accuracy: 0.8813\n",
      "Epoch 67/100\n",
      "24/24 [==============================] - 0s 7ms/step - loss: 0.2984 - accuracy: 0.8827\n",
      "Epoch 68/100\n",
      "24/24 [==============================] - 0s 5ms/step - loss: 0.2968 - accuracy: 0.8840\n",
      "Epoch 69/100\n",
      "24/24 [==============================] - 0s 3ms/step - loss: 0.2954 - accuracy: 0.8840\n",
      "Epoch 70/100\n",
      "24/24 [==============================] - 0s 4ms/step - loss: 0.2941 - accuracy: 0.8867\n",
      "Epoch 71/100\n",
      "24/24 [==============================] - 0s 3ms/step - loss: 0.2929 - accuracy: 0.8880\n",
      "Epoch 72/100\n",
      "24/24 [==============================] - 0s 4ms/step - loss: 0.2919 - accuracy: 0.8880\n",
      "Epoch 73/100\n",
      "24/24 [==============================] - 0s 5ms/step - loss: 0.2908 - accuracy: 0.8893\n",
      "Epoch 74/100\n",
      "24/24 [==============================] - 0s 4ms/step - loss: 0.2900 - accuracy: 0.8893\n",
      "Epoch 75/100\n",
      "24/24 [==============================] - 0s 3ms/step - loss: 0.2891 - accuracy: 0.8920\n",
      "Epoch 76/100\n",
      "24/24 [==============================] - 0s 3ms/step - loss: 0.2882 - accuracy: 0.8920\n",
      "Epoch 77/100\n",
      "24/24 [==============================] - 0s 2ms/step - loss: 0.2873 - accuracy: 0.8920\n",
      "Epoch 78/100\n",
      "24/24 [==============================] - 0s 3ms/step - loss: 0.2865 - accuracy: 0.8920\n",
      "Epoch 79/100\n",
      "24/24 [==============================] - 0s 3ms/step - loss: 0.2858 - accuracy: 0.8933\n",
      "Epoch 80/100\n",
      "24/24 [==============================] - 0s 6ms/step - loss: 0.2850 - accuracy: 0.8933\n",
      "Epoch 81/100\n",
      "24/24 [==============================] - 0s 4ms/step - loss: 0.2842 - accuracy: 0.8920\n",
      "Epoch 82/100\n",
      "24/24 [==============================] - 0s 3ms/step - loss: 0.2835 - accuracy: 0.8920\n",
      "Epoch 83/100\n",
      "24/24 [==============================] - 0s 3ms/step - loss: 0.2828 - accuracy: 0.8920\n",
      "Epoch 84/100\n",
      "24/24 [==============================] - 0s 3ms/step - loss: 0.2821 - accuracy: 0.8920\n",
      "Epoch 85/100\n",
      "24/24 [==============================] - 0s 3ms/step - loss: 0.2815 - accuracy: 0.8920\n",
      "Epoch 86/100\n",
      "24/24 [==============================] - 0s 3ms/step - loss: 0.2809 - accuracy: 0.8920\n",
      "Epoch 87/100\n",
      "24/24 [==============================] - 0s 3ms/step - loss: 0.2802 - accuracy: 0.8907\n",
      "Epoch 88/100\n",
      "24/24 [==============================] - 0s 3ms/step - loss: 0.2796 - accuracy: 0.8907\n",
      "Epoch 89/100\n",
      "24/24 [==============================] - 0s 3ms/step - loss: 0.2791 - accuracy: 0.8907\n",
      "Epoch 90/100\n",
      "24/24 [==============================] - 0s 5ms/step - loss: 0.2785 - accuracy: 0.8907\n",
      "Epoch 91/100\n",
      "24/24 [==============================] - 0s 4ms/step - loss: 0.2779 - accuracy: 0.8907\n",
      "Epoch 92/100\n",
      "24/24 [==============================] - 0s 3ms/step - loss: 0.2774 - accuracy: 0.8907\n",
      "Epoch 93/100\n",
      "24/24 [==============================] - 0s 4ms/step - loss: 0.2769 - accuracy: 0.8920\n",
      "Epoch 94/100\n",
      "24/24 [==============================] - 0s 3ms/step - loss: 0.2763 - accuracy: 0.8920\n",
      "Epoch 95/100\n",
      "24/24 [==============================] - 0s 3ms/step - loss: 0.2758 - accuracy: 0.8920\n",
      "Epoch 96/100\n",
      "24/24 [==============================] - 0s 3ms/step - loss: 0.2753 - accuracy: 0.8920\n",
      "Epoch 97/100\n",
      "24/24 [==============================] - 0s 3ms/step - loss: 0.2750 - accuracy: 0.8920\n",
      "Epoch 98/100\n",
      "24/24 [==============================] - 0s 3ms/step - loss: 0.2745 - accuracy: 0.8920\n",
      "Epoch 99/100\n",
      "24/24 [==============================] - 0s 4ms/step - loss: 0.2739 - accuracy: 0.8920\n",
      "Epoch 100/100\n",
      "24/24 [==============================] - 0s 5ms/step - loss: 0.2736 - accuracy: 0.8920\n"
     ]
    }
   ],
   "source": [
    "# Training the model with the non-linear data\n",
    "model_moon = neuron.fit(X_moon_train_scaled, y_moon_train, epochs=100)"
   ]
  },
  {
   "cell_type": "markdown",
   "metadata": {},
   "source": [
    " ### Evaluate the Model\n",
    "\n",
    " #### Plotting the Loss Function and Accuracy"
   ]
  },
  {
   "cell_type": "code",
   "execution_count": 54,
   "metadata": {},
   "outputs": [
    {
     "data": {
      "text/plain": [
       "<matplotlib.axes._subplots.AxesSubplot at 0x26e51cf9af0>"
      ]
     },
     "execution_count": 54,
     "metadata": {},
     "output_type": "execute_result"
    },
    {
     "data": {
      "image/png": "[encoded data removed]",
      "text/plain": [
       "<Figure size 432x288 with 1 Axes>"
      ]
     },
     "metadata": {
      "needs_background": "light"
     },
     "output_type": "display_data"
    }
   ],
   "source": [
    "# Create a DataFrame with the history dictionary\n",
    "df_moon = pd.DataFrame(\n",
    "    model_moon.history, index=range(1, len(model_moon.history[\"loss\"]) + 1)\n",
    ")\n",
    "\n",
    "# Plot the loss\n",
    "df_moon.plot(y=\"loss\")"
   ]
  },
  {
   "cell_type": "code",
   "execution_count": 55,
   "metadata": {},
   "outputs": [
    {
     "data": {
      "text/plain": [
       "<matplotlib.axes._subplots.AxesSubplot at 0x26e51d4dac0>"
      ]
     },
     "execution_count": 55,
     "metadata": {},
     "output_type": "execute_result"
    },
    {
     "data": {
      "image/png": "[encoded data removed]",
      "text/plain": [
       "<Figure size 432x288 with 1 Axes>"
      ]
     },
     "metadata": {
      "needs_background": "light"
     },
     "output_type": "display_data"
    }
   ],
   "source": [
    "# Plot the accuracy\n",
    "df_moon.plot(y=\"accuracy\")"
   ]
  },
  {
   "cell_type": "markdown",
   "metadata": {},
   "source": [
    " #### Evaluating the Model Using Testing Data"
   ]
  },
  {
   "cell_type": "code",
   "execution_count": 56,
   "metadata": {},
   "outputs": [
    {
     "name": "stdout",
     "output_type": "stream",
     "text": [
      "8/8 - 0s - loss: 0.2742 - accuracy: 0.8560\n",
      "Loss: 0.2741573452949524, Accuracy: 0.8560000061988831\n"
     ]
    }
   ],
   "source": [
    "# Evaluate the model using non-linear data\n",
    "model_moon_loss, model_moon_accuracy = neuron.evaluate(\n",
    "    X_moon_test_scaled, y_moon_test, verbose=2\n",
    ")\n",
    "print(f\"Loss: {model_moon_loss}, Accuracy: {model_moon_accuracy}\")"
   ]
  },
  {
   "cell_type": "markdown",
   "metadata": {},
   "source": [
    " ### Making Predictions"
   ]
  },
  {
   "cell_type": "code",
   "execution_count": 57,
   "metadata": {},
   "outputs": [],
   "source": [
    "# Create demo data\n",
    "X_new_moons, y_new_moons = make_moons(n_samples=10, noise=0.08, random_state=78)"
   ]
  },
  {
   "cell_type": "code",
   "execution_count": 58,
   "metadata": {},
   "outputs": [
    {
     "data": {
      "text/html": [
       "<div>\n",
       "<style scoped>\n",
       "    .dataframe tbody tr th:only-of-type {\n",
       "        vertical-align: middle;\n",
       "    }\n",
       "\n",
       "    .dataframe tbody tr th {\n",
       "        vertical-align: top;\n",
       "    }\n",
       "\n",
       "    .dataframe thead th {\n",
       "        text-align: right;\n",
       "    }\n",
       "</style>\n",
       "<table border=\"1\" class=\"dataframe\">\n",
       "  <thead>\n",
       "    <tr style=\"text-align: right;\">\n",
       "      <th></th>\n",
       "      <th>predictions</th>\n",
       "      <th>actual</th>\n",
       "    </tr>\n",
       "  </thead>\n",
       "  <tbody>\n",
       "    <tr>\n",
       "      <th>0</th>\n",
       "      <td>0</td>\n",
       "      <td>0</td>\n",
       "    </tr>\n",
       "    <tr>\n",
       "      <th>1</th>\n",
       "      <td>0</td>\n",
       "      <td>0</td>\n",
       "    </tr>\n",
       "    <tr>\n",
       "      <th>2</th>\n",
       "      <td>0</td>\n",
       "      <td>0</td>\n",
       "    </tr>\n",
       "    <tr>\n",
       "      <th>3</th>\n",
       "      <td>1</td>\n",
       "      <td>1</td>\n",
       "    </tr>\n",
       "    <tr>\n",
       "      <th>4</th>\n",
       "      <td>1</td>\n",
       "      <td>1</td>\n",
       "    </tr>\n",
       "    <tr>\n",
       "      <th>5</th>\n",
       "      <td>0</td>\n",
       "      <td>0</td>\n",
       "    </tr>\n",
       "    <tr>\n",
       "      <th>6</th>\n",
       "      <td>1</td>\n",
       "      <td>0</td>\n",
       "    </tr>\n",
       "    <tr>\n",
       "      <th>7</th>\n",
       "      <td>1</td>\n",
       "      <td>1</td>\n",
       "    </tr>\n",
       "    <tr>\n",
       "      <th>8</th>\n",
       "      <td>1</td>\n",
       "      <td>1</td>\n",
       "    </tr>\n",
       "    <tr>\n",
       "      <th>9</th>\n",
       "      <td>0</td>\n",
       "      <td>1</td>\n",
       "    </tr>\n",
       "  </tbody>\n",
       "</table>\n",
       "</div>"
      ],
      "text/plain": [
       "   predictions  actual\n",
       "0            0       0\n",
       "1            0       0\n",
       "2            0       0\n",
       "3            1       1\n",
       "4            1       1\n",
       "5            0       0\n",
       "6            1       0\n",
       "7            1       1\n",
       "8            1       1\n",
       "9            0       1"
      ]
     },
     "execution_count": 58,
     "metadata": {},
     "output_type": "execute_result"
    }
   ],
   "source": [
    "# Making predictions\n",
    "# @NOTE: ravel is needed to flatten the data again. You can read more about that at https://numpy.org/doc/stable/reference/generated/numpy.ravel.html\n",
    "predictions_moon = neuron.predict_classes(X_new_moons)\n",
    "results = pd.DataFrame({\"predictions\": predictions_moon.ravel(), \"actual\": y_new_moons})\n",
    "results.head(10)"
   ]
  },
  {
   "cell_type": "code",
   "execution_count": null,
   "metadata": {},
   "outputs": [],
   "source": []
  }
 ],
 "metadata": {
  "file_extension": ".py",
  "kernelspec": {
   "display_name": "Python 3",
   "language": "python",
   "name": "python3"
  },
  "language_info": {
   "codemirror_mode": {
    "name": "ipython",
    "version": 3
   },
   "file_extension": ".py",
   "mimetype": "text/x-python",
   "name": "python",
   "nbconvert_exporter": "python",
   "pygments_lexer": "ipython3",
   "version": "3.8.3"
  },
  "mimetype": "text/x-python",
  "name": "python",
  "npconvert_exporter": "python",
  "pygments_lexer": "ipython3",
  "version": 3
 },
 "nbformat": 4,
 "nbformat_minor": 4
}
